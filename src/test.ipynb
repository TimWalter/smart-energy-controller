{
 "cells": [
  {
   "cell_type": "code",
   "execution_count": 1,
   "outputs": [],
   "source": [
    "%load_ext autoreload\n",
    "%autoreload 2"
   ],
   "metadata": {
    "collapsed": false,
    "ExecuteTime": {
     "end_time": "2023-12-20T20:16:05.501364600Z",
     "start_time": "2023-12-20T20:16:05.368765100Z"
    }
   },
   "id": "7c64959ae6f5581"
  },
  {
   "cell_type": "code",
   "execution_count": 2,
   "id": "initial_id",
   "metadata": {
    "collapsed": true,
    "ExecuteTime": {
     "end_time": "2023-12-20T20:16:12.936513800Z",
     "start_time": "2023-12-20T20:16:05.502441300Z"
    }
   },
   "outputs": [],
   "source": [
    "import numpy as np\n",
    "import matplotlib.pyplot as plt\n",
    "\n",
    "from stable_baselines3.common.env_checker import check_env\n",
    "from stable_baselines3.common.evaluation import evaluate_policy\n",
    "from stable_baselines3.common.monitor import Monitor\n",
    "from stable_baselines3 import *\n",
    "from sb3_contrib import *\n",
    "\n",
    "from utils import *"
   ]
  },
  {
   "cell_type": "code",
   "execution_count": 35,
   "outputs": [],
   "source": [
    "from src.environment.single_family_home import SingleFamilyHome\n",
    "env = Monitor(SingleFamilyHome())"
   ],
   "metadata": {
    "collapsed": false,
    "ExecuteTime": {
     "end_time": "2023-12-20T20:39:28.003400800Z",
     "start_time": "2023-12-20T20:39:24.885235700Z"
    }
   },
   "id": "c7f0646a1785b903"
  },
  {
   "cell_type": "code",
   "execution_count": 36,
   "outputs": [],
   "source": [
    "check_env(env, warn=True)"
   ],
   "metadata": {
    "collapsed": false,
    "ExecuteTime": {
     "end_time": "2023-12-20T20:39:29.574866300Z",
     "start_time": "2023-12-20T20:39:27.984403700Z"
    }
   },
   "id": "bbfe81b7f1f40f65"
  },
  {
   "cell_type": "code",
   "execution_count": null,
   "outputs": [],
   "source": [],
   "metadata": {
    "collapsed": false
   },
   "id": "37eacd00599223a"
  },
  {
   "cell_type": "code",
   "execution_count": null,
   "outputs": [],
   "source": [],
   "metadata": {
    "collapsed": false
   },
   "id": "fdb4cd2a4cc43fda"
  },
  {
   "cell_type": "code",
   "execution_count": null,
   "outputs": [],
   "source": [],
   "metadata": {
    "collapsed": false
   },
   "id": "67a91a11daacb76b"
  },
  {
   "cell_type": "code",
   "execution_count": 29,
   "outputs": [],
   "source": [
    "model = PPO(\"MlpPolicy\", env, tensorboard_log=\"./tensorboard/\")"
   ],
   "metadata": {
    "collapsed": false,
    "ExecuteTime": {
     "end_time": "2023-12-19T09:05:02.836619300Z",
     "start_time": "2023-12-19T09:05:02.182111800Z"
    }
   },
   "id": "1aee11dacc119e96"
  },
  {
   "cell_type": "code",
   "execution_count": 30,
   "outputs": [
    {
     "data": {
      "text/plain": "-10233.410858"
     },
     "execution_count": 30,
     "metadata": {},
     "output_type": "execute_result"
    }
   ],
   "source": [
    "untrained_callback = LoggingCallback()\n",
    "untrained_accumulated_reward, untrained_std_reward = evaluate_policy(model, env, n_eval_episodes=1, callback=untrained_callback)\n",
    "untrained_accumulated_reward"
   ],
   "metadata": {
    "collapsed": false,
    "ExecuteTime": {
     "end_time": "2023-12-19T09:05:34.595572600Z",
     "start_time": "2023-12-19T09:05:02.837620600Z"
    }
   },
   "id": "6e602510968278d5"
  },
  {
   "cell_type": "code",
   "execution_count": 31,
   "outputs": [],
   "source": [
    "test = model.get_parameters()"
   ],
   "metadata": {
    "collapsed": false,
    "ExecuteTime": {
     "end_time": "2023-12-19T09:05:35.217887Z",
     "start_time": "2023-12-19T09:05:34.592573300Z"
    }
   },
   "id": "9c4b23a4e0b5070c"
  },
  {
   "cell_type": "code",
   "execution_count": 32,
   "outputs": [
    {
     "data": {
      "text/plain": "<stable_baselines3.ppo.ppo.PPO at 0x25d04425210>"
     },
     "execution_count": 32,
     "metadata": {},
     "output_type": "execute_result"
    }
   ],
   "source": [
    "train_callback = LoggingCallback()\n",
    "model.learn(total_timesteps=len(env.unwrapped.components[\"intensity\"].episode)*parameter[\"model/parameters/epochs\"], callback=train_callback)"
   ],
   "metadata": {
    "collapsed": false,
    "ExecuteTime": {
     "end_time": "2023-12-19T09:14:39.816567800Z",
     "start_time": "2023-12-19T09:05:35.219887900Z"
    }
   },
   "id": "54262a1af2dde330"
  },
  {
   "cell_type": "code",
   "execution_count": 11,
   "outputs": [],
   "source": [
    "model = PPO.load(f\"./models/{name}\")"
   ],
   "metadata": {
    "collapsed": false,
    "ExecuteTime": {
     "end_time": "2023-12-20T10:01:51.755149Z",
     "start_time": "2023-12-20T10:01:50.420770300Z"
    }
   },
   "id": "38d61fc2f490a19e"
  },
  {
   "cell_type": "code",
   "execution_count": 10,
   "outputs": [
    {
     "data": {
      "text/plain": "-255.633984"
     },
     "execution_count": 10,
     "metadata": {},
     "output_type": "execute_result"
    }
   ],
   "source": [
    "from baselines.idle import Idle\n",
    "idle = Idle(env)\n",
    "idle_callback = LoggingCallback()\n",
    "idle_accumulated_reward, idle_std_reward = evaluate_policy(idle, env, n_eval_episodes=1, callback=idle_callback)\n",
    "idle_accumulated_reward"
   ],
   "metadata": {
    "collapsed": false,
    "ExecuteTime": {
     "end_time": "2023-12-20T10:01:50.420770300Z",
     "start_time": "2023-12-20T10:01:42.780059100Z"
    }
   },
   "id": "eac373c43cc75f3b"
  },
  {
   "cell_type": "code",
   "execution_count": 12,
   "outputs": [
    {
     "data": {
      "text/plain": "-255.633984"
     },
     "execution_count": 12,
     "metadata": {},
     "output_type": "execute_result"
    }
   ],
   "source": [
    "trained_callback = LoggingCallback()\n",
    "trained_accumulated_reward, trained_std_reward = evaluate_policy(model, env, n_eval_episodes=1, callback=trained_callback)\n",
    "trained_accumulated_reward"
   ],
   "metadata": {
    "collapsed": false,
    "ExecuteTime": {
     "end_time": "2023-12-20T10:02:10.249054300Z",
     "start_time": "2023-12-20T10:01:51.757230700Z"
    }
   },
   "id": "127e2bfed41716c0"
  },
  {
   "cell_type": "code",
   "execution_count": null,
   "outputs": [],
   "source": [],
   "metadata": {
    "collapsed": false
   },
   "id": "ff5cac4c9716228"
  }
 ],
 "metadata": {
  "kernelspec": {
   "display_name": "Python 3",
   "language": "python",
   "name": "python3"
  },
  "language_info": {
   "codemirror_mode": {
    "name": "ipython",
    "version": 2
   },
   "file_extension": ".py",
   "mimetype": "text/x-python",
   "name": "python",
   "nbconvert_exporter": "python",
   "pygments_lexer": "ipython2",
   "version": "2.7.6"
  }
 },
 "nbformat": 4,
 "nbformat_minor": 5
}
