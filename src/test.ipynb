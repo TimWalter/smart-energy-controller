{
 "cells": [
  {
   "cell_type": "code",
   "execution_count": null,
   "outputs": [],
   "source": [
    "%load_ext autoreload\n",
    "%autoreload 2"
   ],
   "metadata": {
    "collapsed": false,
    "is_executing": true
   },
   "id": "7c64959ae6f5581"
  },
  {
   "cell_type": "code",
   "execution_count": 1,
   "id": "initial_id",
   "metadata": {
    "collapsed": true,
    "ExecuteTime": {
     "end_time": "2023-12-14T09:57:04.510055900Z",
     "start_time": "2023-12-14T09:56:57.011622600Z"
    }
   },
   "outputs": [],
   "source": [
    "from stable_baselines3 import PPO\n",
    "from stable_baselines3.common.env_checker import check_env\n",
    "from stable_baselines3.common.evaluation import evaluate_policy"
   ]
  },
  {
   "cell_type": "code",
   "execution_count": 2,
   "outputs": [],
   "source": [
    "from src.environment import SingleFamilyHome"
   ],
   "metadata": {
    "collapsed": false,
    "ExecuteTime": {
     "end_time": "2023-12-14T09:57:04.546284Z",
     "start_time": "2023-12-14T09:57:04.512146Z"
    }
   },
   "id": "c7f0646a1785b903"
  },
  {
   "cell_type": "code",
   "execution_count": 3,
   "outputs": [],
   "source": [
    "env = SingleFamilyHome()\n",
    "check_env(env, warn=True)"
   ],
   "metadata": {
    "collapsed": false,
    "ExecuteTime": {
     "end_time": "2023-12-14T09:57:06.687918Z",
     "start_time": "2023-12-14T09:57:04.547327600Z"
    }
   },
   "id": "3dad4cc2d8faa7ba"
  },
  {
   "cell_type": "code",
   "execution_count": 8,
   "outputs": [
    {
     "name": "stdout",
     "output_type": "stream",
     "text": [
      "Using cuda device\n",
      "Wrapping the env with a `Monitor` wrapper\n",
      "Wrapping the env in a DummyVecEnv.\n"
     ]
    }
   ],
   "source": [
    "model = PPO(\"MultiInputPolicy\", env, verbose=1, tensorboard_log=\"./tensorboard/\")"
   ],
   "metadata": {
    "collapsed": false,
    "ExecuteTime": {
     "end_time": "2023-12-14T09:58:35.781974700Z",
     "start_time": "2023-12-14T09:58:35.740236100Z"
    }
   },
   "id": "778604c5beca4858"
  },
  {
   "cell_type": "code",
   "execution_count": 9,
   "outputs": [
    {
     "name": "stderr",
     "output_type": "stream",
     "text": [
      "G:\\venvs\\smart-energy-controller\\Lib\\site-packages\\stable_baselines3\\common\\evaluation.py:67: UserWarning: Evaluation environment is not wrapped with a ``Monitor`` wrapper. This may result in reporting modified episode lengths and rewards, if other wrappers happen to modify these. Consider wrapping environment first with ``Monitor`` wrapper.\n",
      "  warnings.warn(\n"
     ]
    }
   ],
   "source": [
    "mean_reward, std_reward = evaluate_policy(model, env, n_eval_episodes=1)"
   ],
   "metadata": {
    "collapsed": false,
    "ExecuteTime": {
     "end_time": "2023-12-14T09:59:16.886378100Z",
     "start_time": "2023-12-14T09:58:35.888228200Z"
    }
   },
   "id": "6e602510968278d5"
  },
  {
   "cell_type": "code",
   "execution_count": 10,
   "outputs": [
    {
     "data": {
      "text/plain": "-13574.868856489673"
     },
     "execution_count": 10,
     "metadata": {},
     "output_type": "execute_result"
    }
   ],
   "source": [
    "mean_reward"
   ],
   "metadata": {
    "collapsed": false,
    "ExecuteTime": {
     "end_time": "2023-12-14T09:59:16.896705700Z",
     "start_time": "2023-12-14T09:59:16.886378100Z"
    }
   },
   "id": "2d1a0ebded44234a"
  },
  {
   "cell_type": "code",
   "execution_count": 65,
   "outputs": [
    {
     "name": "stdout",
     "output_type": "stream",
     "text": [
      "Logging to ./tensorboard/PPO_4\n",
      "-----------------------------\n",
      "| time/              |      |\n",
      "|    fps             | 206  |\n",
      "|    iterations      | 1    |\n",
      "|    time_elapsed    | 9    |\n",
      "|    total_timesteps | 2048 |\n",
      "-----------------------------\n",
      "------------------------------------------\n",
      "| time/                   |              |\n",
      "|    fps                  | 174          |\n",
      "|    iterations           | 2            |\n",
      "|    time_elapsed         | 23           |\n",
      "|    total_timesteps      | 4096         |\n",
      "| train/                  |              |\n",
      "|    approx_kl            | 0.0038873914 |\n",
      "|    clip_fraction        | 0.0331       |\n",
      "|    clip_range           | 0.2          |\n",
      "|    entropy_loss         | -2.83        |\n",
      "|    explained_variance   | -0.00616     |\n",
      "|    learning_rate        | 0.0003       |\n",
      "|    loss                 | 238          |\n",
      "|    n_updates            | 10           |\n",
      "|    policy_gradient_loss | -0.00228     |\n",
      "|    std                  | 0.995        |\n",
      "|    value_loss           | 347          |\n",
      "------------------------------------------\n",
      "------------------------------------------\n",
      "| time/                   |              |\n",
      "|    fps                  | 171          |\n",
      "|    iterations           | 3            |\n",
      "|    time_elapsed         | 35           |\n",
      "|    total_timesteps      | 6144         |\n",
      "| train/                  |              |\n",
      "|    approx_kl            | 0.0047232257 |\n",
      "|    clip_fraction        | 0.0224       |\n",
      "|    clip_range           | 0.2          |\n",
      "|    entropy_loss         | -2.82        |\n",
      "|    explained_variance   | 0.0557       |\n",
      "|    learning_rate        | 0.0003       |\n",
      "|    loss                 | 315          |\n",
      "|    n_updates            | 20           |\n",
      "|    policy_gradient_loss | -0.00339     |\n",
      "|    std                  | 0.989        |\n",
      "|    value_loss           | 702          |\n",
      "------------------------------------------\n",
      "------------------------------------------\n",
      "| time/                   |              |\n",
      "|    fps                  | 168          |\n",
      "|    iterations           | 4            |\n",
      "|    time_elapsed         | 48           |\n",
      "|    total_timesteps      | 8192         |\n",
      "| train/                  |              |\n",
      "|    approx_kl            | 0.0035656807 |\n",
      "|    clip_fraction        | 0.00874      |\n",
      "|    clip_range           | 0.2          |\n",
      "|    entropy_loss         | -2.81        |\n",
      "|    explained_variance   | 0.251        |\n",
      "|    learning_rate        | 0.0003       |\n",
      "|    loss                 | 832          |\n",
      "|    n_updates            | 30           |\n",
      "|    policy_gradient_loss | -0.00177     |\n",
      "|    std                  | 0.987        |\n",
      "|    value_loss           | 1.62e+03     |\n",
      "------------------------------------------\n",
      "----------------------------------------\n",
      "| rollout/                |            |\n",
      "|    ep_len_mean          | 1.01e+04   |\n",
      "|    ep_rew_mean          | -1.49e+04  |\n",
      "| time/                   |            |\n",
      "|    fps                  | 169        |\n",
      "|    iterations           | 5          |\n",
      "|    time_elapsed         | 60         |\n",
      "|    total_timesteps      | 10240      |\n",
      "| train/                  |            |\n",
      "|    approx_kl            | 0.00565065 |\n",
      "|    clip_fraction        | 0.0332     |\n",
      "|    clip_range           | 0.2        |\n",
      "|    entropy_loss         | -2.81      |\n",
      "|    explained_variance   | 0.288      |\n",
      "|    learning_rate        | 0.0003     |\n",
      "|    loss                 | 1.46e+03   |\n",
      "|    n_updates            | 40         |\n",
      "|    policy_gradient_loss | -0.0031    |\n",
      "|    std                  | 0.98       |\n",
      "|    value_loss           | 2.63e+03   |\n",
      "----------------------------------------\n"
     ]
    },
    {
     "data": {
      "text/plain": "<stable_baselines3.ppo.ppo.PPO at 0x189c597ad90>"
     },
     "execution_count": 65,
     "metadata": {},
     "output_type": "execute_result"
    }
   ],
   "source": [
    "episode_length = 10080\n",
    "model.learn(total_timesteps=episode_length*1)\n",
    "# 1.2min per episode"
   ],
   "metadata": {
    "collapsed": false,
    "ExecuteTime": {
     "end_time": "2023-12-14T09:33:03.558286600Z",
     "start_time": "2023-12-14T09:31:59.785562100Z"
    }
   },
   "id": "54262a1af2dde330"
  },
  {
   "cell_type": "code",
   "execution_count": 66,
   "outputs": [
    {
     "name": "stderr",
     "output_type": "stream",
     "text": [
      "G:\\venvs\\smart-energy-controller\\Lib\\site-packages\\stable_baselines3\\common\\evaluation.py:67: UserWarning: Evaluation environment is not wrapped with a ``Monitor`` wrapper. This may result in reporting modified episode lengths and rewards, if other wrappers happen to modify these. Consider wrapping environment first with ``Monitor`` wrapper.\n",
      "  warnings.warn(\n"
     ]
    },
    {
     "data": {
      "text/plain": "-13575.810239610902"
     },
     "execution_count": 66,
     "metadata": {},
     "output_type": "execute_result"
    }
   ],
   "source": [
    "mean_reward_trained, std_reward_trained = evaluate_policy(model, env, n_eval_episodes=1)\n",
    "mean_reward_trained"
   ],
   "metadata": {
    "collapsed": false,
    "ExecuteTime": {
     "end_time": "2023-12-14T09:33:50.524912100Z",
     "start_time": "2023-12-14T09:33:03.552824600Z"
    }
   },
   "id": "4f5dace65ec2b152"
  },
  {
   "cell_type": "code",
   "execution_count": 67,
   "outputs": [
    {
     "data": {
      "text/plain": "-13568.13552827132"
     },
     "execution_count": 67,
     "metadata": {},
     "output_type": "execute_result"
    }
   ],
   "source": [
    "mean_reward"
   ],
   "metadata": {
    "collapsed": false,
    "ExecuteTime": {
     "end_time": "2023-12-14T09:33:51.644530200Z",
     "start_time": "2023-12-14T09:33:50.505912800Z"
    }
   },
   "id": "6f7e36409246492c"
  },
  {
   "cell_type": "code",
   "execution_count": 68,
   "outputs": [
    {
     "data": {
      "text/plain": "-13575.810239610902"
     },
     "execution_count": 68,
     "metadata": {},
     "output_type": "execute_result"
    }
   ],
   "source": [
    "mean_reward_trained"
   ],
   "metadata": {
    "collapsed": false,
    "ExecuteTime": {
     "end_time": "2023-12-14T09:33:52.261652500Z",
     "start_time": "2023-12-14T09:33:51.645530Z"
    }
   },
   "id": "5731b418fa29646e"
  },
  {
   "cell_type": "code",
   "execution_count": 69,
   "outputs": [
    {
     "ename": "NameError",
     "evalue": "name 'np' is not defined",
     "output_type": "error",
     "traceback": [
      "\u001B[1;31m---------------------------------------------------------------------------\u001B[0m",
      "\u001B[1;31mNameError\u001B[0m                                 Traceback (most recent call last)",
      "Cell \u001B[1;32mIn[69], line 4\u001B[0m\n\u001B[0;32m      2\u001B[0m env\u001B[38;5;241m.\u001B[39mreset()\n\u001B[0;32m      3\u001B[0m \u001B[38;5;28;01mfor\u001B[39;00m i \u001B[38;5;129;01min\u001B[39;00m \u001B[38;5;28mrange\u001B[39m(\u001B[38;5;241m10080\u001B[39m):\n\u001B[1;32m----> 4\u001B[0m     rewards\u001B[38;5;241m.\u001B[39mappend(env\u001B[38;5;241m.\u001B[39mstep(\u001B[43mnp\u001B[49m\u001B[38;5;241m.\u001B[39mones(\u001B[38;5;241m123\u001B[39m))[\u001B[38;5;241m1\u001B[39m])\n",
      "\u001B[1;31mNameError\u001B[0m: name 'np' is not defined"
     ]
    }
   ],
   "source": [
    "rewards = []\n",
    "env.reset()\n",
    "for i in range(10080):\n",
    "    rewards.append(env.step(np.ones(123))[1])\n",
    "    "
   ],
   "metadata": {
    "collapsed": false,
    "ExecuteTime": {
     "end_time": "2023-12-14T09:33:53.497097Z",
     "start_time": "2023-12-14T09:33:52.264784900Z"
    }
   },
   "id": "4fba17f740da2420"
  },
  {
   "cell_type": "code",
   "execution_count": null,
   "outputs": [],
   "source": [
    "plt.plot(rewards)"
   ],
   "metadata": {
    "collapsed": false,
    "ExecuteTime": {
     "end_time": "2023-12-14T09:33:53.502313400Z",
     "start_time": "2023-12-14T09:33:53.501268900Z"
    }
   },
   "id": "a06c99ace2e9ac03"
  },
  {
   "cell_type": "code",
   "execution_count": null,
   "outputs": [],
   "source": [
    "np.sum(rewards)"
   ],
   "metadata": {
    "collapsed": false,
    "ExecuteTime": {
     "end_time": "2023-12-14T09:33:53.505556200Z",
     "start_time": "2023-12-14T09:33:53.503360700Z"
    }
   },
   "id": "a09757ed865f1dc0"
  },
  {
   "cell_type": "code",
   "execution_count": null,
   "outputs": [],
   "source": [
    "#model.save(\"ppo_1hour_10eps\")"
   ],
   "metadata": {
    "collapsed": false,
    "ExecuteTime": {
     "end_time": "2023-12-14T09:33:53.507665900Z",
     "start_time": "2023-12-14T09:33:53.506604Z"
    }
   },
   "id": "f010eea4368f652d"
  },
  {
   "cell_type": "code",
   "execution_count": null,
   "outputs": [],
   "source": [
    "def normalize(data):\n",
    "    return (data - np.min(data)) / (np.max(data) - np.min(data))"
   ],
   "metadata": {
    "collapsed": false,
    "ExecuteTime": {
     "start_time": "2023-12-14T09:33:53.509746600Z"
    }
   },
   "id": "663df546633727cb"
  },
  {
   "cell_type": "code",
   "execution_count": null,
   "outputs": [],
   "source": [
    "env.generation.set_episode(0)"
   ],
   "metadata": {
    "collapsed": false,
    "ExecuteTime": {
     "end_time": "2023-12-14T09:33:53.512912300Z",
     "start_time": "2023-12-14T09:33:53.510820100Z"
    }
   },
   "id": "9b7ffb5290e3adbe"
  },
  {
   "cell_type": "code",
   "execution_count": null,
   "outputs": [],
   "source": [
    "plt.plot(env.generation.episode*100)"
   ],
   "metadata": {
    "collapsed": false,
    "ExecuteTime": {
     "start_time": "2023-12-14T09:33:53.514993700Z"
    }
   },
   "id": "1f78641f502c1d02"
  },
  {
   "cell_type": "code",
   "execution_count": null,
   "outputs": [],
   "source": [
    "plt.plot(env.adaptive_consumption.episode)"
   ],
   "metadata": {
    "collapsed": false,
    "ExecuteTime": {
     "end_time": "2023-12-14T09:33:53.518145200Z",
     "start_time": "2023-12-14T09:33:53.517092300Z"
    }
   },
   "id": "70da436dfe763f57"
  },
  {
   "cell_type": "code",
   "execution_count": 5,
   "outputs": [],
   "source": [
    "old_model = model.load(\"ppo_no_adaptive_consumption_10eps.zip\")"
   ],
   "metadata": {
    "collapsed": false,
    "ExecuteTime": {
     "end_time": "2023-12-14T09:57:07.445814700Z",
     "start_time": "2023-12-14T09:57:07.413795100Z"
    }
   },
   "id": "20fe6b0e7d236664"
  },
  {
   "cell_type": "code",
   "execution_count": 6,
   "outputs": [
    {
     "name": "stderr",
     "output_type": "stream",
     "text": [
      "G:\\venvs\\smart-energy-controller\\Lib\\site-packages\\stable_baselines3\\common\\evaluation.py:67: UserWarning: Evaluation environment is not wrapped with a ``Monitor`` wrapper. This may result in reporting modified episode lengths and rewards, if other wrappers happen to modify these. Consider wrapping environment first with ``Monitor`` wrapper.\n",
      "  warnings.warn(\n"
     ]
    }
   ],
   "source": [
    "mean_reward_trained_old, std_reward_trained_old = evaluate_policy(old_model, env, n_eval_episodes=1)"
   ],
   "metadata": {
    "collapsed": false,
    "ExecuteTime": {
     "end_time": "2023-12-14T09:57:41.330128600Z",
     "start_time": "2023-12-14T09:57:07.445814700Z"
    }
   },
   "id": "caaaf7ad0a6da558"
  },
  {
   "cell_type": "code",
   "execution_count": 7,
   "outputs": [
    {
     "data": {
      "text/plain": "-11107.582531433145"
     },
     "execution_count": 7,
     "metadata": {},
     "output_type": "execute_result"
    }
   ],
   "source": [
    "mean_reward_trained_old"
   ],
   "metadata": {
    "collapsed": false,
    "ExecuteTime": {
     "end_time": "2023-12-14T09:58:15.319584200Z",
     "start_time": "2023-12-14T09:58:15.306300500Z"
    }
   },
   "id": "fdbe19f7784f2d2c"
  },
  {
   "cell_type": "code",
   "execution_count": null,
   "outputs": [],
   "source": [],
   "metadata": {
    "collapsed": false
   },
   "id": "7f44502c456752d"
  }
 ],
 "metadata": {
  "kernelspec": {
   "display_name": "Python 3",
   "language": "python",
   "name": "python3"
  },
  "language_info": {
   "codemirror_mode": {
    "name": "ipython",
    "version": 2
   },
   "file_extension": ".py",
   "mimetype": "text/x-python",
   "name": "python",
   "nbconvert_exporter": "python",
   "pygments_lexer": "ipython2",
   "version": "2.7.6"
  }
 },
 "nbformat": 4,
 "nbformat_minor": 5
}
