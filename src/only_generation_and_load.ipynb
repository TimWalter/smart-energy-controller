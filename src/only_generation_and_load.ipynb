{
 "cells": [
  {
   "cell_type": "code",
   "execution_count": 1,
   "outputs": [],
   "source": [
    "%load_ext autoreload\n",
    "%autoreload 2"
   ],
   "metadata": {
    "collapsed": false,
    "ExecuteTime": {
     "end_time": "2023-12-14T09:31:54.501942800Z",
     "start_time": "2023-12-14T09:31:54.339726Z"
    }
   },
   "id": "fdd6a01cc95bc659"
  },
  {
   "cell_type": "code",
   "execution_count": 2,
   "id": "initial_id",
   "metadata": {
    "collapsed": true,
    "ExecuteTime": {
     "end_time": "2023-12-14T09:31:55.842495800Z",
     "start_time": "2023-12-14T09:31:54.505094100Z"
    }
   },
   "outputs": [],
   "source": [
    "from src.generation import *\n",
    "from src.consumption import *\n",
    "from src.electricity_grid import *\n",
    "from src.adaptive_consumption import *\n",
    "from src.tcl import *\n",
    "from src.information import *"
   ]
  },
  {
   "cell_type": "code",
   "execution_count": 3,
   "outputs": [],
   "source": [
    "gen = Generation()\n",
    "cons = Consumption()\n",
    "grid = ElectricityGrid()\n",
    "a_cons = AdaptiveConsumption(2, 10)\n",
    "info = Information()\n"
   ],
   "metadata": {
    "collapsed": false,
    "ExecuteTime": {
     "end_time": "2023-12-14T09:31:58.509092200Z",
     "start_time": "2023-12-14T09:31:55.842495800Z"
    }
   },
   "id": "333077f061f57ef0"
  },
  {
   "cell_type": "code",
   "execution_count": 8,
   "outputs": [],
   "source": [
    "episode = 0\n",
    "gen.set_episode(episode)\n",
    "cons.set_episode(episode)\n",
    "grid.set_episode(episode)\n",
    "a_cons.set_episode(episode)\n",
    "info.set_episode(episode)"
   ],
   "metadata": {
    "collapsed": false,
    "ExecuteTime": {
     "end_time": "2023-12-14T09:32:09.202961300Z",
     "start_time": "2023-12-14T09:32:08.692460400Z"
    }
   },
   "id": "f8c8fe0d6ac3cf9a"
  },
  {
   "cell_type": "code",
   "execution_count": 9,
   "outputs": [
    {
     "data": {
      "text/plain": "4902.240055008765"
     },
     "execution_count": 9,
     "metadata": {},
     "output_type": "execute_result"
    }
   ],
   "source": [
    "reward_gen = np.sum(100 *gen.episode[\"AC\"] * grid.episode[\"Carbon Intensity gCO₂eq/kWmin (direct)\"])\n",
    "reward_gen"
   ],
   "metadata": {
    "collapsed": false,
    "ExecuteTime": {
     "end_time": "2023-12-14T09:32:09.500718400Z",
     "start_time": "2023-12-14T09:32:09.204010700Z"
    }
   },
   "id": "1af8182fec434c90"
  },
  {
   "cell_type": "code",
   "execution_count": 10,
   "outputs": [
    {
     "data": {
      "text/plain": "-7741.299198452483"
     },
     "execution_count": 10,
     "metadata": {},
     "output_type": "execute_result"
    }
   ],
   "source": [
    "reward_cons = np.sum(- cons.episode[\"power\"]* grid.episode[\"Carbon Intensity gCO₂eq/kWmin (direct)\"])\n",
    "reward_cons"
   ],
   "metadata": {
    "collapsed": false,
    "ExecuteTime": {
     "end_time": "2023-12-14T09:32:09.761491100Z",
     "start_time": "2023-12-14T09:32:09.493891800Z"
    }
   },
   "id": "b3a85cf2ef46c06e"
  },
  {
   "cell_type": "code",
   "execution_count": 11,
   "outputs": [
    {
     "data": {
      "text/plain": "-3180.9958765743168"
     },
     "execution_count": 11,
     "metadata": {},
     "output_type": "execute_result"
    }
   ],
   "source": [
    "reward_a_cons = np.sum(- a_cons.episode[\"power\"] * grid.episode[\"Carbon Intensity gCO₂eq/kWmin (direct)\"])\n",
    "reward_a_cons"
   ],
   "metadata": {
    "collapsed": false,
    "ExecuteTime": {
     "end_time": "2023-12-14T09:32:10.046440100Z",
     "start_time": "2023-12-14T09:32:09.765706100Z"
    }
   },
   "id": "d54016abb3b5414e"
  },
  {
   "cell_type": "code",
   "execution_count": 12,
   "outputs": [],
   "source": [
    "tcl = TCL(**TCLParameters().__dict__)\n",
    "actions = []\n",
    "for _, step in info.episode.iterrows():\n",
    "    tcl.step([1], step[\"T2m\"])\n",
    "    actions.append(tcl.reward_cache[\"a_{tcl,t}\"])"
   ],
   "metadata": {
    "collapsed": false,
    "ExecuteTime": {
     "end_time": "2023-12-14T09:32:11.282811Z",
     "start_time": "2023-12-14T09:32:10.042257800Z"
    }
   },
   "id": "fc8e8cc69e0b9677"
  },
  {
   "cell_type": "code",
   "execution_count": 13,
   "outputs": [
    {
     "data": {
      "text/plain": "-10820.86075"
     },
     "execution_count": 13,
     "metadata": {},
     "output_type": "execute_result"
    }
   ],
   "source": [
    "reward_tcl = np.sum(-np.array(actions) * tcl.reward_cache[\"L_{TCL}\"]* grid.episode[\"Carbon Intensity gCO₂eq/kWmin (direct)\"])\n",
    "reward_tcl"
   ],
   "metadata": {
    "collapsed": false,
    "ExecuteTime": {
     "end_time": "2023-12-14T09:32:11.861692500Z",
     "start_time": "2023-12-14T09:32:11.584969300Z"
    }
   },
   "id": "7cd7c555dc56f2d9"
  },
  {
   "cell_type": "code",
   "execution_count": 14,
   "outputs": [
    {
     "data": {
      "text/plain": "-16840.915770018037"
     },
     "execution_count": 14,
     "metadata": {},
     "output_type": "execute_result"
    }
   ],
   "source": [
    "reward_full = reward_gen + reward_cons + reward_a_cons + reward_tcl\n",
    "reward_full"
   ],
   "metadata": {
    "collapsed": false,
    "ExecuteTime": {
     "end_time": "2023-12-14T09:32:12.177740500Z",
     "start_time": "2023-12-14T09:32:11.861692500Z"
    }
   },
   "id": "f9cbae297ac6c73f"
  },
  {
   "cell_type": "code",
   "execution_count": 15,
   "outputs": [
    {
     "data": {
      "text/plain": "-13659.919893443719"
     },
     "execution_count": 15,
     "metadata": {},
     "output_type": "execute_result"
    }
   ],
   "source": [
    "reward_gen + reward_cons + reward_tcl"
   ],
   "metadata": {
    "collapsed": false,
    "ExecuteTime": {
     "end_time": "2023-12-14T09:32:13.713971100Z",
     "start_time": "2023-12-14T09:32:13.401142800Z"
    }
   },
   "id": "fdef5138204e876c"
  },
  {
   "cell_type": "code",
   "execution_count": 34,
   "outputs": [],
   "source": [],
   "metadata": {
    "collapsed": false,
    "ExecuteTime": {
     "end_time": "2023-12-13T21:29:43.968660800Z",
     "start_time": "2023-12-13T21:29:43.962143200Z"
    }
   },
   "id": "b8ee8df4a985727d"
  }
 ],
 "metadata": {
  "kernelspec": {
   "display_name": "Python 3",
   "language": "python",
   "name": "python3"
  },
  "language_info": {
   "codemirror_mode": {
    "name": "ipython",
    "version": 2
   },
   "file_extension": ".py",
   "mimetype": "text/x-python",
   "name": "python",
   "nbconvert_exporter": "python",
   "pygments_lexer": "ipython2",
   "version": "2.7.6"
  }
 },
 "nbformat": 4,
 "nbformat_minor": 5
}
