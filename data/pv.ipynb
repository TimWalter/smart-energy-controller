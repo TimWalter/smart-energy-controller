{
 "cells": [
  {
   "cell_type": "code",
   "execution_count": null,
   "outputs": [],
   "source": [
    "%load_ext autoreload\n",
    "%autoreload 2"
   ],
   "metadata": {
    "collapsed": false
   },
   "id": "107915547b3b3558"
  },
  {
   "cell_type": "code",
   "execution_count": 24,
   "id": "initial_id",
   "metadata": {
    "collapsed": true,
    "ExecuteTime": {
     "end_time": "2023-11-18T09:51:48.459323368Z",
     "start_time": "2023-11-18T09:51:48.415192311Z"
    }
   },
   "outputs": [],
   "source": [
    "import pickle\n",
    "import pvlib\n",
    "import pandas as pd\n",
    "from datetime import datetime"
   ]
  },
  {
   "cell_type": "code",
   "execution_count": 17,
   "outputs": [],
   "source": [
    "full_pv = pickle.load(open(\"./raw/generation.pickle\", \"rb\"))"
   ],
   "metadata": {
    "collapsed": false,
    "ExecuteTime": {
     "end_time": "2023-11-18T09:48:55.188446734Z",
     "start_time": "2023-11-18T09:48:55.149725908Z"
    }
   },
   "id": "39199cc3d7ce86f2"
  },
  {
   "cell_type": "code",
   "execution_count": 18,
   "outputs": [],
   "source": [
    "full_pv = pd.DataFrame({\"Datetime\":full_pv.times, \"AC\": full_pv.ac})"
   ],
   "metadata": {
    "collapsed": false,
    "ExecuteTime": {
     "end_time": "2023-11-18T09:48:55.344856542Z",
     "start_time": "2023-11-18T09:48:55.303963379Z"
    }
   },
   "id": "4ef72bb86fb522c4"
  },
  {
   "cell_type": "code",
   "execution_count": 19,
   "outputs": [
    {
     "data": {
      "text/plain": "                               Datetime    AC\ntime                                         \n2006-01-01 00:10:00 2006-01-01 00:10:00 -3.03\n2006-01-01 01:10:00 2006-01-01 01:10:00 -3.03\n2006-01-01 02:10:00 2006-01-01 02:10:00 -3.03\n2006-01-01 03:10:00 2006-01-01 03:10:00 -3.03\n2006-01-01 04:10:00 2006-01-01 04:10:00 -3.03\n...                                 ...   ...\n2010-12-31 19:10:00 2010-12-31 19:10:00 -3.03\n2010-12-31 20:10:00 2010-12-31 20:10:00 -3.03\n2010-12-31 21:10:00 2010-12-31 21:10:00 -3.03\n2010-12-31 22:10:00 2010-12-31 22:10:00 -3.03\n2010-12-31 23:10:00 2010-12-31 23:10:00 -3.03\n\n[43824 rows x 2 columns]",
      "text/html": "<div>\n<style scoped>\n    .dataframe tbody tr th:only-of-type {\n        vertical-align: middle;\n    }\n\n    .dataframe tbody tr th {\n        vertical-align: top;\n    }\n\n    .dataframe thead th {\n        text-align: right;\n    }\n</style>\n<table border=\"1\" class=\"dataframe\">\n  <thead>\n    <tr style=\"text-align: right;\">\n      <th></th>\n      <th>Datetime</th>\n      <th>AC</th>\n    </tr>\n    <tr>\n      <th>time</th>\n      <th></th>\n      <th></th>\n    </tr>\n  </thead>\n  <tbody>\n    <tr>\n      <th>2006-01-01 00:10:00</th>\n      <td>2006-01-01 00:10:00</td>\n      <td>-3.03</td>\n    </tr>\n    <tr>\n      <th>2006-01-01 01:10:00</th>\n      <td>2006-01-01 01:10:00</td>\n      <td>-3.03</td>\n    </tr>\n    <tr>\n      <th>2006-01-01 02:10:00</th>\n      <td>2006-01-01 02:10:00</td>\n      <td>-3.03</td>\n    </tr>\n    <tr>\n      <th>2006-01-01 03:10:00</th>\n      <td>2006-01-01 03:10:00</td>\n      <td>-3.03</td>\n    </tr>\n    <tr>\n      <th>2006-01-01 04:10:00</th>\n      <td>2006-01-01 04:10:00</td>\n      <td>-3.03</td>\n    </tr>\n    <tr>\n      <th>...</th>\n      <td>...</td>\n      <td>...</td>\n    </tr>\n    <tr>\n      <th>2010-12-31 19:10:00</th>\n      <td>2010-12-31 19:10:00</td>\n      <td>-3.03</td>\n    </tr>\n    <tr>\n      <th>2010-12-31 20:10:00</th>\n      <td>2010-12-31 20:10:00</td>\n      <td>-3.03</td>\n    </tr>\n    <tr>\n      <th>2010-12-31 21:10:00</th>\n      <td>2010-12-31 21:10:00</td>\n      <td>-3.03</td>\n    </tr>\n    <tr>\n      <th>2010-12-31 22:10:00</th>\n      <td>2010-12-31 22:10:00</td>\n      <td>-3.03</td>\n    </tr>\n    <tr>\n      <th>2010-12-31 23:10:00</th>\n      <td>2010-12-31 23:10:00</td>\n      <td>-3.03</td>\n    </tr>\n  </tbody>\n</table>\n<p>43824 rows × 2 columns</p>\n</div>"
     },
     "execution_count": 19,
     "metadata": {},
     "output_type": "execute_result"
    }
   ],
   "source": [
    "full_pv"
   ],
   "metadata": {
    "collapsed": false,
    "ExecuteTime": {
     "end_time": "2023-11-18T09:48:55.768497967Z",
     "start_time": "2023-11-18T09:48:55.754119546Z"
    }
   },
   "id": "3cc4320d18b28316"
  },
  {
   "cell_type": "code",
   "execution_count": 20,
   "outputs": [],
   "source": [
    "pv = full_pv[['Datetime', 'AC']].copy()\n",
    "pv.loc[:,'Datetime'] = pd.to_datetime(pv.loc[:,'Datetime'])\n",
    "pv.set_index('Datetime', inplace=True)\n",
    "pv = pv.loc[:, ['AC']]\n",
    "pv = pv.resample('min').interpolate(method='linear')"
   ],
   "metadata": {
    "collapsed": false,
    "ExecuteTime": {
     "end_time": "2023-11-18T09:50:36.158098622Z",
     "start_time": "2023-11-18T09:50:35.410346504Z"
    }
   },
   "id": "b85dd60374fe7a88"
  },
  {
   "cell_type": "code",
   "execution_count": 21,
   "outputs": [
    {
     "data": {
      "text/plain": "                       AC\nDatetime                 \n2006-01-01 00:10:00 -3.03\n2006-01-01 00:11:00 -3.03\n2006-01-01 00:12:00 -3.03\n2006-01-01 00:13:00 -3.03\n2006-01-01 00:14:00 -3.03\n...                   ...\n2010-12-31 23:06:00 -3.03\n2010-12-31 23:07:00 -3.03\n2010-12-31 23:08:00 -3.03\n2010-12-31 23:09:00 -3.03\n2010-12-31 23:10:00 -3.03\n\n[2629381 rows x 1 columns]",
      "text/html": "<div>\n<style scoped>\n    .dataframe tbody tr th:only-of-type {\n        vertical-align: middle;\n    }\n\n    .dataframe tbody tr th {\n        vertical-align: top;\n    }\n\n    .dataframe thead th {\n        text-align: right;\n    }\n</style>\n<table border=\"1\" class=\"dataframe\">\n  <thead>\n    <tr style=\"text-align: right;\">\n      <th></th>\n      <th>AC</th>\n    </tr>\n    <tr>\n      <th>Datetime</th>\n      <th></th>\n    </tr>\n  </thead>\n  <tbody>\n    <tr>\n      <th>2006-01-01 00:10:00</th>\n      <td>-3.03</td>\n    </tr>\n    <tr>\n      <th>2006-01-01 00:11:00</th>\n      <td>-3.03</td>\n    </tr>\n    <tr>\n      <th>2006-01-01 00:12:00</th>\n      <td>-3.03</td>\n    </tr>\n    <tr>\n      <th>2006-01-01 00:13:00</th>\n      <td>-3.03</td>\n    </tr>\n    <tr>\n      <th>2006-01-01 00:14:00</th>\n      <td>-3.03</td>\n    </tr>\n    <tr>\n      <th>...</th>\n      <td>...</td>\n    </tr>\n    <tr>\n      <th>2010-12-31 23:06:00</th>\n      <td>-3.03</td>\n    </tr>\n    <tr>\n      <th>2010-12-31 23:07:00</th>\n      <td>-3.03</td>\n    </tr>\n    <tr>\n      <th>2010-12-31 23:08:00</th>\n      <td>-3.03</td>\n    </tr>\n    <tr>\n      <th>2010-12-31 23:09:00</th>\n      <td>-3.03</td>\n    </tr>\n    <tr>\n      <th>2010-12-31 23:10:00</th>\n      <td>-3.03</td>\n    </tr>\n  </tbody>\n</table>\n<p>2629381 rows × 1 columns</p>\n</div>"
     },
     "execution_count": 21,
     "metadata": {},
     "output_type": "execute_result"
    }
   ],
   "source": [
    "pv"
   ],
   "metadata": {
    "collapsed": false,
    "ExecuteTime": {
     "end_time": "2023-11-18T09:50:41.870464088Z",
     "start_time": "2023-11-18T09:50:41.847207488Z"
    }
   },
   "id": "89d8a5124a592c05"
  },
  {
   "cell_type": "code",
   "execution_count": 22,
   "outputs": [],
   "source": [
    "pv_episodes = pv.groupby(pd.Grouper(freq='W'))"
   ],
   "metadata": {
    "collapsed": false,
    "ExecuteTime": {
     "end_time": "2023-11-18T09:50:53.947153833Z",
     "start_time": "2023-11-18T09:50:53.900806059Z"
    }
   },
   "id": "2b0aee9f8c13563c"
  },
  {
   "cell_type": "code",
   "execution_count": 23,
   "outputs": [
    {
     "data": {
      "text/plain": "                 AC                                                       \\\n              count      mean        std       min   25%   50%       75%   \nDatetime                                                                   \n2006-01-01   1430.0  1.730508  11.861138 -3.030000 -3.03 -3.03 -3.019739   \n2006-01-08  10080.0  3.207000  14.176947 -3.030000 -3.03 -3.03  0.834513   \n2006-01-15  10080.0  1.939853  11.700089 -3.030000 -3.03 -3.03 -0.934938   \n2006-01-22  10080.0  6.654501  19.228682 -3.030000 -3.03 -3.03  4.989478   \n2006-01-29  10080.0  5.393326  18.792913 -3.353673 -3.03 -3.03  3.804040   \n...             ...       ...        ...       ...   ...   ...       ...   \n2010-12-05  10080.0  6.404910  18.598541 -4.010676 -3.03 -3.03  1.588001   \n2010-12-12  10080.0  3.315945  15.073696 -3.437605 -3.03 -3.03 -1.241439   \n2010-12-19  10080.0  2.316614  12.192986 -3.030000 -3.03 -3.03 -2.104881   \n2010-12-26  10080.0  4.858090  16.087377 -3.531632 -3.03 -3.03  0.618609   \n2011-01-02   7151.0  4.938394  16.889054 -3.498425 -3.03 -3.03 -0.243066   \n\n                       \n                  max  \nDatetime               \n2006-01-01  51.639288  \n2006-01-08  68.179388  \n2006-01-15  65.029365  \n2006-01-22  79.884108  \n2006-01-29  94.812569  \n...               ...  \n2010-12-05  73.983002  \n2010-12-12  69.827375  \n2010-12-19  65.142728  \n2010-12-26  63.218910  \n2011-01-02  67.174872  \n\n[262 rows x 8 columns]",
      "text/html": "<div>\n<style scoped>\n    .dataframe tbody tr th:only-of-type {\n        vertical-align: middle;\n    }\n\n    .dataframe tbody tr th {\n        vertical-align: top;\n    }\n\n    .dataframe thead tr th {\n        text-align: left;\n    }\n\n    .dataframe thead tr:last-of-type th {\n        text-align: right;\n    }\n</style>\n<table border=\"1\" class=\"dataframe\">\n  <thead>\n    <tr>\n      <th></th>\n      <th colspan=\"8\" halign=\"left\">AC</th>\n    </tr>\n    <tr>\n      <th></th>\n      <th>count</th>\n      <th>mean</th>\n      <th>std</th>\n      <th>min</th>\n      <th>25%</th>\n      <th>50%</th>\n      <th>75%</th>\n      <th>max</th>\n    </tr>\n    <tr>\n      <th>Datetime</th>\n      <th></th>\n      <th></th>\n      <th></th>\n      <th></th>\n      <th></th>\n      <th></th>\n      <th></th>\n      <th></th>\n    </tr>\n  </thead>\n  <tbody>\n    <tr>\n      <th>2006-01-01</th>\n      <td>1430.0</td>\n      <td>1.730508</td>\n      <td>11.861138</td>\n      <td>-3.030000</td>\n      <td>-3.03</td>\n      <td>-3.03</td>\n      <td>-3.019739</td>\n      <td>51.639288</td>\n    </tr>\n    <tr>\n      <th>2006-01-08</th>\n      <td>10080.0</td>\n      <td>3.207000</td>\n      <td>14.176947</td>\n      <td>-3.030000</td>\n      <td>-3.03</td>\n      <td>-3.03</td>\n      <td>0.834513</td>\n      <td>68.179388</td>\n    </tr>\n    <tr>\n      <th>2006-01-15</th>\n      <td>10080.0</td>\n      <td>1.939853</td>\n      <td>11.700089</td>\n      <td>-3.030000</td>\n      <td>-3.03</td>\n      <td>-3.03</td>\n      <td>-0.934938</td>\n      <td>65.029365</td>\n    </tr>\n    <tr>\n      <th>2006-01-22</th>\n      <td>10080.0</td>\n      <td>6.654501</td>\n      <td>19.228682</td>\n      <td>-3.030000</td>\n      <td>-3.03</td>\n      <td>-3.03</td>\n      <td>4.989478</td>\n      <td>79.884108</td>\n    </tr>\n    <tr>\n      <th>2006-01-29</th>\n      <td>10080.0</td>\n      <td>5.393326</td>\n      <td>18.792913</td>\n      <td>-3.353673</td>\n      <td>-3.03</td>\n      <td>-3.03</td>\n      <td>3.804040</td>\n      <td>94.812569</td>\n    </tr>\n    <tr>\n      <th>...</th>\n      <td>...</td>\n      <td>...</td>\n      <td>...</td>\n      <td>...</td>\n      <td>...</td>\n      <td>...</td>\n      <td>...</td>\n      <td>...</td>\n    </tr>\n    <tr>\n      <th>2010-12-05</th>\n      <td>10080.0</td>\n      <td>6.404910</td>\n      <td>18.598541</td>\n      <td>-4.010676</td>\n      <td>-3.03</td>\n      <td>-3.03</td>\n      <td>1.588001</td>\n      <td>73.983002</td>\n    </tr>\n    <tr>\n      <th>2010-12-12</th>\n      <td>10080.0</td>\n      <td>3.315945</td>\n      <td>15.073696</td>\n      <td>-3.437605</td>\n      <td>-3.03</td>\n      <td>-3.03</td>\n      <td>-1.241439</td>\n      <td>69.827375</td>\n    </tr>\n    <tr>\n      <th>2010-12-19</th>\n      <td>10080.0</td>\n      <td>2.316614</td>\n      <td>12.192986</td>\n      <td>-3.030000</td>\n      <td>-3.03</td>\n      <td>-3.03</td>\n      <td>-2.104881</td>\n      <td>65.142728</td>\n    </tr>\n    <tr>\n      <th>2010-12-26</th>\n      <td>10080.0</td>\n      <td>4.858090</td>\n      <td>16.087377</td>\n      <td>-3.531632</td>\n      <td>-3.03</td>\n      <td>-3.03</td>\n      <td>0.618609</td>\n      <td>63.218910</td>\n    </tr>\n    <tr>\n      <th>2011-01-02</th>\n      <td>7151.0</td>\n      <td>4.938394</td>\n      <td>16.889054</td>\n      <td>-3.498425</td>\n      <td>-3.03</td>\n      <td>-3.03</td>\n      <td>-0.243066</td>\n      <td>67.174872</td>\n    </tr>\n  </tbody>\n</table>\n<p>262 rows × 8 columns</p>\n</div>"
     },
     "execution_count": 23,
     "metadata": {},
     "output_type": "execute_result"
    }
   ],
   "source": [
    "pv_episodes.describe()"
   ],
   "metadata": {
    "collapsed": false,
    "ExecuteTime": {
     "end_time": "2023-11-18T09:51:08.889424682Z",
     "start_time": "2023-11-18T09:51:08.322254077Z"
    }
   },
   "id": "e4c0118087948068"
  },
  {
   "cell_type": "code",
   "execution_count": 25,
   "outputs": [],
   "source": [
    "pv_episodes = pd.concat([group.fillna(0) for name, group in pv_episodes if len(group.dropna()) >= 10000 and group.index[0] >= datetime(2007, 1, 1) and group.index[-1] <= datetime(2008, 12, 31)]).groupby(pd.Grouper(freq='W'))"
   ],
   "metadata": {
    "collapsed": false,
    "ExecuteTime": {
     "end_time": "2023-11-18T09:51:51.414281740Z",
     "start_time": "2023-11-18T09:51:51.215731745Z"
    }
   },
   "id": "69162d43e73bf0af"
  },
  {
   "cell_type": "code",
   "execution_count": 26,
   "outputs": [
    {
     "data": {
      "text/plain": "                 AC                                                       \\\n              count      mean        std       min   25%   50%       75%   \nDatetime                                                                   \n2007-01-07  10080.0  4.354325  16.213006 -3.345811 -3.03 -3.03 -1.240526   \n2007-01-14  10080.0  5.274582  17.286283 -4.093479 -3.03 -3.03  1.830830   \n2007-01-21  10080.0  5.476825  18.210548 -3.030000 -3.03 -3.03  0.109225   \n2007-01-28  10080.0  8.311984  22.099629 -3.030000 -3.03 -3.03  6.446465   \n2007-02-04  10080.0  6.041587  17.736726 -3.030000 -3.03 -3.03  9.364835   \n...             ...       ...        ...       ...   ...   ...       ...   \n2008-11-30  10080.0  6.744822  19.219951 -3.030000 -3.03 -3.03  5.067030   \n2008-12-07  10080.0  3.824717  14.540284 -3.484874 -3.03 -3.03  1.861949   \n2008-12-14  10080.0  4.796759  16.509024 -3.891251 -3.03 -3.03 -1.425037   \n2008-12-21  10080.0  2.745637  11.871417 -3.952982 -3.03 -3.03  0.225522   \n2008-12-28  10080.0  1.406385  11.634890 -3.030000 -3.03 -3.03 -2.024683   \n\n                       \n                  max  \nDatetime               \n2007-01-07  66.302596  \n2007-01-14  67.927864  \n2007-01-21  77.623347  \n2007-01-28  90.799778  \n2007-02-04  90.245043  \n...               ...  \n2008-11-30  77.291454  \n2008-12-07  68.324537  \n2008-12-14  66.912481  \n2008-12-21  63.456489  \n2008-12-28  62.449755  \n\n[104 rows x 8 columns]",
      "text/html": "<div>\n<style scoped>\n    .dataframe tbody tr th:only-of-type {\n        vertical-align: middle;\n    }\n\n    .dataframe tbody tr th {\n        vertical-align: top;\n    }\n\n    .dataframe thead tr th {\n        text-align: left;\n    }\n\n    .dataframe thead tr:last-of-type th {\n        text-align: right;\n    }\n</style>\n<table border=\"1\" class=\"dataframe\">\n  <thead>\n    <tr>\n      <th></th>\n      <th colspan=\"8\" halign=\"left\">AC</th>\n    </tr>\n    <tr>\n      <th></th>\n      <th>count</th>\n      <th>mean</th>\n      <th>std</th>\n      <th>min</th>\n      <th>25%</th>\n      <th>50%</th>\n      <th>75%</th>\n      <th>max</th>\n    </tr>\n    <tr>\n      <th>Datetime</th>\n      <th></th>\n      <th></th>\n      <th></th>\n      <th></th>\n      <th></th>\n      <th></th>\n      <th></th>\n      <th></th>\n    </tr>\n  </thead>\n  <tbody>\n    <tr>\n      <th>2007-01-07</th>\n      <td>10080.0</td>\n      <td>4.354325</td>\n      <td>16.213006</td>\n      <td>-3.345811</td>\n      <td>-3.03</td>\n      <td>-3.03</td>\n      <td>-1.240526</td>\n      <td>66.302596</td>\n    </tr>\n    <tr>\n      <th>2007-01-14</th>\n      <td>10080.0</td>\n      <td>5.274582</td>\n      <td>17.286283</td>\n      <td>-4.093479</td>\n      <td>-3.03</td>\n      <td>-3.03</td>\n      <td>1.830830</td>\n      <td>67.927864</td>\n    </tr>\n    <tr>\n      <th>2007-01-21</th>\n      <td>10080.0</td>\n      <td>5.476825</td>\n      <td>18.210548</td>\n      <td>-3.030000</td>\n      <td>-3.03</td>\n      <td>-3.03</td>\n      <td>0.109225</td>\n      <td>77.623347</td>\n    </tr>\n    <tr>\n      <th>2007-01-28</th>\n      <td>10080.0</td>\n      <td>8.311984</td>\n      <td>22.099629</td>\n      <td>-3.030000</td>\n      <td>-3.03</td>\n      <td>-3.03</td>\n      <td>6.446465</td>\n      <td>90.799778</td>\n    </tr>\n    <tr>\n      <th>2007-02-04</th>\n      <td>10080.0</td>\n      <td>6.041587</td>\n      <td>17.736726</td>\n      <td>-3.030000</td>\n      <td>-3.03</td>\n      <td>-3.03</td>\n      <td>9.364835</td>\n      <td>90.245043</td>\n    </tr>\n    <tr>\n      <th>...</th>\n      <td>...</td>\n      <td>...</td>\n      <td>...</td>\n      <td>...</td>\n      <td>...</td>\n      <td>...</td>\n      <td>...</td>\n      <td>...</td>\n    </tr>\n    <tr>\n      <th>2008-11-30</th>\n      <td>10080.0</td>\n      <td>6.744822</td>\n      <td>19.219951</td>\n      <td>-3.030000</td>\n      <td>-3.03</td>\n      <td>-3.03</td>\n      <td>5.067030</td>\n      <td>77.291454</td>\n    </tr>\n    <tr>\n      <th>2008-12-07</th>\n      <td>10080.0</td>\n      <td>3.824717</td>\n      <td>14.540284</td>\n      <td>-3.484874</td>\n      <td>-3.03</td>\n      <td>-3.03</td>\n      <td>1.861949</td>\n      <td>68.324537</td>\n    </tr>\n    <tr>\n      <th>2008-12-14</th>\n      <td>10080.0</td>\n      <td>4.796759</td>\n      <td>16.509024</td>\n      <td>-3.891251</td>\n      <td>-3.03</td>\n      <td>-3.03</td>\n      <td>-1.425037</td>\n      <td>66.912481</td>\n    </tr>\n    <tr>\n      <th>2008-12-21</th>\n      <td>10080.0</td>\n      <td>2.745637</td>\n      <td>11.871417</td>\n      <td>-3.952982</td>\n      <td>-3.03</td>\n      <td>-3.03</td>\n      <td>0.225522</td>\n      <td>63.456489</td>\n    </tr>\n    <tr>\n      <th>2008-12-28</th>\n      <td>10080.0</td>\n      <td>1.406385</td>\n      <td>11.634890</td>\n      <td>-3.030000</td>\n      <td>-3.03</td>\n      <td>-3.03</td>\n      <td>-2.024683</td>\n      <td>62.449755</td>\n    </tr>\n  </tbody>\n</table>\n<p>104 rows × 8 columns</p>\n</div>"
     },
     "execution_count": 26,
     "metadata": {},
     "output_type": "execute_result"
    }
   ],
   "source": [
    "pv_episodes.describe()"
   ],
   "metadata": {
    "collapsed": false,
    "ExecuteTime": {
     "end_time": "2023-11-18T09:52:06.923199722Z",
     "start_time": "2023-11-18T09:52:06.691866045Z"
    }
   },
   "id": "7dd15043739299fc"
  },
  {
   "cell_type": "code",
   "execution_count": 27,
   "outputs": [
    {
     "name": "stdout",
     "output_type": "stream",
     "text": [
      "True\n"
     ]
    }
   ],
   "source": [
    "demand =  pd.HDFStore('./minutely/demand.h5')\n",
    "with pd.HDFStore('./minutely/pv.h5') as store:\n",
    "    # Save each DataFrame with a key\n",
    "    i = 0\n",
    "    for name, group in pv_episodes:\n",
    "        if name.date() == demand[f\"eps_{i}\"].index[-1].date():\n",
    "            store[f'eps_{i}'] = group\n",
    "            i += 1\n",
    "file = pd.HDFStore('./minutely/pv.h5')\n",
    "print(len(file) == len(demand))\n",
    "file.close()\n",
    "demand.close()"
   ],
   "metadata": {
    "collapsed": false,
    "ExecuteTime": {
     "end_time": "2023-11-18T09:52:31.785191839Z",
     "start_time": "2023-11-18T09:52:28.503195132Z"
    }
   },
   "id": "5eac44a03650420f"
  },
  {
   "cell_type": "code",
   "execution_count": null,
   "outputs": [],
   "source": [],
   "metadata": {
    "collapsed": false
   },
   "id": "b3c8676ffe3c1b04"
  }
 ],
 "metadata": {
  "kernelspec": {
   "display_name": "Python 3",
   "language": "python",
   "name": "python3"
  },
  "language_info": {
   "codemirror_mode": {
    "name": "ipython",
    "version": 2
   },
   "file_extension": ".py",
   "mimetype": "text/x-python",
   "name": "python",
   "nbconvert_exporter": "python",
   "pygments_lexer": "ipython2",
   "version": "2.7.6"
  }
 },
 "nbformat": 4,
 "nbformat_minor": 5
}
