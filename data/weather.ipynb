{
 "cells": [
  {
   "cell_type": "code",
   "execution_count": 1,
   "id": "initial_id",
   "metadata": {
    "collapsed": true,
    "ExecuteTime": {
     "end_time": "2023-11-12T09:46:29.812413100Z",
     "start_time": "2023-11-12T09:46:26.831158100Z"
    }
   },
   "outputs": [],
   "source": [
    "import io\n",
    "\n",
    "import pandas as pd\n",
    "import requests"
   ]
  },
  {
   "cell_type": "code",
   "execution_count": 2,
   "outputs": [],
   "source": [
    "endpoint = \"https://re.jrc.ec.europa.eu/api/v5_2/seriescalc\""
   ],
   "metadata": {
    "collapsed": false,
    "ExecuteTime": {
     "end_time": "2023-11-12T09:46:29.812413100Z",
     "start_time": "2023-11-12T09:46:29.805842Z"
    }
   },
   "id": "54b8fe184d5ba517"
  },
  {
   "cell_type": "code",
   "execution_count": 10,
   "outputs": [],
   "source": [
    "params = {\n",
    "    \"lat\": 48.778966,\n",
    "    \"lon\": 2.291469,\n",
    "    \"startyear\": 2006,\n",
    "    \"endyear\": 2010,\n",
    "    \"outputformat\": \"csv\",\n",
    "}"
   ],
   "metadata": {
    "collapsed": false,
    "ExecuteTime": {
     "end_time": "2023-11-12T09:57:56.625551800Z",
     "start_time": "2023-11-12T09:57:56.594293100Z"
    }
   },
   "id": "2cb024034bc14b0a"
  },
  {
   "cell_type": "code",
   "execution_count": 11,
   "outputs": [],
   "source": [
    "response = requests.get(endpoint, params=params)"
   ],
   "metadata": {
    "collapsed": false,
    "ExecuteTime": {
     "end_time": "2023-11-12T09:58:03.237867100Z",
     "start_time": "2023-11-12T09:57:56.875029600Z"
    }
   },
   "id": "542eb3ff1ba38d74"
  },
  {
   "cell_type": "code",
   "execution_count": 12,
   "outputs": [],
   "source": [
    "if response.status_code == 200:\n",
    "    data = pd.read_csv(\n",
    "        io.StringIO(response.content.decode(\"utf-8\")),\n",
    "        skiprows=8,\n",
    "        skipfooter=11,\n",
    "        engine=\"python\",\n",
    "    )"
   ],
   "metadata": {
    "collapsed": false,
    "ExecuteTime": {
     "end_time": "2023-11-12T09:58:03.518298700Z",
     "start_time": "2023-11-12T09:58:03.240871600Z"
    }
   },
   "id": "1669ba6b7b022b9c"
  },
  {
   "cell_type": "code",
   "execution_count": 40,
   "outputs": [],
   "source": [
    "dataset = data.drop(columns=[\"H_sun\", \"Int\"])\n",
    "dataset[\"Datetime\"] = pd.to_datetime(dataset[\"time\"], format=\"%Y%m%d:%H%M\")\n",
    "dataset = dataset.drop(columns=[\"time\"])"
   ],
   "metadata": {
    "collapsed": false,
    "ExecuteTime": {
     "end_time": "2023-11-12T10:05:09.268675600Z",
     "start_time": "2023-11-12T10:05:09.131797800Z"
    }
   },
   "id": "e3907059064d4b70"
  },
  {
   "cell_type": "code",
   "execution_count": 41,
   "outputs": [],
   "source": [
    "weekly_episodes = dataset.groupby(pd.Grouper(key='Datetime', freq='W'))"
   ],
   "metadata": {
    "collapsed": false,
    "ExecuteTime": {
     "end_time": "2023-11-12T10:05:09.491807200Z",
     "start_time": "2023-11-12T10:05:09.437076800Z"
    }
   },
   "id": "ae527548bd292ce6"
  },
  {
   "cell_type": "code",
   "execution_count": 42,
   "outputs": [
    {
     "data": {
      "text/plain": "             G(i)                                                         \\\n            count       mean         std  min  25%  50%      75%     max   \nDatetime                                                                   \n2006-01-01   24.0  34.880000   72.717662  0.0  0.0  0.0  22.3175  255.01   \n2006-01-08  168.0  36.902619   71.830805  0.0  0.0  0.0  43.0000  308.01   \n2006-01-15  168.0  35.196369   74.989958  0.0  0.0  0.0  27.2500  324.01   \n2006-01-22  168.0  34.564405   66.893402  0.0  0.0  0.0  49.0000  335.01   \n2006-01-29  168.0  62.761250  109.675957  0.0  0.0  0.0  75.2500  386.02   \n...           ...        ...         ...  ...  ...  ...      ...     ...   \n2010-12-05  168.0  32.449643   61.899531  0.0  0.0  0.0  41.3475  280.01   \n2010-12-12  168.0  25.305417   50.518206  0.0  0.0  0.0  35.3025  272.01   \n2010-12-19  168.0  37.926071   75.117476  0.0  0.0  0.0  34.5000  303.02   \n2010-12-26  168.0  30.232857   58.305278  0.0  0.0  0.0  33.3150  243.01   \n2011-01-02  119.0  30.079580   56.859557  0.0  0.0  0.0  41.0600  240.01   \n\n              T2m            ...                 WS10m                      \\\n            count      mean  ...     75%    max  count      mean       std   \nDatetime                     ...                                             \n2006-01-01   24.0  4.544167  ...  5.8125   6.98   24.0  4.336250  0.368201   \n2006-01-08  168.0  1.832679  ...  3.2875   6.00  168.0  2.354524  0.731199   \n2006-01-15  168.0  3.117321  ...  4.8150   7.32  168.0  2.600595  0.725749   \n2006-01-22  168.0  5.994643  ...  7.7975  10.21  168.0  3.126548  1.197615   \n2006-01-29  168.0 -0.576369  ...  1.1550   5.69  168.0  3.245298  1.071590   \n...           ...       ...  ...     ...    ...    ...       ...       ...   \n2010-12-05  168.0 -1.200179  ...  0.0200   3.05  168.0  3.071488  1.392111   \n2010-12-12  168.0  1.327083  ...  2.8300   6.05  168.0  2.836905  0.745992   \n2010-12-19  168.0 -0.109107  ...  1.4775   5.27  168.0  3.668750  1.543482   \n2010-12-26  168.0 -0.380298  ...  1.6825   4.25  168.0  3.401012  1.715232   \n2011-01-02  119.0  1.090504  ...  2.8150   5.20  119.0  2.533445  0.685802   \n\n                                               \n             min     25%    50%     75%   max  \nDatetime                                       \n2006-01-01  3.79  4.1050  4.280  4.5675  5.24  \n2006-01-08  0.69  1.7725  2.375  2.9000  3.93  \n2006-01-15  0.14  2.2100  2.760  3.0300  4.76  \n2006-01-22  0.62  2.3925  2.970  3.6075  6.83  \n2006-01-29  0.83  2.5500  3.240  3.9475  6.48  \n...          ...     ...    ...     ...   ...  \n2010-12-05  0.14  2.0525  3.065  4.0875  5.86  \n2010-12-12  1.03  2.4100  2.830  3.1700  5.72  \n2010-12-19  0.69  2.6725  3.380  4.2950  9.17  \n2010-12-26  0.21  1.9825  3.030  5.1700  6.97  \n2011-01-02  1.03  2.0700  2.620  3.0300  4.07  \n\n[262 rows x 24 columns]",
      "text/html": "<div>\n<style scoped>\n    .dataframe tbody tr th:only-of-type {\n        vertical-align: middle;\n    }\n\n    .dataframe tbody tr th {\n        vertical-align: top;\n    }\n\n    .dataframe thead tr th {\n        text-align: left;\n    }\n\n    .dataframe thead tr:last-of-type th {\n        text-align: right;\n    }\n</style>\n<table border=\"1\" class=\"dataframe\">\n  <thead>\n    <tr>\n      <th></th>\n      <th colspan=\"8\" halign=\"left\">G(i)</th>\n      <th colspan=\"5\" halign=\"left\">T2m</th>\n      <th colspan=\"8\" halign=\"left\">WS10m</th>\n    </tr>\n    <tr>\n      <th></th>\n      <th>count</th>\n      <th>mean</th>\n      <th>std</th>\n      <th>min</th>\n      <th>25%</th>\n      <th>50%</th>\n      <th>75%</th>\n      <th>max</th>\n      <th>count</th>\n      <th>mean</th>\n      <th>...</th>\n      <th>75%</th>\n      <th>max</th>\n      <th>count</th>\n      <th>mean</th>\n      <th>std</th>\n      <th>min</th>\n      <th>25%</th>\n      <th>50%</th>\n      <th>75%</th>\n      <th>max</th>\n    </tr>\n    <tr>\n      <th>Datetime</th>\n      <th></th>\n      <th></th>\n      <th></th>\n      <th></th>\n      <th></th>\n      <th></th>\n      <th></th>\n      <th></th>\n      <th></th>\n      <th></th>\n      <th></th>\n      <th></th>\n      <th></th>\n      <th></th>\n      <th></th>\n      <th></th>\n      <th></th>\n      <th></th>\n      <th></th>\n      <th></th>\n      <th></th>\n    </tr>\n  </thead>\n  <tbody>\n    <tr>\n      <th>2006-01-01</th>\n      <td>24.0</td>\n      <td>34.880000</td>\n      <td>72.717662</td>\n      <td>0.0</td>\n      <td>0.0</td>\n      <td>0.0</td>\n      <td>22.3175</td>\n      <td>255.01</td>\n      <td>24.0</td>\n      <td>4.544167</td>\n      <td>...</td>\n      <td>5.8125</td>\n      <td>6.98</td>\n      <td>24.0</td>\n      <td>4.336250</td>\n      <td>0.368201</td>\n      <td>3.79</td>\n      <td>4.1050</td>\n      <td>4.280</td>\n      <td>4.5675</td>\n      <td>5.24</td>\n    </tr>\n    <tr>\n      <th>2006-01-08</th>\n      <td>168.0</td>\n      <td>36.902619</td>\n      <td>71.830805</td>\n      <td>0.0</td>\n      <td>0.0</td>\n      <td>0.0</td>\n      <td>43.0000</td>\n      <td>308.01</td>\n      <td>168.0</td>\n      <td>1.832679</td>\n      <td>...</td>\n      <td>3.2875</td>\n      <td>6.00</td>\n      <td>168.0</td>\n      <td>2.354524</td>\n      <td>0.731199</td>\n      <td>0.69</td>\n      <td>1.7725</td>\n      <td>2.375</td>\n      <td>2.9000</td>\n      <td>3.93</td>\n    </tr>\n    <tr>\n      <th>2006-01-15</th>\n      <td>168.0</td>\n      <td>35.196369</td>\n      <td>74.989958</td>\n      <td>0.0</td>\n      <td>0.0</td>\n      <td>0.0</td>\n      <td>27.2500</td>\n      <td>324.01</td>\n      <td>168.0</td>\n      <td>3.117321</td>\n      <td>...</td>\n      <td>4.8150</td>\n      <td>7.32</td>\n      <td>168.0</td>\n      <td>2.600595</td>\n      <td>0.725749</td>\n      <td>0.14</td>\n      <td>2.2100</td>\n      <td>2.760</td>\n      <td>3.0300</td>\n      <td>4.76</td>\n    </tr>\n    <tr>\n      <th>2006-01-22</th>\n      <td>168.0</td>\n      <td>34.564405</td>\n      <td>66.893402</td>\n      <td>0.0</td>\n      <td>0.0</td>\n      <td>0.0</td>\n      <td>49.0000</td>\n      <td>335.01</td>\n      <td>168.0</td>\n      <td>5.994643</td>\n      <td>...</td>\n      <td>7.7975</td>\n      <td>10.21</td>\n      <td>168.0</td>\n      <td>3.126548</td>\n      <td>1.197615</td>\n      <td>0.62</td>\n      <td>2.3925</td>\n      <td>2.970</td>\n      <td>3.6075</td>\n      <td>6.83</td>\n    </tr>\n    <tr>\n      <th>2006-01-29</th>\n      <td>168.0</td>\n      <td>62.761250</td>\n      <td>109.675957</td>\n      <td>0.0</td>\n      <td>0.0</td>\n      <td>0.0</td>\n      <td>75.2500</td>\n      <td>386.02</td>\n      <td>168.0</td>\n      <td>-0.576369</td>\n      <td>...</td>\n      <td>1.1550</td>\n      <td>5.69</td>\n      <td>168.0</td>\n      <td>3.245298</td>\n      <td>1.071590</td>\n      <td>0.83</td>\n      <td>2.5500</td>\n      <td>3.240</td>\n      <td>3.9475</td>\n      <td>6.48</td>\n    </tr>\n    <tr>\n      <th>...</th>\n      <td>...</td>\n      <td>...</td>\n      <td>...</td>\n      <td>...</td>\n      <td>...</td>\n      <td>...</td>\n      <td>...</td>\n      <td>...</td>\n      <td>...</td>\n      <td>...</td>\n      <td>...</td>\n      <td>...</td>\n      <td>...</td>\n      <td>...</td>\n      <td>...</td>\n      <td>...</td>\n      <td>...</td>\n      <td>...</td>\n      <td>...</td>\n      <td>...</td>\n      <td>...</td>\n    </tr>\n    <tr>\n      <th>2010-12-05</th>\n      <td>168.0</td>\n      <td>32.449643</td>\n      <td>61.899531</td>\n      <td>0.0</td>\n      <td>0.0</td>\n      <td>0.0</td>\n      <td>41.3475</td>\n      <td>280.01</td>\n      <td>168.0</td>\n      <td>-1.200179</td>\n      <td>...</td>\n      <td>0.0200</td>\n      <td>3.05</td>\n      <td>168.0</td>\n      <td>3.071488</td>\n      <td>1.392111</td>\n      <td>0.14</td>\n      <td>2.0525</td>\n      <td>3.065</td>\n      <td>4.0875</td>\n      <td>5.86</td>\n    </tr>\n    <tr>\n      <th>2010-12-12</th>\n      <td>168.0</td>\n      <td>25.305417</td>\n      <td>50.518206</td>\n      <td>0.0</td>\n      <td>0.0</td>\n      <td>0.0</td>\n      <td>35.3025</td>\n      <td>272.01</td>\n      <td>168.0</td>\n      <td>1.327083</td>\n      <td>...</td>\n      <td>2.8300</td>\n      <td>6.05</td>\n      <td>168.0</td>\n      <td>2.836905</td>\n      <td>0.745992</td>\n      <td>1.03</td>\n      <td>2.4100</td>\n      <td>2.830</td>\n      <td>3.1700</td>\n      <td>5.72</td>\n    </tr>\n    <tr>\n      <th>2010-12-19</th>\n      <td>168.0</td>\n      <td>37.926071</td>\n      <td>75.117476</td>\n      <td>0.0</td>\n      <td>0.0</td>\n      <td>0.0</td>\n      <td>34.5000</td>\n      <td>303.02</td>\n      <td>168.0</td>\n      <td>-0.109107</td>\n      <td>...</td>\n      <td>1.4775</td>\n      <td>5.27</td>\n      <td>168.0</td>\n      <td>3.668750</td>\n      <td>1.543482</td>\n      <td>0.69</td>\n      <td>2.6725</td>\n      <td>3.380</td>\n      <td>4.2950</td>\n      <td>9.17</td>\n    </tr>\n    <tr>\n      <th>2010-12-26</th>\n      <td>168.0</td>\n      <td>30.232857</td>\n      <td>58.305278</td>\n      <td>0.0</td>\n      <td>0.0</td>\n      <td>0.0</td>\n      <td>33.3150</td>\n      <td>243.01</td>\n      <td>168.0</td>\n      <td>-0.380298</td>\n      <td>...</td>\n      <td>1.6825</td>\n      <td>4.25</td>\n      <td>168.0</td>\n      <td>3.401012</td>\n      <td>1.715232</td>\n      <td>0.21</td>\n      <td>1.9825</td>\n      <td>3.030</td>\n      <td>5.1700</td>\n      <td>6.97</td>\n    </tr>\n    <tr>\n      <th>2011-01-02</th>\n      <td>119.0</td>\n      <td>30.079580</td>\n      <td>56.859557</td>\n      <td>0.0</td>\n      <td>0.0</td>\n      <td>0.0</td>\n      <td>41.0600</td>\n      <td>240.01</td>\n      <td>119.0</td>\n      <td>1.090504</td>\n      <td>...</td>\n      <td>2.8150</td>\n      <td>5.20</td>\n      <td>119.0</td>\n      <td>2.533445</td>\n      <td>0.685802</td>\n      <td>1.03</td>\n      <td>2.0700</td>\n      <td>2.620</td>\n      <td>3.0300</td>\n      <td>4.07</td>\n    </tr>\n  </tbody>\n</table>\n<p>262 rows × 24 columns</p>\n</div>"
     },
     "execution_count": 42,
     "metadata": {},
     "output_type": "execute_result"
    }
   ],
   "source": [
    "weekly_episodes.describe()"
   ],
   "metadata": {
    "collapsed": false,
    "ExecuteTime": {
     "end_time": "2023-11-12T10:05:11.091544400Z",
     "start_time": "2023-11-12T10:05:09.742273300Z"
    }
   },
   "id": "5c65ee366d31c316"
  },
  {
   "cell_type": "code",
   "execution_count": 44,
   "outputs": [],
   "source": [
    "with pd.HDFStore('./datasets/weather.h5') as store:\n",
    "    # Save each DataFrame with a key\n",
    "    for i, (name, df) in enumerate(weekly_episodes):\n",
    "        store[f'eps_{i}'] = df"
   ],
   "metadata": {
    "collapsed": false,
    "ExecuteTime": {
     "end_time": "2023-11-12T10:05:33.833403300Z",
     "start_time": "2023-11-12T10:05:31.774341700Z"
    }
   },
   "id": "8ed22fa607a6fec4"
  },
  {
   "cell_type": "code",
   "execution_count": null,
   "outputs": [],
   "source": [],
   "metadata": {
    "collapsed": false
   },
   "id": "3c853cd15064559d"
  }
 ],
 "metadata": {
  "kernelspec": {
   "display_name": "Python 3",
   "language": "python",
   "name": "python3"
  },
  "language_info": {
   "codemirror_mode": {
    "name": "ipython",
    "version": 2
   },
   "file_extension": ".py",
   "mimetype": "text/x-python",
   "name": "python",
   "nbconvert_exporter": "python",
   "pygments_lexer": "ipython2",
   "version": "2.7.6"
  }
 },
 "nbformat": 4,
 "nbformat_minor": 5
}
