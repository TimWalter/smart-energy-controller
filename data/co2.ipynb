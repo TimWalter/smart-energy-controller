{
 "cells": [
  {
   "cell_type": "code",
   "execution_count": 1,
   "outputs": [],
   "source": [
    "%load_ext autoreload\n",
    "%autoreload 2"
   ],
   "metadata": {
    "collapsed": false,
    "ExecuteTime": {
     "end_time": "2023-12-01T15:36:49.707801361Z",
     "start_time": "2023-12-01T15:36:49.697511127Z"
    }
   },
   "id": "c3685f7fdcd2c661"
  },
  {
   "cell_type": "code",
   "execution_count": 2,
   "outputs": [],
   "source": [
    "import pandas as pd\n",
    "from datetime import datetime"
   ],
   "metadata": {
    "collapsed": false,
    "ExecuteTime": {
     "end_time": "2023-12-01T15:36:50.030430950Z",
     "start_time": "2023-12-01T15:36:49.697776799Z"
    }
   },
   "id": "f6576103ab8fa72d"
  },
  {
   "cell_type": "code",
   "execution_count": 3,
   "outputs": [],
   "source": [
    "full_co2 = pd.concat([pd.read_csv(\"./raw/FR_2021_hourly.csv\"), pd.read_csv(\"./raw/FR_2022_hourly.csv\")])"
   ],
   "metadata": {
    "collapsed": false,
    "ExecuteTime": {
     "end_time": "2023-12-01T15:36:50.093071786Z",
     "start_time": "2023-12-01T15:36:50.073529799Z"
    }
   },
   "id": "156e5e144e39e2d9"
  },
  {
   "cell_type": "code",
   "execution_count": 4,
   "outputs": [
    {
     "data": {
      "text/plain": "           Datetime (UTC) Country Zone Name Zone Id  \\\n0     2021-01-01 00:00:00  France    France      FR   \n1     2021-01-01 01:00:00  France    France      FR   \n2     2021-01-01 02:00:00  France    France      FR   \n3     2021-01-01 03:00:00  France    France      FR   \n4     2021-01-01 04:00:00  France    France      FR   \n...                   ...     ...       ...     ...   \n8755  2022-12-31 19:00:00  France    France      FR   \n8756  2022-12-31 20:00:00  France    France      FR   \n8757  2022-12-31 21:00:00  France    France      FR   \n8758  2022-12-31 22:00:00  France    France      FR   \n8759  2022-12-31 23:00:00  France    France      FR   \n\n      Carbon Intensity gCO₂eq/kWh (direct)  Carbon Intensity gCO₂eq/kWh (LCA)  \\\n0                                    40.17                              60.73   \n1                                    39.88                              60.44   \n2                                    31.01                              50.04   \n3                                    26.88                              45.11   \n4                                    27.41                              45.59   \n...                                    ...                                ...   \n8755                                 21.31                              39.08   \n8756                                 20.90                              38.70   \n8757                                 21.85                              39.99   \n8758                                 21.27                              39.31   \n8759                                 23.53                              42.17   \n\n      Low Carbon Percentage  Renewable Percentage  \\\n0                     91.25                 15.73   \n1                     91.50                 16.52   \n2                     92.70                 15.67   \n3                     93.29                 15.49   \n4                     93.34                 15.01   \n...                     ...                   ...   \n8755                  95.06                 44.69   \n8756                  95.04                 44.33   \n8757                  94.82                 44.51   \n8758                  94.94                 44.18   \n8759                  94.71                 43.14   \n\n                       Data Source  Data Estimated Data Estimation Method  \n0     opendata.reseaux-energies.fr           False                    NaN  \n1     opendata.reseaux-energies.fr           False                    NaN  \n2     opendata.reseaux-energies.fr           False                    NaN  \n3     opendata.reseaux-energies.fr           False                    NaN  \n4     opendata.reseaux-energies.fr           False                    NaN  \n...                            ...             ...                    ...  \n8755  opendata.reseaux-energies.fr           False                    NaN  \n8756  opendata.reseaux-energies.fr           False                    NaN  \n8757  opendata.reseaux-energies.fr           False                    NaN  \n8758  opendata.reseaux-energies.fr           False                    NaN  \n8759  opendata.reseaux-energies.fr           False                    NaN  \n\n[17520 rows x 11 columns]",
      "text/html": "<div>\n<style scoped>\n    .dataframe tbody tr th:only-of-type {\n        vertical-align: middle;\n    }\n\n    .dataframe tbody tr th {\n        vertical-align: top;\n    }\n\n    .dataframe thead th {\n        text-align: right;\n    }\n</style>\n<table border=\"1\" class=\"dataframe\">\n  <thead>\n    <tr style=\"text-align: right;\">\n      <th></th>\n      <th>Datetime (UTC)</th>\n      <th>Country</th>\n      <th>Zone Name</th>\n      <th>Zone Id</th>\n      <th>Carbon Intensity gCO₂eq/kWh (direct)</th>\n      <th>Carbon Intensity gCO₂eq/kWh (LCA)</th>\n      <th>Low Carbon Percentage</th>\n      <th>Renewable Percentage</th>\n      <th>Data Source</th>\n      <th>Data Estimated</th>\n      <th>Data Estimation Method</th>\n    </tr>\n  </thead>\n  <tbody>\n    <tr>\n      <th>0</th>\n      <td>2021-01-01 00:00:00</td>\n      <td>France</td>\n      <td>France</td>\n      <td>FR</td>\n      <td>40.17</td>\n      <td>60.73</td>\n      <td>91.25</td>\n      <td>15.73</td>\n      <td>opendata.reseaux-energies.fr</td>\n      <td>False</td>\n      <td>NaN</td>\n    </tr>\n    <tr>\n      <th>1</th>\n      <td>2021-01-01 01:00:00</td>\n      <td>France</td>\n      <td>France</td>\n      <td>FR</td>\n      <td>39.88</td>\n      <td>60.44</td>\n      <td>91.50</td>\n      <td>16.52</td>\n      <td>opendata.reseaux-energies.fr</td>\n      <td>False</td>\n      <td>NaN</td>\n    </tr>\n    <tr>\n      <th>2</th>\n      <td>2021-01-01 02:00:00</td>\n      <td>France</td>\n      <td>France</td>\n      <td>FR</td>\n      <td>31.01</td>\n      <td>50.04</td>\n      <td>92.70</td>\n      <td>15.67</td>\n      <td>opendata.reseaux-energies.fr</td>\n      <td>False</td>\n      <td>NaN</td>\n    </tr>\n    <tr>\n      <th>3</th>\n      <td>2021-01-01 03:00:00</td>\n      <td>France</td>\n      <td>France</td>\n      <td>FR</td>\n      <td>26.88</td>\n      <td>45.11</td>\n      <td>93.29</td>\n      <td>15.49</td>\n      <td>opendata.reseaux-energies.fr</td>\n      <td>False</td>\n      <td>NaN</td>\n    </tr>\n    <tr>\n      <th>4</th>\n      <td>2021-01-01 04:00:00</td>\n      <td>France</td>\n      <td>France</td>\n      <td>FR</td>\n      <td>27.41</td>\n      <td>45.59</td>\n      <td>93.34</td>\n      <td>15.01</td>\n      <td>opendata.reseaux-energies.fr</td>\n      <td>False</td>\n      <td>NaN</td>\n    </tr>\n    <tr>\n      <th>...</th>\n      <td>...</td>\n      <td>...</td>\n      <td>...</td>\n      <td>...</td>\n      <td>...</td>\n      <td>...</td>\n      <td>...</td>\n      <td>...</td>\n      <td>...</td>\n      <td>...</td>\n      <td>...</td>\n    </tr>\n    <tr>\n      <th>8755</th>\n      <td>2022-12-31 19:00:00</td>\n      <td>France</td>\n      <td>France</td>\n      <td>FR</td>\n      <td>21.31</td>\n      <td>39.08</td>\n      <td>95.06</td>\n      <td>44.69</td>\n      <td>opendata.reseaux-energies.fr</td>\n      <td>False</td>\n      <td>NaN</td>\n    </tr>\n    <tr>\n      <th>8756</th>\n      <td>2022-12-31 20:00:00</td>\n      <td>France</td>\n      <td>France</td>\n      <td>FR</td>\n      <td>20.90</td>\n      <td>38.70</td>\n      <td>95.04</td>\n      <td>44.33</td>\n      <td>opendata.reseaux-energies.fr</td>\n      <td>False</td>\n      <td>NaN</td>\n    </tr>\n    <tr>\n      <th>8757</th>\n      <td>2022-12-31 21:00:00</td>\n      <td>France</td>\n      <td>France</td>\n      <td>FR</td>\n      <td>21.85</td>\n      <td>39.99</td>\n      <td>94.82</td>\n      <td>44.51</td>\n      <td>opendata.reseaux-energies.fr</td>\n      <td>False</td>\n      <td>NaN</td>\n    </tr>\n    <tr>\n      <th>8758</th>\n      <td>2022-12-31 22:00:00</td>\n      <td>France</td>\n      <td>France</td>\n      <td>FR</td>\n      <td>21.27</td>\n      <td>39.31</td>\n      <td>94.94</td>\n      <td>44.18</td>\n      <td>opendata.reseaux-energies.fr</td>\n      <td>False</td>\n      <td>NaN</td>\n    </tr>\n    <tr>\n      <th>8759</th>\n      <td>2022-12-31 23:00:00</td>\n      <td>France</td>\n      <td>France</td>\n      <td>FR</td>\n      <td>23.53</td>\n      <td>42.17</td>\n      <td>94.71</td>\n      <td>43.14</td>\n      <td>opendata.reseaux-energies.fr</td>\n      <td>False</td>\n      <td>NaN</td>\n    </tr>\n  </tbody>\n</table>\n<p>17520 rows × 11 columns</p>\n</div>"
     },
     "execution_count": 4,
     "metadata": {},
     "output_type": "execute_result"
    }
   ],
   "source": [
    "full_co2"
   ],
   "metadata": {
    "collapsed": false,
    "ExecuteTime": {
     "end_time": "2023-12-01T15:36:50.125202676Z",
     "start_time": "2023-12-01T15:36:50.085106111Z"
    }
   },
   "id": "9ed0daca2ebe3d34"
  },
  {
   "cell_type": "code",
   "execution_count": 5,
   "outputs": [],
   "source": [
    "co2 = full_co2[['Datetime (UTC)', 'Carbon Intensity gCO₂eq/kWh (direct)']].copy()\n",
    "co2.loc[:,'Datetime'] = pd.to_datetime(co2.loc[:,'Datetime (UTC)']) - pd.DateOffset(years=14)\n",
    "co2.set_index('Datetime', inplace=True)\n",
    "co2 = co2.loc[:, ['Carbon Intensity gCO₂eq/kWh (direct)']]\n",
    "co2 = co2.resample('min').interpolate(method='linear')"
   ],
   "metadata": {
    "collapsed": false,
    "ExecuteTime": {
     "end_time": "2023-12-01T15:36:50.385044137Z",
     "start_time": "2023-12-01T15:36:50.117045716Z"
    }
   },
   "id": "20901b2cceeff3d5"
  },
  {
   "cell_type": "code",
   "execution_count": 6,
   "outputs": [
    {
     "data": {
      "text/plain": "                     Carbon Intensity gCO₂eq/kWh (direct)\nDatetime                                                 \n2007-01-01 00:00:00                             40.170000\n2007-01-01 00:01:00                             40.165167\n2007-01-01 00:02:00                             40.160333\n2007-01-01 00:03:00                             40.155500\n2007-01-01 00:04:00                             40.150667\n...                                                   ...\n2008-12-31 22:56:00                             23.379333\n2008-12-31 22:57:00                             23.417000\n2008-12-31 22:58:00                             23.454667\n2008-12-31 22:59:00                             23.492333\n2008-12-31 23:00:00                             23.530000\n\n[1052581 rows x 1 columns]",
      "text/html": "<div>\n<style scoped>\n    .dataframe tbody tr th:only-of-type {\n        vertical-align: middle;\n    }\n\n    .dataframe tbody tr th {\n        vertical-align: top;\n    }\n\n    .dataframe thead th {\n        text-align: right;\n    }\n</style>\n<table border=\"1\" class=\"dataframe\">\n  <thead>\n    <tr style=\"text-align: right;\">\n      <th></th>\n      <th>Carbon Intensity gCO₂eq/kWh (direct)</th>\n    </tr>\n    <tr>\n      <th>Datetime</th>\n      <th></th>\n    </tr>\n  </thead>\n  <tbody>\n    <tr>\n      <th>2007-01-01 00:00:00</th>\n      <td>40.170000</td>\n    </tr>\n    <tr>\n      <th>2007-01-01 00:01:00</th>\n      <td>40.165167</td>\n    </tr>\n    <tr>\n      <th>2007-01-01 00:02:00</th>\n      <td>40.160333</td>\n    </tr>\n    <tr>\n      <th>2007-01-01 00:03:00</th>\n      <td>40.155500</td>\n    </tr>\n    <tr>\n      <th>2007-01-01 00:04:00</th>\n      <td>40.150667</td>\n    </tr>\n    <tr>\n      <th>...</th>\n      <td>...</td>\n    </tr>\n    <tr>\n      <th>2008-12-31 22:56:00</th>\n      <td>23.379333</td>\n    </tr>\n    <tr>\n      <th>2008-12-31 22:57:00</th>\n      <td>23.417000</td>\n    </tr>\n    <tr>\n      <th>2008-12-31 22:58:00</th>\n      <td>23.454667</td>\n    </tr>\n    <tr>\n      <th>2008-12-31 22:59:00</th>\n      <td>23.492333</td>\n    </tr>\n    <tr>\n      <th>2008-12-31 23:00:00</th>\n      <td>23.530000</td>\n    </tr>\n  </tbody>\n</table>\n<p>1052581 rows × 1 columns</p>\n</div>"
     },
     "execution_count": 6,
     "metadata": {},
     "output_type": "execute_result"
    }
   ],
   "source": [
    "co2"
   ],
   "metadata": {
    "collapsed": false,
    "ExecuteTime": {
     "end_time": "2023-12-01T15:36:50.415856317Z",
     "start_time": "2023-12-01T15:36:50.349855888Z"
    }
   },
   "id": "5e59154d7d05f906"
  },
  {
   "cell_type": "code",
   "execution_count": 8,
   "outputs": [],
   "source": [
    "co2_episodes = co2.groupby(pd.Grouper(freq='W'))"
   ],
   "metadata": {
    "collapsed": false,
    "ExecuteTime": {
     "end_time": "2023-11-18T09:33:41.098409020Z",
     "start_time": "2023-11-18T09:33:41.041961729Z"
    }
   },
   "id": "623ae51581823be9"
  },
  {
   "cell_type": "code",
   "execution_count": 9,
   "outputs": [
    {
     "data": {
      "text/plain": "           Carbon Intensity gCO₂eq/kWh (direct)                         \\\n                                          count        mean        std   \nDatetime                                                                 \n2007-01-07                              10080.0   64.332663  21.182310   \n2007-01-14                              10080.0   71.088221  12.040252   \n2007-01-21                              10080.0   51.792987  15.487180   \n2007-01-28                              10080.0   44.352553  16.035387   \n2007-02-04                              10080.0   27.124949   9.508444   \n...                                         ...         ...        ...   \n2008-12-07                              10080.0  113.855739   9.019801   \n2008-12-14                              10080.0  113.449273  11.835845   \n2008-12-21                              10080.0   71.012939  24.177168   \n2008-12-28                              10080.0   26.911353   5.879219   \n2009-01-04                               4261.0   22.308458   2.435671   \n\n                                                                   \n                  min         25%         50%         75%     max  \nDatetime                                                           \n2007-01-07  24.790000   44.883833   70.546750   82.896250   98.32  \n2007-01-14  42.183667   62.144417   71.884750   80.496292   96.05  \n2007-01-21  24.910000   40.719208   52.905417   66.003125   81.68  \n2007-01-28  20.545667   28.075000   44.747167   57.752833   77.42  \n2007-02-04  17.490000   20.686458   22.248000   31.944833   52.57  \n...               ...         ...         ...         ...     ...  \n2008-12-07  95.370000  106.903917  113.831083  120.719250  137.49  \n2008-12-14  86.790000  103.967250  114.090917  122.123917  142.38  \n2008-12-21  23.260667   52.118542   74.728417   92.314958  108.50  \n2008-12-28  15.490000   23.217167   26.569167   30.330250   40.50  \n2009-01-04  19.420000   20.728500   21.603333   22.740000   29.16  \n\n[105 rows x 8 columns]",
      "text/html": "<div>\n<style scoped>\n    .dataframe tbody tr th:only-of-type {\n        vertical-align: middle;\n    }\n\n    .dataframe tbody tr th {\n        vertical-align: top;\n    }\n\n    .dataframe thead tr th {\n        text-align: left;\n    }\n\n    .dataframe thead tr:last-of-type th {\n        text-align: right;\n    }\n</style>\n<table border=\"1\" class=\"dataframe\">\n  <thead>\n    <tr>\n      <th></th>\n      <th colspan=\"8\" halign=\"left\">Carbon Intensity gCO₂eq/kWh (direct)</th>\n    </tr>\n    <tr>\n      <th></th>\n      <th>count</th>\n      <th>mean</th>\n      <th>std</th>\n      <th>min</th>\n      <th>25%</th>\n      <th>50%</th>\n      <th>75%</th>\n      <th>max</th>\n    </tr>\n    <tr>\n      <th>Datetime</th>\n      <th></th>\n      <th></th>\n      <th></th>\n      <th></th>\n      <th></th>\n      <th></th>\n      <th></th>\n      <th></th>\n    </tr>\n  </thead>\n  <tbody>\n    <tr>\n      <th>2007-01-07</th>\n      <td>10080.0</td>\n      <td>64.332663</td>\n      <td>21.182310</td>\n      <td>24.790000</td>\n      <td>44.883833</td>\n      <td>70.546750</td>\n      <td>82.896250</td>\n      <td>98.32</td>\n    </tr>\n    <tr>\n      <th>2007-01-14</th>\n      <td>10080.0</td>\n      <td>71.088221</td>\n      <td>12.040252</td>\n      <td>42.183667</td>\n      <td>62.144417</td>\n      <td>71.884750</td>\n      <td>80.496292</td>\n      <td>96.05</td>\n    </tr>\n    <tr>\n      <th>2007-01-21</th>\n      <td>10080.0</td>\n      <td>51.792987</td>\n      <td>15.487180</td>\n      <td>24.910000</td>\n      <td>40.719208</td>\n      <td>52.905417</td>\n      <td>66.003125</td>\n      <td>81.68</td>\n    </tr>\n    <tr>\n      <th>2007-01-28</th>\n      <td>10080.0</td>\n      <td>44.352553</td>\n      <td>16.035387</td>\n      <td>20.545667</td>\n      <td>28.075000</td>\n      <td>44.747167</td>\n      <td>57.752833</td>\n      <td>77.42</td>\n    </tr>\n    <tr>\n      <th>2007-02-04</th>\n      <td>10080.0</td>\n      <td>27.124949</td>\n      <td>9.508444</td>\n      <td>17.490000</td>\n      <td>20.686458</td>\n      <td>22.248000</td>\n      <td>31.944833</td>\n      <td>52.57</td>\n    </tr>\n    <tr>\n      <th>...</th>\n      <td>...</td>\n      <td>...</td>\n      <td>...</td>\n      <td>...</td>\n      <td>...</td>\n      <td>...</td>\n      <td>...</td>\n      <td>...</td>\n    </tr>\n    <tr>\n      <th>2008-12-07</th>\n      <td>10080.0</td>\n      <td>113.855739</td>\n      <td>9.019801</td>\n      <td>95.370000</td>\n      <td>106.903917</td>\n      <td>113.831083</td>\n      <td>120.719250</td>\n      <td>137.49</td>\n    </tr>\n    <tr>\n      <th>2008-12-14</th>\n      <td>10080.0</td>\n      <td>113.449273</td>\n      <td>11.835845</td>\n      <td>86.790000</td>\n      <td>103.967250</td>\n      <td>114.090917</td>\n      <td>122.123917</td>\n      <td>142.38</td>\n    </tr>\n    <tr>\n      <th>2008-12-21</th>\n      <td>10080.0</td>\n      <td>71.012939</td>\n      <td>24.177168</td>\n      <td>23.260667</td>\n      <td>52.118542</td>\n      <td>74.728417</td>\n      <td>92.314958</td>\n      <td>108.50</td>\n    </tr>\n    <tr>\n      <th>2008-12-28</th>\n      <td>10080.0</td>\n      <td>26.911353</td>\n      <td>5.879219</td>\n      <td>15.490000</td>\n      <td>23.217167</td>\n      <td>26.569167</td>\n      <td>30.330250</td>\n      <td>40.50</td>\n    </tr>\n    <tr>\n      <th>2009-01-04</th>\n      <td>4261.0</td>\n      <td>22.308458</td>\n      <td>2.435671</td>\n      <td>19.420000</td>\n      <td>20.728500</td>\n      <td>21.603333</td>\n      <td>22.740000</td>\n      <td>29.16</td>\n    </tr>\n  </tbody>\n</table>\n<p>105 rows × 8 columns</p>\n</div>"
     },
     "execution_count": 9,
     "metadata": {},
     "output_type": "execute_result"
    }
   ],
   "source": [
    "co2_episodes.describe()"
   ],
   "metadata": {
    "collapsed": false,
    "ExecuteTime": {
     "end_time": "2023-11-18T09:33:42.054651094Z",
     "start_time": "2023-11-18T09:33:41.813442744Z"
    }
   },
   "id": "893d83ce5a6329c3"
  },
  {
   "cell_type": "code",
   "execution_count": 11,
   "outputs": [],
   "source": [
    "co2_episodes = pd.concat([group.fillna(0) for name, group in co2_episodes if len(group.dropna()) >= 10000 and group.index[0] >= datetime(2007, 1, 1) and group.index[-1] <= datetime(2008, 12, 31)]).groupby(pd.Grouper(freq='W'))"
   ],
   "metadata": {
    "collapsed": false,
    "ExecuteTime": {
     "end_time": "2023-11-18T09:33:57.748442454Z",
     "start_time": "2023-11-18T09:33:57.601840738Z"
    }
   },
   "id": "ca74ce1106cd3d44"
  },
  {
   "cell_type": "code",
   "execution_count": 12,
   "outputs": [
    {
     "data": {
      "text/plain": "           Carbon Intensity gCO₂eq/kWh (direct)                         \\\n                                          count        mean        std   \nDatetime                                                                 \n2007-01-07                              10080.0   64.332663  21.182310   \n2007-01-14                              10080.0   71.088221  12.040252   \n2007-01-21                              10080.0   51.792987  15.487180   \n2007-01-28                              10080.0   44.352553  16.035387   \n2007-02-04                              10080.0   27.124949   9.508444   \n...                                         ...         ...        ...   \n2008-11-30                              10080.0   86.269547  23.604567   \n2008-12-07                              10080.0  113.855739   9.019801   \n2008-12-14                              10080.0  113.449273  11.835845   \n2008-12-21                              10080.0   71.012939  24.177168   \n2008-12-28                              10080.0   26.911353   5.879219   \n\n                                                                   \n                  min         25%         50%         75%     max  \nDatetime                                                           \n2007-01-07  24.790000   44.883833   70.546750   82.896250   98.32  \n2007-01-14  42.183667   62.144417   71.884750   80.496292   96.05  \n2007-01-21  24.910000   40.719208   52.905417   66.003125   81.68  \n2007-01-28  20.545667   28.075000   44.747167   57.752833   77.42  \n2007-02-04  17.490000   20.686458   22.248000   31.944833   52.57  \n...               ...         ...         ...         ...     ...  \n2008-11-30  37.400000   65.478958   86.615083  104.924000  133.58  \n2008-12-07  95.370000  106.903917  113.831083  120.719250  137.49  \n2008-12-14  86.790000  103.967250  114.090917  122.123917  142.38  \n2008-12-21  23.260667   52.118542   74.728417   92.314958  108.50  \n2008-12-28  15.490000   23.217167   26.569167   30.330250   40.50  \n\n[104 rows x 8 columns]",
      "text/html": "<div>\n<style scoped>\n    .dataframe tbody tr th:only-of-type {\n        vertical-align: middle;\n    }\n\n    .dataframe tbody tr th {\n        vertical-align: top;\n    }\n\n    .dataframe thead tr th {\n        text-align: left;\n    }\n\n    .dataframe thead tr:last-of-type th {\n        text-align: right;\n    }\n</style>\n<table border=\"1\" class=\"dataframe\">\n  <thead>\n    <tr>\n      <th></th>\n      <th colspan=\"8\" halign=\"left\">Carbon Intensity gCO₂eq/kWh (direct)</th>\n    </tr>\n    <tr>\n      <th></th>\n      <th>count</th>\n      <th>mean</th>\n      <th>std</th>\n      <th>min</th>\n      <th>25%</th>\n      <th>50%</th>\n      <th>75%</th>\n      <th>max</th>\n    </tr>\n    <tr>\n      <th>Datetime</th>\n      <th></th>\n      <th></th>\n      <th></th>\n      <th></th>\n      <th></th>\n      <th></th>\n      <th></th>\n      <th></th>\n    </tr>\n  </thead>\n  <tbody>\n    <tr>\n      <th>2007-01-07</th>\n      <td>10080.0</td>\n      <td>64.332663</td>\n      <td>21.182310</td>\n      <td>24.790000</td>\n      <td>44.883833</td>\n      <td>70.546750</td>\n      <td>82.896250</td>\n      <td>98.32</td>\n    </tr>\n    <tr>\n      <th>2007-01-14</th>\n      <td>10080.0</td>\n      <td>71.088221</td>\n      <td>12.040252</td>\n      <td>42.183667</td>\n      <td>62.144417</td>\n      <td>71.884750</td>\n      <td>80.496292</td>\n      <td>96.05</td>\n    </tr>\n    <tr>\n      <th>2007-01-21</th>\n      <td>10080.0</td>\n      <td>51.792987</td>\n      <td>15.487180</td>\n      <td>24.910000</td>\n      <td>40.719208</td>\n      <td>52.905417</td>\n      <td>66.003125</td>\n      <td>81.68</td>\n    </tr>\n    <tr>\n      <th>2007-01-28</th>\n      <td>10080.0</td>\n      <td>44.352553</td>\n      <td>16.035387</td>\n      <td>20.545667</td>\n      <td>28.075000</td>\n      <td>44.747167</td>\n      <td>57.752833</td>\n      <td>77.42</td>\n    </tr>\n    <tr>\n      <th>2007-02-04</th>\n      <td>10080.0</td>\n      <td>27.124949</td>\n      <td>9.508444</td>\n      <td>17.490000</td>\n      <td>20.686458</td>\n      <td>22.248000</td>\n      <td>31.944833</td>\n      <td>52.57</td>\n    </tr>\n    <tr>\n      <th>...</th>\n      <td>...</td>\n      <td>...</td>\n      <td>...</td>\n      <td>...</td>\n      <td>...</td>\n      <td>...</td>\n      <td>...</td>\n      <td>...</td>\n    </tr>\n    <tr>\n      <th>2008-11-30</th>\n      <td>10080.0</td>\n      <td>86.269547</td>\n      <td>23.604567</td>\n      <td>37.400000</td>\n      <td>65.478958</td>\n      <td>86.615083</td>\n      <td>104.924000</td>\n      <td>133.58</td>\n    </tr>\n    <tr>\n      <th>2008-12-07</th>\n      <td>10080.0</td>\n      <td>113.855739</td>\n      <td>9.019801</td>\n      <td>95.370000</td>\n      <td>106.903917</td>\n      <td>113.831083</td>\n      <td>120.719250</td>\n      <td>137.49</td>\n    </tr>\n    <tr>\n      <th>2008-12-14</th>\n      <td>10080.0</td>\n      <td>113.449273</td>\n      <td>11.835845</td>\n      <td>86.790000</td>\n      <td>103.967250</td>\n      <td>114.090917</td>\n      <td>122.123917</td>\n      <td>142.38</td>\n    </tr>\n    <tr>\n      <th>2008-12-21</th>\n      <td>10080.0</td>\n      <td>71.012939</td>\n      <td>24.177168</td>\n      <td>23.260667</td>\n      <td>52.118542</td>\n      <td>74.728417</td>\n      <td>92.314958</td>\n      <td>108.50</td>\n    </tr>\n    <tr>\n      <th>2008-12-28</th>\n      <td>10080.0</td>\n      <td>26.911353</td>\n      <td>5.879219</td>\n      <td>15.490000</td>\n      <td>23.217167</td>\n      <td>26.569167</td>\n      <td>30.330250</td>\n      <td>40.50</td>\n    </tr>\n  </tbody>\n</table>\n<p>104 rows × 8 columns</p>\n</div>"
     },
     "execution_count": 12,
     "metadata": {},
     "output_type": "execute_result"
    }
   ],
   "source": [
    "co2_episodes.describe()"
   ],
   "metadata": {
    "collapsed": false,
    "ExecuteTime": {
     "end_time": "2023-11-18T09:33:59.124985748Z",
     "start_time": "2023-11-18T09:33:58.808042719Z"
    }
   },
   "id": "52468774bc44c8d2"
  },
  {
   "cell_type": "code",
   "execution_count": 15,
   "outputs": [],
   "source": [
    "demand =  pd.HDFStore('./minutely/demand.h5')\n",
    "with pd.HDFStore('./minutely/co2.h5') as store:\n",
    "    # Save each DataFrame with a key\n",
    "    i = 0\n",
    "    for name, group in co2_episodes:\n",
    "        if name.date() == demand[f\"eps_{i}\"].index[-1].date():\n",
    "            store[f'eps_{i}'] = group\n",
    "            i += 1\n",
    "file = pd.HDFStore('./minutely/co2.h5')\n",
    "print(len(file) == len(demand))\n",
    "file.close()\n",
    "demand.close()"
   ],
   "metadata": {
    "collapsed": false,
    "ExecuteTime": {
     "end_time": "2023-11-18T09:34:08.912360567Z",
     "start_time": "2023-11-18T09:34:06.833847019Z"
    }
   },
   "id": "95522d8874507ccf"
  }
 ],
 "metadata": {
  "kernelspec": {
   "display_name": "Python 3",
   "language": "python",
   "name": "python3"
  },
  "language_info": {
   "codemirror_mode": {
    "name": "ipython",
    "version": 2
   },
   "file_extension": ".py",
   "mimetype": "text/x-python",
   "name": "python",
   "nbconvert_exporter": "python",
   "pygments_lexer": "ipython2",
   "version": "2.7.6"
  }
 },
 "nbformat": 4,
 "nbformat_minor": 5
}
