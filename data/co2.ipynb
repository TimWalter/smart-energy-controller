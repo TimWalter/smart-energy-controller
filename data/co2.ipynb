{
 "cells": [
  {
   "cell_type": "code",
   "execution_count": 60,
   "outputs": [
    {
     "name": "stdout",
     "output_type": "stream",
     "text": [
      "The autoreload extension is already loaded. To reload it, use:\n",
      "  %reload_ext autoreload\n"
     ]
    }
   ],
   "source": [
    "%load_ext autoreload\n",
    "%autoreload 2"
   ],
   "metadata": {
    "collapsed": false,
    "ExecuteTime": {
     "end_time": "2023-11-15T16:17:28.718053100Z",
     "start_time": "2023-11-15T16:17:28.461621100Z"
    }
   },
   "id": "c3685f7fdcd2c661"
  },
  {
   "cell_type": "code",
   "execution_count": 61,
   "outputs": [],
   "source": [
    "import pandas as pd"
   ],
   "metadata": {
    "collapsed": false,
    "ExecuteTime": {
     "end_time": "2023-11-15T16:17:29.022302Z",
     "start_time": "2023-11-15T16:17:28.718053100Z"
    }
   },
   "id": "f6576103ab8fa72d"
  },
  {
   "cell_type": "code",
   "execution_count": 67,
   "outputs": [],
   "source": [
    "full_co2 = pd.concat([pd.read_csv(\"./raw/FR_2021_hourly.csv\"), pd.read_csv(\"./raw/FR_2022_hourly.csv\")])"
   ],
   "metadata": {
    "collapsed": false,
    "ExecuteTime": {
     "end_time": "2023-11-15T16:20:32.096526700Z",
     "start_time": "2023-11-15T16:20:31.802401800Z"
    }
   },
   "id": "156e5e144e39e2d9"
  },
  {
   "cell_type": "code",
   "execution_count": 68,
   "outputs": [
    {
     "data": {
      "text/plain": "           Datetime (UTC) Country Zone Name Zone Id  \\\n0     2021-01-01 00:00:00  France    France      FR   \n1     2021-01-01 01:00:00  France    France      FR   \n2     2021-01-01 02:00:00  France    France      FR   \n3     2021-01-01 03:00:00  France    France      FR   \n4     2021-01-01 04:00:00  France    France      FR   \n...                   ...     ...       ...     ...   \n8755  2022-12-31 19:00:00  France    France      FR   \n8756  2022-12-31 20:00:00  France    France      FR   \n8757  2022-12-31 21:00:00  France    France      FR   \n8758  2022-12-31 22:00:00  France    France      FR   \n8759  2022-12-31 23:00:00  France    France      FR   \n\n      Carbon Intensity gCO₂eq/kWh (direct)  Carbon Intensity gCO₂eq/kWh (LCA)  \\\n0                                    40.17                              60.73   \n1                                    39.88                              60.44   \n2                                    31.01                              50.04   \n3                                    26.88                              45.11   \n4                                    27.41                              45.59   \n...                                    ...                                ...   \n8755                                 21.31                              39.08   \n8756                                 20.90                              38.70   \n8757                                 21.85                              39.99   \n8758                                 21.27                              39.31   \n8759                                 23.53                              42.17   \n\n      Low Carbon Percentage  Renewable Percentage  \\\n0                     91.25                 15.73   \n1                     91.50                 16.52   \n2                     92.70                 15.67   \n3                     93.29                 15.49   \n4                     93.34                 15.01   \n...                     ...                   ...   \n8755                  95.06                 44.69   \n8756                  95.04                 44.33   \n8757                  94.82                 44.51   \n8758                  94.94                 44.18   \n8759                  94.71                 43.14   \n\n                       Data Source  Data Estimated Data Estimation Method  \n0     opendata.reseaux-energies.fr           False                    NaN  \n1     opendata.reseaux-energies.fr           False                    NaN  \n2     opendata.reseaux-energies.fr           False                    NaN  \n3     opendata.reseaux-energies.fr           False                    NaN  \n4     opendata.reseaux-energies.fr           False                    NaN  \n...                            ...             ...                    ...  \n8755  opendata.reseaux-energies.fr           False                    NaN  \n8756  opendata.reseaux-energies.fr           False                    NaN  \n8757  opendata.reseaux-energies.fr           False                    NaN  \n8758  opendata.reseaux-energies.fr           False                    NaN  \n8759  opendata.reseaux-energies.fr           False                    NaN  \n\n[17520 rows x 11 columns]",
      "text/html": "<div>\n<style scoped>\n    .dataframe tbody tr th:only-of-type {\n        vertical-align: middle;\n    }\n\n    .dataframe tbody tr th {\n        vertical-align: top;\n    }\n\n    .dataframe thead th {\n        text-align: right;\n    }\n</style>\n<table border=\"1\" class=\"dataframe\">\n  <thead>\n    <tr style=\"text-align: right;\">\n      <th></th>\n      <th>Datetime (UTC)</th>\n      <th>Country</th>\n      <th>Zone Name</th>\n      <th>Zone Id</th>\n      <th>Carbon Intensity gCO₂eq/kWh (direct)</th>\n      <th>Carbon Intensity gCO₂eq/kWh (LCA)</th>\n      <th>Low Carbon Percentage</th>\n      <th>Renewable Percentage</th>\n      <th>Data Source</th>\n      <th>Data Estimated</th>\n      <th>Data Estimation Method</th>\n    </tr>\n  </thead>\n  <tbody>\n    <tr>\n      <th>0</th>\n      <td>2021-01-01 00:00:00</td>\n      <td>France</td>\n      <td>France</td>\n      <td>FR</td>\n      <td>40.17</td>\n      <td>60.73</td>\n      <td>91.25</td>\n      <td>15.73</td>\n      <td>opendata.reseaux-energies.fr</td>\n      <td>False</td>\n      <td>NaN</td>\n    </tr>\n    <tr>\n      <th>1</th>\n      <td>2021-01-01 01:00:00</td>\n      <td>France</td>\n      <td>France</td>\n      <td>FR</td>\n      <td>39.88</td>\n      <td>60.44</td>\n      <td>91.50</td>\n      <td>16.52</td>\n      <td>opendata.reseaux-energies.fr</td>\n      <td>False</td>\n      <td>NaN</td>\n    </tr>\n    <tr>\n      <th>2</th>\n      <td>2021-01-01 02:00:00</td>\n      <td>France</td>\n      <td>France</td>\n      <td>FR</td>\n      <td>31.01</td>\n      <td>50.04</td>\n      <td>92.70</td>\n      <td>15.67</td>\n      <td>opendata.reseaux-energies.fr</td>\n      <td>False</td>\n      <td>NaN</td>\n    </tr>\n    <tr>\n      <th>3</th>\n      <td>2021-01-01 03:00:00</td>\n      <td>France</td>\n      <td>France</td>\n      <td>FR</td>\n      <td>26.88</td>\n      <td>45.11</td>\n      <td>93.29</td>\n      <td>15.49</td>\n      <td>opendata.reseaux-energies.fr</td>\n      <td>False</td>\n      <td>NaN</td>\n    </tr>\n    <tr>\n      <th>4</th>\n      <td>2021-01-01 04:00:00</td>\n      <td>France</td>\n      <td>France</td>\n      <td>FR</td>\n      <td>27.41</td>\n      <td>45.59</td>\n      <td>93.34</td>\n      <td>15.01</td>\n      <td>opendata.reseaux-energies.fr</td>\n      <td>False</td>\n      <td>NaN</td>\n    </tr>\n    <tr>\n      <th>...</th>\n      <td>...</td>\n      <td>...</td>\n      <td>...</td>\n      <td>...</td>\n      <td>...</td>\n      <td>...</td>\n      <td>...</td>\n      <td>...</td>\n      <td>...</td>\n      <td>...</td>\n      <td>...</td>\n    </tr>\n    <tr>\n      <th>8755</th>\n      <td>2022-12-31 19:00:00</td>\n      <td>France</td>\n      <td>France</td>\n      <td>FR</td>\n      <td>21.31</td>\n      <td>39.08</td>\n      <td>95.06</td>\n      <td>44.69</td>\n      <td>opendata.reseaux-energies.fr</td>\n      <td>False</td>\n      <td>NaN</td>\n    </tr>\n    <tr>\n      <th>8756</th>\n      <td>2022-12-31 20:00:00</td>\n      <td>France</td>\n      <td>France</td>\n      <td>FR</td>\n      <td>20.90</td>\n      <td>38.70</td>\n      <td>95.04</td>\n      <td>44.33</td>\n      <td>opendata.reseaux-energies.fr</td>\n      <td>False</td>\n      <td>NaN</td>\n    </tr>\n    <tr>\n      <th>8757</th>\n      <td>2022-12-31 21:00:00</td>\n      <td>France</td>\n      <td>France</td>\n      <td>FR</td>\n      <td>21.85</td>\n      <td>39.99</td>\n      <td>94.82</td>\n      <td>44.51</td>\n      <td>opendata.reseaux-energies.fr</td>\n      <td>False</td>\n      <td>NaN</td>\n    </tr>\n    <tr>\n      <th>8758</th>\n      <td>2022-12-31 22:00:00</td>\n      <td>France</td>\n      <td>France</td>\n      <td>FR</td>\n      <td>21.27</td>\n      <td>39.31</td>\n      <td>94.94</td>\n      <td>44.18</td>\n      <td>opendata.reseaux-energies.fr</td>\n      <td>False</td>\n      <td>NaN</td>\n    </tr>\n    <tr>\n      <th>8759</th>\n      <td>2022-12-31 23:00:00</td>\n      <td>France</td>\n      <td>France</td>\n      <td>FR</td>\n      <td>23.53</td>\n      <td>42.17</td>\n      <td>94.71</td>\n      <td>43.14</td>\n      <td>opendata.reseaux-energies.fr</td>\n      <td>False</td>\n      <td>NaN</td>\n    </tr>\n  </tbody>\n</table>\n<p>17520 rows × 11 columns</p>\n</div>"
     },
     "execution_count": 68,
     "metadata": {},
     "output_type": "execute_result"
    }
   ],
   "source": [
    "full_co2"
   ],
   "metadata": {
    "collapsed": false,
    "ExecuteTime": {
     "end_time": "2023-11-15T16:20:32.344049900Z",
     "start_time": "2023-11-15T16:20:32.096526700Z"
    }
   },
   "id": "9ed0daca2ebe3d34"
  },
  {
   "cell_type": "code",
   "execution_count": 103,
   "outputs": [],
   "source": [
    "co2 = full_co2[['Datetime (UTC)', 'Carbon Intensity gCO₂eq/kWh (direct)']].copy()\n",
    "co2.loc[:,'Datetime'] = pd.to_datetime(co2.loc[:,'Datetime (UTC)'])\n",
    "co2.set_index('Datetime', inplace=True)\n",
    "co2 = co2.loc[:, ['Carbon Intensity gCO₂eq/kWh (direct)']]\n",
    "co2 = co2.resample('min').interpolate(method='linear')"
   ],
   "metadata": {
    "collapsed": false,
    "ExecuteTime": {
     "end_time": "2023-11-15T16:34:31.149230900Z",
     "start_time": "2023-11-15T16:34:30.727640Z"
    }
   },
   "id": "20901b2cceeff3d5"
  },
  {
   "cell_type": "code",
   "execution_count": 104,
   "outputs": [
    {
     "data": {
      "text/plain": "                     Carbon Intensity gCO₂eq/kWh (direct)\nDatetime                                                 \n2021-01-01 00:00:00                             40.170000\n2021-01-01 00:01:00                             40.165167\n2021-01-01 00:02:00                             40.160333\n2021-01-01 00:03:00                             40.155500\n2021-01-01 00:04:00                             40.150667\n...                                                   ...\n2022-12-31 22:56:00                             23.379333\n2022-12-31 22:57:00                             23.417000\n2022-12-31 22:58:00                             23.454667\n2022-12-31 22:59:00                             23.492333\n2022-12-31 23:00:00                             23.530000\n\n[1051141 rows x 1 columns]",
      "text/html": "<div>\n<style scoped>\n    .dataframe tbody tr th:only-of-type {\n        vertical-align: middle;\n    }\n\n    .dataframe tbody tr th {\n        vertical-align: top;\n    }\n\n    .dataframe thead th {\n        text-align: right;\n    }\n</style>\n<table border=\"1\" class=\"dataframe\">\n  <thead>\n    <tr style=\"text-align: right;\">\n      <th></th>\n      <th>Carbon Intensity gCO₂eq/kWh (direct)</th>\n    </tr>\n    <tr>\n      <th>Datetime</th>\n      <th></th>\n    </tr>\n  </thead>\n  <tbody>\n    <tr>\n      <th>2021-01-01 00:00:00</th>\n      <td>40.170000</td>\n    </tr>\n    <tr>\n      <th>2021-01-01 00:01:00</th>\n      <td>40.165167</td>\n    </tr>\n    <tr>\n      <th>2021-01-01 00:02:00</th>\n      <td>40.160333</td>\n    </tr>\n    <tr>\n      <th>2021-01-01 00:03:00</th>\n      <td>40.155500</td>\n    </tr>\n    <tr>\n      <th>2021-01-01 00:04:00</th>\n      <td>40.150667</td>\n    </tr>\n    <tr>\n      <th>...</th>\n      <td>...</td>\n    </tr>\n    <tr>\n      <th>2022-12-31 22:56:00</th>\n      <td>23.379333</td>\n    </tr>\n    <tr>\n      <th>2022-12-31 22:57:00</th>\n      <td>23.417000</td>\n    </tr>\n    <tr>\n      <th>2022-12-31 22:58:00</th>\n      <td>23.454667</td>\n    </tr>\n    <tr>\n      <th>2022-12-31 22:59:00</th>\n      <td>23.492333</td>\n    </tr>\n    <tr>\n      <th>2022-12-31 23:00:00</th>\n      <td>23.530000</td>\n    </tr>\n  </tbody>\n</table>\n<p>1051141 rows × 1 columns</p>\n</div>"
     },
     "execution_count": 104,
     "metadata": {},
     "output_type": "execute_result"
    }
   ],
   "source": [
    "co2"
   ],
   "metadata": {
    "collapsed": false,
    "ExecuteTime": {
     "end_time": "2023-11-15T16:34:31.990227300Z",
     "start_time": "2023-11-15T16:34:31.731255900Z"
    }
   },
   "id": "5e59154d7d05f906"
  },
  {
   "cell_type": "code",
   "execution_count": 105,
   "outputs": [],
   "source": [
    "co2_episodes = co2.groupby(pd.Grouper(freq='W'))"
   ],
   "metadata": {
    "collapsed": false,
    "ExecuteTime": {
     "end_time": "2023-11-15T16:34:57.771516900Z",
     "start_time": "2023-11-15T16:34:57.406957700Z"
    }
   },
   "id": "623ae51581823be9"
  },
  {
   "cell_type": "code",
   "execution_count": 107,
   "outputs": [
    {
     "data": {
      "text/plain": "           Carbon Intensity gCO₂eq/kWh (direct)                         \\\n                                          count        mean        std   \nDatetime                                                                 \n2021-01-03                               4320.0   42.490050   9.814865   \n2021-01-10                              10080.0   80.678454   8.489673   \n2021-01-17                              10080.0   63.016483   9.794197   \n2021-01-24                              10080.0   38.966363  14.053499   \n2021-01-31                              10080.0   39.653581  19.218117   \n...                                         ...         ...        ...   \n2022-12-04                              10080.0  109.829624  10.316477   \n2022-12-11                              10080.0  118.030816   9.553280   \n2022-12-18                              10080.0   97.095583  14.553193   \n2022-12-25                              10080.0   36.068812  12.072084   \n2023-01-01                               8581.0   23.734155   4.914754   \n\n                                                                \n               min         25%         50%         75%     max  \nDatetime                                                        \n2021-01-03  24.790   33.621000   42.429250   48.239750   61.47  \n2021-01-10  52.780   76.488625   81.228500   85.702625   98.32  \n2021-01-17  42.140   57.149292   63.222167   70.170250   84.23  \n2021-01-24  23.040   27.255500   32.696333   49.200667   73.45  \n2021-01-31  17.490   21.563792   35.217500   57.752833   77.42  \n...            ...         ...         ...         ...     ...  \n2022-12-04  76.150  102.613583  109.127167  118.250500  133.58  \n2022-12-11  92.790  112.122125  117.616167  124.549042  142.38  \n2022-12-18  39.572   89.753250   97.581500  105.083958  135.83  \n2022-12-25  21.950   26.294000   31.585583   47.357333   61.84  \n2023-01-01  15.490   20.365167   22.006667   27.188333   37.50  \n\n[105 rows x 8 columns]",
      "text/html": "<div>\n<style scoped>\n    .dataframe tbody tr th:only-of-type {\n        vertical-align: middle;\n    }\n\n    .dataframe tbody tr th {\n        vertical-align: top;\n    }\n\n    .dataframe thead tr th {\n        text-align: left;\n    }\n\n    .dataframe thead tr:last-of-type th {\n        text-align: right;\n    }\n</style>\n<table border=\"1\" class=\"dataframe\">\n  <thead>\n    <tr>\n      <th></th>\n      <th colspan=\"8\" halign=\"left\">Carbon Intensity gCO₂eq/kWh (direct)</th>\n    </tr>\n    <tr>\n      <th></th>\n      <th>count</th>\n      <th>mean</th>\n      <th>std</th>\n      <th>min</th>\n      <th>25%</th>\n      <th>50%</th>\n      <th>75%</th>\n      <th>max</th>\n    </tr>\n    <tr>\n      <th>Datetime</th>\n      <th></th>\n      <th></th>\n      <th></th>\n      <th></th>\n      <th></th>\n      <th></th>\n      <th></th>\n      <th></th>\n    </tr>\n  </thead>\n  <tbody>\n    <tr>\n      <th>2021-01-03</th>\n      <td>4320.0</td>\n      <td>42.490050</td>\n      <td>9.814865</td>\n      <td>24.790</td>\n      <td>33.621000</td>\n      <td>42.429250</td>\n      <td>48.239750</td>\n      <td>61.47</td>\n    </tr>\n    <tr>\n      <th>2021-01-10</th>\n      <td>10080.0</td>\n      <td>80.678454</td>\n      <td>8.489673</td>\n      <td>52.780</td>\n      <td>76.488625</td>\n      <td>81.228500</td>\n      <td>85.702625</td>\n      <td>98.32</td>\n    </tr>\n    <tr>\n      <th>2021-01-17</th>\n      <td>10080.0</td>\n      <td>63.016483</td>\n      <td>9.794197</td>\n      <td>42.140</td>\n      <td>57.149292</td>\n      <td>63.222167</td>\n      <td>70.170250</td>\n      <td>84.23</td>\n    </tr>\n    <tr>\n      <th>2021-01-24</th>\n      <td>10080.0</td>\n      <td>38.966363</td>\n      <td>14.053499</td>\n      <td>23.040</td>\n      <td>27.255500</td>\n      <td>32.696333</td>\n      <td>49.200667</td>\n      <td>73.45</td>\n    </tr>\n    <tr>\n      <th>2021-01-31</th>\n      <td>10080.0</td>\n      <td>39.653581</td>\n      <td>19.218117</td>\n      <td>17.490</td>\n      <td>21.563792</td>\n      <td>35.217500</td>\n      <td>57.752833</td>\n      <td>77.42</td>\n    </tr>\n    <tr>\n      <th>...</th>\n      <td>...</td>\n      <td>...</td>\n      <td>...</td>\n      <td>...</td>\n      <td>...</td>\n      <td>...</td>\n      <td>...</td>\n      <td>...</td>\n    </tr>\n    <tr>\n      <th>2022-12-04</th>\n      <td>10080.0</td>\n      <td>109.829624</td>\n      <td>10.316477</td>\n      <td>76.150</td>\n      <td>102.613583</td>\n      <td>109.127167</td>\n      <td>118.250500</td>\n      <td>133.58</td>\n    </tr>\n    <tr>\n      <th>2022-12-11</th>\n      <td>10080.0</td>\n      <td>118.030816</td>\n      <td>9.553280</td>\n      <td>92.790</td>\n      <td>112.122125</td>\n      <td>117.616167</td>\n      <td>124.549042</td>\n      <td>142.38</td>\n    </tr>\n    <tr>\n      <th>2022-12-18</th>\n      <td>10080.0</td>\n      <td>97.095583</td>\n      <td>14.553193</td>\n      <td>39.572</td>\n      <td>89.753250</td>\n      <td>97.581500</td>\n      <td>105.083958</td>\n      <td>135.83</td>\n    </tr>\n    <tr>\n      <th>2022-12-25</th>\n      <td>10080.0</td>\n      <td>36.068812</td>\n      <td>12.072084</td>\n      <td>21.950</td>\n      <td>26.294000</td>\n      <td>31.585583</td>\n      <td>47.357333</td>\n      <td>61.84</td>\n    </tr>\n    <tr>\n      <th>2023-01-01</th>\n      <td>8581.0</td>\n      <td>23.734155</td>\n      <td>4.914754</td>\n      <td>15.490</td>\n      <td>20.365167</td>\n      <td>22.006667</td>\n      <td>27.188333</td>\n      <td>37.50</td>\n    </tr>\n  </tbody>\n</table>\n<p>105 rows × 8 columns</p>\n</div>"
     },
     "execution_count": 107,
     "metadata": {},
     "output_type": "execute_result"
    }
   ],
   "source": [
    "co2_episodes.describe()"
   ],
   "metadata": {
    "collapsed": false,
    "ExecuteTime": {
     "end_time": "2023-11-15T16:35:20.676326300Z",
     "start_time": "2023-11-15T16:35:19.896311100Z"
    }
   },
   "id": "893d83ce5a6329c3"
  },
  {
   "cell_type": "code",
   "execution_count": null,
   "outputs": [],
   "source": [],
   "metadata": {
    "collapsed": false
   },
   "id": "e7bf857490673b4"
  }
 ],
 "metadata": {
  "kernelspec": {
   "display_name": "Python 3",
   "language": "python",
   "name": "python3"
  },
  "language_info": {
   "codemirror_mode": {
    "name": "ipython",
    "version": 2
   },
   "file_extension": ".py",
   "mimetype": "text/x-python",
   "name": "python",
   "nbconvert_exporter": "python",
   "pygments_lexer": "ipython2",
   "version": "2.7.6"
  }
 },
 "nbformat": 4,
 "nbformat_minor": 5
}
