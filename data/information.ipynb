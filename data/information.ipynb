{
 "cells": [
  {
   "cell_type": "code",
   "execution_count": 1,
   "id": "initial_id",
   "metadata": {
    "collapsed": true,
    "ExecuteTime": {
     "end_time": "2023-12-02T09:40:10.638667668Z",
     "start_time": "2023-12-02T09:40:10.570979293Z"
    }
   },
   "outputs": [],
   "source": [
    "%load_ext autoreload\n",
    "%autoreload 2"
   ]
  },
  {
   "cell_type": "code",
   "execution_count": 2,
   "outputs": [],
   "source": [
    "import pandas as pd\n",
    "from datetime import datetime"
   ],
   "metadata": {
    "collapsed": false,
    "ExecuteTime": {
     "end_time": "2023-12-02T09:40:10.994878071Z",
     "start_time": "2023-12-02T09:40:10.575801596Z"
    }
   },
   "id": "23cf97c3fb4205a2"
  },
  {
   "cell_type": "code",
   "execution_count": 3,
   "outputs": [],
   "source": [
    "full_temperature = pd.read_csv(\"./raw/temperature.csv\")"
   ],
   "metadata": {
    "collapsed": false,
    "ExecuteTime": {
     "end_time": "2023-12-02T09:40:11.075484819Z",
     "start_time": "2023-12-02T09:40:10.996540305Z"
    }
   },
   "id": "7d1743c77eab71b5"
  },
  {
   "cell_type": "code",
   "execution_count": 4,
   "outputs": [
    {
     "data": {
      "text/plain": "                time  G(i)  H_sun   T2m  WS10m  Int\n0      20060101:0010   0.0    0.0  3.39   4.28  0.0\n1      20060101:0110   0.0    0.0  2.93   4.21  0.0\n2      20060101:0210   0.0    0.0  2.65   4.28  0.0\n3      20060101:0310   0.0    0.0  2.49   4.28  0.0\n4      20060101:0410   0.0    0.0  2.12   4.21  0.0\n...              ...   ...    ...   ...    ...  ...\n43819  20101231:1910   0.0    0.0 -0.11   2.21  0.0\n43820  20101231:2010   0.0    0.0 -0.27   2.21  0.0\n43821  20101231:2110   0.0    0.0 -0.48   2.21  0.0\n43822  20101231:2210   0.0    0.0 -0.68   2.00  0.0\n43823  20101231:2310   0.0    0.0 -0.81   1.45  0.0\n\n[43824 rows x 6 columns]",
      "text/html": "<div>\n<style scoped>\n    .dataframe tbody tr th:only-of-type {\n        vertical-align: middle;\n    }\n\n    .dataframe tbody tr th {\n        vertical-align: top;\n    }\n\n    .dataframe thead th {\n        text-align: right;\n    }\n</style>\n<table border=\"1\" class=\"dataframe\">\n  <thead>\n    <tr style=\"text-align: right;\">\n      <th></th>\n      <th>time</th>\n      <th>G(i)</th>\n      <th>H_sun</th>\n      <th>T2m</th>\n      <th>WS10m</th>\n      <th>Int</th>\n    </tr>\n  </thead>\n  <tbody>\n    <tr>\n      <th>0</th>\n      <td>20060101:0010</td>\n      <td>0.0</td>\n      <td>0.0</td>\n      <td>3.39</td>\n      <td>4.28</td>\n      <td>0.0</td>\n    </tr>\n    <tr>\n      <th>1</th>\n      <td>20060101:0110</td>\n      <td>0.0</td>\n      <td>0.0</td>\n      <td>2.93</td>\n      <td>4.21</td>\n      <td>0.0</td>\n    </tr>\n    <tr>\n      <th>2</th>\n      <td>20060101:0210</td>\n      <td>0.0</td>\n      <td>0.0</td>\n      <td>2.65</td>\n      <td>4.28</td>\n      <td>0.0</td>\n    </tr>\n    <tr>\n      <th>3</th>\n      <td>20060101:0310</td>\n      <td>0.0</td>\n      <td>0.0</td>\n      <td>2.49</td>\n      <td>4.28</td>\n      <td>0.0</td>\n    </tr>\n    <tr>\n      <th>4</th>\n      <td>20060101:0410</td>\n      <td>0.0</td>\n      <td>0.0</td>\n      <td>2.12</td>\n      <td>4.21</td>\n      <td>0.0</td>\n    </tr>\n    <tr>\n      <th>...</th>\n      <td>...</td>\n      <td>...</td>\n      <td>...</td>\n      <td>...</td>\n      <td>...</td>\n      <td>...</td>\n    </tr>\n    <tr>\n      <th>43819</th>\n      <td>20101231:1910</td>\n      <td>0.0</td>\n      <td>0.0</td>\n      <td>-0.11</td>\n      <td>2.21</td>\n      <td>0.0</td>\n    </tr>\n    <tr>\n      <th>43820</th>\n      <td>20101231:2010</td>\n      <td>0.0</td>\n      <td>0.0</td>\n      <td>-0.27</td>\n      <td>2.21</td>\n      <td>0.0</td>\n    </tr>\n    <tr>\n      <th>43821</th>\n      <td>20101231:2110</td>\n      <td>0.0</td>\n      <td>0.0</td>\n      <td>-0.48</td>\n      <td>2.21</td>\n      <td>0.0</td>\n    </tr>\n    <tr>\n      <th>43822</th>\n      <td>20101231:2210</td>\n      <td>0.0</td>\n      <td>0.0</td>\n      <td>-0.68</td>\n      <td>2.00</td>\n      <td>0.0</td>\n    </tr>\n    <tr>\n      <th>43823</th>\n      <td>20101231:2310</td>\n      <td>0.0</td>\n      <td>0.0</td>\n      <td>-0.81</td>\n      <td>1.45</td>\n      <td>0.0</td>\n    </tr>\n  </tbody>\n</table>\n<p>43824 rows × 6 columns</p>\n</div>"
     },
     "execution_count": 4,
     "metadata": {},
     "output_type": "execute_result"
    }
   ],
   "source": [
    "full_temperature"
   ],
   "metadata": {
    "collapsed": false,
    "ExecuteTime": {
     "end_time": "2023-12-02T09:40:11.112602583Z",
     "start_time": "2023-12-02T09:40:11.060019436Z"
    }
   },
   "id": "cfc9cac2b7ea37e1"
  },
  {
   "cell_type": "code",
   "execution_count": 5,
   "outputs": [],
   "source": [
    "temperature = full_temperature[['time', 'G(i)', 'H_sun', 'T2m', \"WS10m\"]].copy()\n",
    "temperature.loc[:,'Datetime'] = pd.to_datetime(temperature.loc[:,'time'], format=\"%Y%m%d:%H%M\")\n",
    "temperature.set_index('Datetime', inplace=True)\n",
    "temperature = temperature.loc[:, ['G(i)', 'H_sun', 'T2m', \"WS10m\"]]\n",
    "temperature = temperature.resample('min').interpolate(method='linear')"
   ],
   "metadata": {
    "collapsed": false,
    "ExecuteTime": {
     "end_time": "2023-12-01T15:37:41.858938462Z",
     "start_time": "2023-12-01T15:37:39.781532425Z"
    }
   },
   "id": "b4370d318ecbed41"
  },
  {
   "cell_type": "code",
   "execution_count": 10,
   "outputs": [],
   "source": [
    "temperature_episodes = temperature.groupby(pd.Grouper(freq='W'))"
   ],
   "metadata": {
    "collapsed": false,
    "ExecuteTime": {
     "end_time": "2023-11-18T09:37:16.186249241Z",
     "start_time": "2023-11-18T09:37:16.128483641Z"
    }
   },
   "id": "5df3e508c4e405dd"
  },
  {
   "cell_type": "code",
   "execution_count": 11,
   "outputs": [
    {
     "data": {
      "text/plain": "               G(i)                                                     \\\n              count        mean         std  min  25%  50%         75%   \nDatetime                                                                 \n2006-01-01   1430.0   62.504895  112.963076  0.0  0.0  0.0   76.297250   \n2006-01-08  10080.0   61.614643  132.603439  0.0  0.0  0.0   49.573958   \n2006-01-15  10080.0   59.445119  141.744610  0.0  0.0  0.0   37.857958   \n2006-01-22  10080.0   43.552143   94.139900  0.0  0.0  0.0   51.033000   \n2006-01-29  10080.0  103.987738  192.188642  0.0  0.0  0.0  106.800750   \n...             ...         ...         ...  ...  ...  ...         ...   \n2010-12-05  10080.0   44.348988   89.535262  0.0  0.0  0.0   57.240250   \n2010-12-12  10080.0   36.470298   80.628336  0.0  0.0  0.0   39.418417   \n2010-12-19  10080.0   68.118155  149.557108  0.0  0.0  0.0   50.522083   \n2010-12-26  10080.0   43.948333   92.086446  0.0  0.0  0.0   45.069292   \n2011-01-02   7151.0   40.060887   82.772522  0.0  0.0  0.0   44.047250   \n\n                      H_sun            ...       T2m           WS10m  \\\n               max    count      mean  ...       75%    max    count   \nDatetime                               ...                             \n2006-01-01  465.98   1430.0  4.048951  ...  5.857833   6.98   1430.0   \n2006-01-08  635.37  10080.0  4.141726  ...  3.226667   6.00  10080.0   \n2006-01-15  644.13  10080.0  4.029762  ...  4.838042   7.32  10080.0   \n2006-01-22  584.41  10080.0  4.713571  ...  7.820208  10.21  10080.0   \n2006-01-29  715.43  10080.0  5.435000  ...  1.104167   5.69  10080.0   \n...            ...      ...       ...  ...       ...    ...      ...   \n2010-12-05  475.57  10080.0  4.304107  ...  0.048000   3.05  10080.0   \n2010-12-12  580.13  10080.0  4.104405  ...  2.834042   6.05  10080.0   \n2010-12-19  660.02  10080.0  3.945655  ...  1.430000   5.27  10080.0   \n2010-12-26  449.76  10080.0  3.902738  ...  1.658500   4.25  10080.0   \n2011-01-02  461.75   7151.0  3.984114  ...  2.868250   5.20   7151.0   \n\n                                                                           \n                mean       std    min       25%       50%       75%   max  \nDatetime                                                                   \n2006-01-01  4.331871  0.349013  3.790  4.058917  4.280000  4.609208  5.24  \n2006-01-08  2.352402  0.720666  0.690  1.736333  2.407167  2.900000  3.93  \n2006-01-15  2.601118  0.717514  0.140  2.210000  2.714500  3.030000  4.76  \n2006-01-22  3.125076  1.188388  0.620  2.386375  2.988000  3.607375  6.83  \n2006-01-29  3.247420  1.062064  0.830  2.536000  3.268000  3.923000  6.48  \n...              ...       ...    ...       ...       ...       ...   ...  \n2010-12-05  3.068849  1.384091  0.140  2.063000  3.019167  4.088667  5.86  \n2010-12-12  2.841426  0.734006  0.985  2.438000  2.827667  3.170000  5.72  \n2010-12-19  3.666071  1.525715  0.690  2.641000  3.378167  4.256958  9.17  \n2010-12-26  3.400781  1.705193  0.210  1.930000  3.056750  5.170000  6.97  \n2011-01-02  2.530617  0.679324  1.030  2.083750  2.637500  3.046667  4.07  \n\n[262 rows x 32 columns]",
      "text/html": "<div>\n<style scoped>\n    .dataframe tbody tr th:only-of-type {\n        vertical-align: middle;\n    }\n\n    .dataframe tbody tr th {\n        vertical-align: top;\n    }\n\n    .dataframe thead tr th {\n        text-align: left;\n    }\n\n    .dataframe thead tr:last-of-type th {\n        text-align: right;\n    }\n</style>\n<table border=\"1\" class=\"dataframe\">\n  <thead>\n    <tr>\n      <th></th>\n      <th colspan=\"8\" halign=\"left\">G(i)</th>\n      <th colspan=\"2\" halign=\"left\">H_sun</th>\n      <th>...</th>\n      <th colspan=\"2\" halign=\"left\">T2m</th>\n      <th colspan=\"8\" halign=\"left\">WS10m</th>\n    </tr>\n    <tr>\n      <th></th>\n      <th>count</th>\n      <th>mean</th>\n      <th>std</th>\n      <th>min</th>\n      <th>25%</th>\n      <th>50%</th>\n      <th>75%</th>\n      <th>max</th>\n      <th>count</th>\n      <th>mean</th>\n      <th>...</th>\n      <th>75%</th>\n      <th>max</th>\n      <th>count</th>\n      <th>mean</th>\n      <th>std</th>\n      <th>min</th>\n      <th>25%</th>\n      <th>50%</th>\n      <th>75%</th>\n      <th>max</th>\n    </tr>\n    <tr>\n      <th>Datetime</th>\n      <th></th>\n      <th></th>\n      <th></th>\n      <th></th>\n      <th></th>\n      <th></th>\n      <th></th>\n      <th></th>\n      <th></th>\n      <th></th>\n      <th></th>\n      <th></th>\n      <th></th>\n      <th></th>\n      <th></th>\n      <th></th>\n      <th></th>\n      <th></th>\n      <th></th>\n      <th></th>\n      <th></th>\n    </tr>\n  </thead>\n  <tbody>\n    <tr>\n      <th>2006-01-01</th>\n      <td>1430.0</td>\n      <td>62.504895</td>\n      <td>112.963076</td>\n      <td>0.0</td>\n      <td>0.0</td>\n      <td>0.0</td>\n      <td>76.297250</td>\n      <td>465.98</td>\n      <td>1430.0</td>\n      <td>4.048951</td>\n      <td>...</td>\n      <td>5.857833</td>\n      <td>6.98</td>\n      <td>1430.0</td>\n      <td>4.331871</td>\n      <td>0.349013</td>\n      <td>3.790</td>\n      <td>4.058917</td>\n      <td>4.280000</td>\n      <td>4.609208</td>\n      <td>5.24</td>\n    </tr>\n    <tr>\n      <th>2006-01-08</th>\n      <td>10080.0</td>\n      <td>61.614643</td>\n      <td>132.603439</td>\n      <td>0.0</td>\n      <td>0.0</td>\n      <td>0.0</td>\n      <td>49.573958</td>\n      <td>635.37</td>\n      <td>10080.0</td>\n      <td>4.141726</td>\n      <td>...</td>\n      <td>3.226667</td>\n      <td>6.00</td>\n      <td>10080.0</td>\n      <td>2.352402</td>\n      <td>0.720666</td>\n      <td>0.690</td>\n      <td>1.736333</td>\n      <td>2.407167</td>\n      <td>2.900000</td>\n      <td>3.93</td>\n    </tr>\n    <tr>\n      <th>2006-01-15</th>\n      <td>10080.0</td>\n      <td>59.445119</td>\n      <td>141.744610</td>\n      <td>0.0</td>\n      <td>0.0</td>\n      <td>0.0</td>\n      <td>37.857958</td>\n      <td>644.13</td>\n      <td>10080.0</td>\n      <td>4.029762</td>\n      <td>...</td>\n      <td>4.838042</td>\n      <td>7.32</td>\n      <td>10080.0</td>\n      <td>2.601118</td>\n      <td>0.717514</td>\n      <td>0.140</td>\n      <td>2.210000</td>\n      <td>2.714500</td>\n      <td>3.030000</td>\n      <td>4.76</td>\n    </tr>\n    <tr>\n      <th>2006-01-22</th>\n      <td>10080.0</td>\n      <td>43.552143</td>\n      <td>94.139900</td>\n      <td>0.0</td>\n      <td>0.0</td>\n      <td>0.0</td>\n      <td>51.033000</td>\n      <td>584.41</td>\n      <td>10080.0</td>\n      <td>4.713571</td>\n      <td>...</td>\n      <td>7.820208</td>\n      <td>10.21</td>\n      <td>10080.0</td>\n      <td>3.125076</td>\n      <td>1.188388</td>\n      <td>0.620</td>\n      <td>2.386375</td>\n      <td>2.988000</td>\n      <td>3.607375</td>\n      <td>6.83</td>\n    </tr>\n    <tr>\n      <th>2006-01-29</th>\n      <td>10080.0</td>\n      <td>103.987738</td>\n      <td>192.188642</td>\n      <td>0.0</td>\n      <td>0.0</td>\n      <td>0.0</td>\n      <td>106.800750</td>\n      <td>715.43</td>\n      <td>10080.0</td>\n      <td>5.435000</td>\n      <td>...</td>\n      <td>1.104167</td>\n      <td>5.69</td>\n      <td>10080.0</td>\n      <td>3.247420</td>\n      <td>1.062064</td>\n      <td>0.830</td>\n      <td>2.536000</td>\n      <td>3.268000</td>\n      <td>3.923000</td>\n      <td>6.48</td>\n    </tr>\n    <tr>\n      <th>...</th>\n      <td>...</td>\n      <td>...</td>\n      <td>...</td>\n      <td>...</td>\n      <td>...</td>\n      <td>...</td>\n      <td>...</td>\n      <td>...</td>\n      <td>...</td>\n      <td>...</td>\n      <td>...</td>\n      <td>...</td>\n      <td>...</td>\n      <td>...</td>\n      <td>...</td>\n      <td>...</td>\n      <td>...</td>\n      <td>...</td>\n      <td>...</td>\n      <td>...</td>\n      <td>...</td>\n    </tr>\n    <tr>\n      <th>2010-12-05</th>\n      <td>10080.0</td>\n      <td>44.348988</td>\n      <td>89.535262</td>\n      <td>0.0</td>\n      <td>0.0</td>\n      <td>0.0</td>\n      <td>57.240250</td>\n      <td>475.57</td>\n      <td>10080.0</td>\n      <td>4.304107</td>\n      <td>...</td>\n      <td>0.048000</td>\n      <td>3.05</td>\n      <td>10080.0</td>\n      <td>3.068849</td>\n      <td>1.384091</td>\n      <td>0.140</td>\n      <td>2.063000</td>\n      <td>3.019167</td>\n      <td>4.088667</td>\n      <td>5.86</td>\n    </tr>\n    <tr>\n      <th>2010-12-12</th>\n      <td>10080.0</td>\n      <td>36.470298</td>\n      <td>80.628336</td>\n      <td>0.0</td>\n      <td>0.0</td>\n      <td>0.0</td>\n      <td>39.418417</td>\n      <td>580.13</td>\n      <td>10080.0</td>\n      <td>4.104405</td>\n      <td>...</td>\n      <td>2.834042</td>\n      <td>6.05</td>\n      <td>10080.0</td>\n      <td>2.841426</td>\n      <td>0.734006</td>\n      <td>0.985</td>\n      <td>2.438000</td>\n      <td>2.827667</td>\n      <td>3.170000</td>\n      <td>5.72</td>\n    </tr>\n    <tr>\n      <th>2010-12-19</th>\n      <td>10080.0</td>\n      <td>68.118155</td>\n      <td>149.557108</td>\n      <td>0.0</td>\n      <td>0.0</td>\n      <td>0.0</td>\n      <td>50.522083</td>\n      <td>660.02</td>\n      <td>10080.0</td>\n      <td>3.945655</td>\n      <td>...</td>\n      <td>1.430000</td>\n      <td>5.27</td>\n      <td>10080.0</td>\n      <td>3.666071</td>\n      <td>1.525715</td>\n      <td>0.690</td>\n      <td>2.641000</td>\n      <td>3.378167</td>\n      <td>4.256958</td>\n      <td>9.17</td>\n    </tr>\n    <tr>\n      <th>2010-12-26</th>\n      <td>10080.0</td>\n      <td>43.948333</td>\n      <td>92.086446</td>\n      <td>0.0</td>\n      <td>0.0</td>\n      <td>0.0</td>\n      <td>45.069292</td>\n      <td>449.76</td>\n      <td>10080.0</td>\n      <td>3.902738</td>\n      <td>...</td>\n      <td>1.658500</td>\n      <td>4.25</td>\n      <td>10080.0</td>\n      <td>3.400781</td>\n      <td>1.705193</td>\n      <td>0.210</td>\n      <td>1.930000</td>\n      <td>3.056750</td>\n      <td>5.170000</td>\n      <td>6.97</td>\n    </tr>\n    <tr>\n      <th>2011-01-02</th>\n      <td>7151.0</td>\n      <td>40.060887</td>\n      <td>82.772522</td>\n      <td>0.0</td>\n      <td>0.0</td>\n      <td>0.0</td>\n      <td>44.047250</td>\n      <td>461.75</td>\n      <td>7151.0</td>\n      <td>3.984114</td>\n      <td>...</td>\n      <td>2.868250</td>\n      <td>5.20</td>\n      <td>7151.0</td>\n      <td>2.530617</td>\n      <td>0.679324</td>\n      <td>1.030</td>\n      <td>2.083750</td>\n      <td>2.637500</td>\n      <td>3.046667</td>\n      <td>4.07</td>\n    </tr>\n  </tbody>\n</table>\n<p>262 rows × 32 columns</p>\n</div>"
     },
     "execution_count": 11,
     "metadata": {},
     "output_type": "execute_result"
    }
   ],
   "source": [
    "temperature_episodes.describe()"
   ],
   "metadata": {
    "collapsed": false,
    "ExecuteTime": {
     "end_time": "2023-11-18T09:37:22.327080394Z",
     "start_time": "2023-11-18T09:37:20.775313647Z"
    }
   },
   "id": "b6ab9403c6605cd0"
  },
  {
   "cell_type": "code",
   "execution_count": 12,
   "outputs": [],
   "source": [
    "temperature_episodes = pd.concat([group.fillna(0) for name, group in temperature_episodes if len(group.dropna()) >= 10000 and group.index[0] >= datetime(2007, 1, 1) and group.index[-1] <= datetime(2008, 12, 31)]).groupby(pd.Grouper(freq='W'))"
   ],
   "metadata": {
    "collapsed": false,
    "ExecuteTime": {
     "end_time": "2023-11-18T09:37:28.565890137Z",
     "start_time": "2023-11-18T09:37:28.288319806Z"
    }
   },
   "id": "932d868a6e5731cd"
  },
  {
   "cell_type": "code",
   "execution_count": 13,
   "outputs": [
    {
     "data": {
      "text/plain": "               G(i)                                                           \\\n              count       mean         std  min  25%  50%        75%     max   \nDatetime                                                                       \n2007-01-07  10080.0  65.601488  126.029495  0.0  0.0  0.0  78.483208  618.24   \n2007-01-14  10080.0  72.901964  139.213769  0.0  0.0  0.0  87.155417  642.31   \n2007-01-21  10080.0  64.851488  139.854943  0.0  0.0  0.0  59.804167  684.38   \n2007-01-28  10080.0  72.828095  138.521016  0.0  0.0  0.0  79.381750  655.98   \n2007-02-04  10080.0  78.583869  164.590869  0.0  0.0  0.0  68.422167  728.06   \n...             ...        ...         ...  ...  ...  ...        ...     ...   \n2008-11-30  10080.0  59.858333  111.692302  0.0  0.0  0.0  72.911333  573.30   \n2008-12-07  10080.0  56.248274  122.057863  0.0  0.0  0.0  57.231042  656.99   \n2008-12-14  10080.0  41.824583   91.790991  0.0  0.0  0.0  49.379000  637.21   \n2008-12-21  10080.0  41.731667   91.694894  0.0  0.0  0.0  52.564833  514.35   \n2008-12-28  10080.0  97.954464  178.424766  0.0  0.0  0.0  95.260750  635.91   \n\n              H_sun            ...        T2m            WS10m            \\\n              count      mean  ...        75%     max    count      mean   \nDatetime                       ...                                         \n2007-01-07  10080.0  4.109226  ...   9.970625  12.455  10080.0  4.923383   \n2007-01-14  10080.0  4.269048  ...  11.346708  13.070  10080.0  4.812901   \n2007-01-21  10080.0  4.766131  ...  12.646667  14.380  10080.0  5.432972   \n2007-01-28  10080.0  5.215536  ...   3.180125   7.660  10080.0  3.401991   \n2007-02-04  10080.0  6.003988  ...   8.403500  10.820  10080.0  2.373178   \n...             ...       ...  ...        ...     ...      ...       ...   \n2008-11-30  10080.0  4.633810  ...   4.051167   6.250  10080.0  2.871573   \n2008-12-07  10080.0  4.286905  ...   5.767708   8.920  10080.0  3.678100   \n2008-12-14  10080.0  4.047440  ...   2.596708   4.260  10080.0  2.578551   \n2008-12-21  10080.0  3.921429  ...   7.846167  10.490  10080.0  2.870085   \n2008-12-28  10080.0  3.911964  ...   6.322000   9.300  10080.0  3.421135   \n\n                                                                     \n                 std       min       25%       50%       75%    max  \nDatetime                                                             \n2007-01-07  1.193412  2.340000  4.163833  4.849333  5.652625   8.29  \n2007-01-14  1.687651  0.620000  3.702000  4.885333  5.864042   8.97  \n2007-01-21  2.450818  1.836667  3.217667  5.254000  7.576042  10.83  \n2007-01-28  1.727101  0.550000  2.210000  2.779833  4.140000   7.79  \n2007-02-04  1.117147  0.070000  1.660000  2.084000  2.970000   5.52  \n...              ...       ...       ...       ...       ...    ...  \n2008-11-30  0.778193  0.550000  2.340000  2.749500  3.311833   5.17  \n2008-12-07  1.622709  1.030000  2.149250  3.454667  4.866708   7.86  \n2008-12-14  1.173983  0.830000  1.706500  2.232917  2.971625   5.72  \n2008-12-21  0.833122  0.550000  2.237833  2.799667  3.548000   4.62  \n2008-12-28  1.342886  1.170000  2.210000  3.372500  4.480000   6.62  \n\n[104 rows x 32 columns]",
      "text/html": "<div>\n<style scoped>\n    .dataframe tbody tr th:only-of-type {\n        vertical-align: middle;\n    }\n\n    .dataframe tbody tr th {\n        vertical-align: top;\n    }\n\n    .dataframe thead tr th {\n        text-align: left;\n    }\n\n    .dataframe thead tr:last-of-type th {\n        text-align: right;\n    }\n</style>\n<table border=\"1\" class=\"dataframe\">\n  <thead>\n    <tr>\n      <th></th>\n      <th colspan=\"8\" halign=\"left\">G(i)</th>\n      <th colspan=\"2\" halign=\"left\">H_sun</th>\n      <th>...</th>\n      <th colspan=\"2\" halign=\"left\">T2m</th>\n      <th colspan=\"8\" halign=\"left\">WS10m</th>\n    </tr>\n    <tr>\n      <th></th>\n      <th>count</th>\n      <th>mean</th>\n      <th>std</th>\n      <th>min</th>\n      <th>25%</th>\n      <th>50%</th>\n      <th>75%</th>\n      <th>max</th>\n      <th>count</th>\n      <th>mean</th>\n      <th>...</th>\n      <th>75%</th>\n      <th>max</th>\n      <th>count</th>\n      <th>mean</th>\n      <th>std</th>\n      <th>min</th>\n      <th>25%</th>\n      <th>50%</th>\n      <th>75%</th>\n      <th>max</th>\n    </tr>\n    <tr>\n      <th>Datetime</th>\n      <th></th>\n      <th></th>\n      <th></th>\n      <th></th>\n      <th></th>\n      <th></th>\n      <th></th>\n      <th></th>\n      <th></th>\n      <th></th>\n      <th></th>\n      <th></th>\n      <th></th>\n      <th></th>\n      <th></th>\n      <th></th>\n      <th></th>\n      <th></th>\n      <th></th>\n      <th></th>\n      <th></th>\n    </tr>\n  </thead>\n  <tbody>\n    <tr>\n      <th>2007-01-07</th>\n      <td>10080.0</td>\n      <td>65.601488</td>\n      <td>126.029495</td>\n      <td>0.0</td>\n      <td>0.0</td>\n      <td>0.0</td>\n      <td>78.483208</td>\n      <td>618.24</td>\n      <td>10080.0</td>\n      <td>4.109226</td>\n      <td>...</td>\n      <td>9.970625</td>\n      <td>12.455</td>\n      <td>10080.0</td>\n      <td>4.923383</td>\n      <td>1.193412</td>\n      <td>2.340000</td>\n      <td>4.163833</td>\n      <td>4.849333</td>\n      <td>5.652625</td>\n      <td>8.29</td>\n    </tr>\n    <tr>\n      <th>2007-01-14</th>\n      <td>10080.0</td>\n      <td>72.901964</td>\n      <td>139.213769</td>\n      <td>0.0</td>\n      <td>0.0</td>\n      <td>0.0</td>\n      <td>87.155417</td>\n      <td>642.31</td>\n      <td>10080.0</td>\n      <td>4.269048</td>\n      <td>...</td>\n      <td>11.346708</td>\n      <td>13.070</td>\n      <td>10080.0</td>\n      <td>4.812901</td>\n      <td>1.687651</td>\n      <td>0.620000</td>\n      <td>3.702000</td>\n      <td>4.885333</td>\n      <td>5.864042</td>\n      <td>8.97</td>\n    </tr>\n    <tr>\n      <th>2007-01-21</th>\n      <td>10080.0</td>\n      <td>64.851488</td>\n      <td>139.854943</td>\n      <td>0.0</td>\n      <td>0.0</td>\n      <td>0.0</td>\n      <td>59.804167</td>\n      <td>684.38</td>\n      <td>10080.0</td>\n      <td>4.766131</td>\n      <td>...</td>\n      <td>12.646667</td>\n      <td>14.380</td>\n      <td>10080.0</td>\n      <td>5.432972</td>\n      <td>2.450818</td>\n      <td>1.836667</td>\n      <td>3.217667</td>\n      <td>5.254000</td>\n      <td>7.576042</td>\n      <td>10.83</td>\n    </tr>\n    <tr>\n      <th>2007-01-28</th>\n      <td>10080.0</td>\n      <td>72.828095</td>\n      <td>138.521016</td>\n      <td>0.0</td>\n      <td>0.0</td>\n      <td>0.0</td>\n      <td>79.381750</td>\n      <td>655.98</td>\n      <td>10080.0</td>\n      <td>5.215536</td>\n      <td>...</td>\n      <td>3.180125</td>\n      <td>7.660</td>\n      <td>10080.0</td>\n      <td>3.401991</td>\n      <td>1.727101</td>\n      <td>0.550000</td>\n      <td>2.210000</td>\n      <td>2.779833</td>\n      <td>4.140000</td>\n      <td>7.79</td>\n    </tr>\n    <tr>\n      <th>2007-02-04</th>\n      <td>10080.0</td>\n      <td>78.583869</td>\n      <td>164.590869</td>\n      <td>0.0</td>\n      <td>0.0</td>\n      <td>0.0</td>\n      <td>68.422167</td>\n      <td>728.06</td>\n      <td>10080.0</td>\n      <td>6.003988</td>\n      <td>...</td>\n      <td>8.403500</td>\n      <td>10.820</td>\n      <td>10080.0</td>\n      <td>2.373178</td>\n      <td>1.117147</td>\n      <td>0.070000</td>\n      <td>1.660000</td>\n      <td>2.084000</td>\n      <td>2.970000</td>\n      <td>5.52</td>\n    </tr>\n    <tr>\n      <th>...</th>\n      <td>...</td>\n      <td>...</td>\n      <td>...</td>\n      <td>...</td>\n      <td>...</td>\n      <td>...</td>\n      <td>...</td>\n      <td>...</td>\n      <td>...</td>\n      <td>...</td>\n      <td>...</td>\n      <td>...</td>\n      <td>...</td>\n      <td>...</td>\n      <td>...</td>\n      <td>...</td>\n      <td>...</td>\n      <td>...</td>\n      <td>...</td>\n      <td>...</td>\n      <td>...</td>\n    </tr>\n    <tr>\n      <th>2008-11-30</th>\n      <td>10080.0</td>\n      <td>59.858333</td>\n      <td>111.692302</td>\n      <td>0.0</td>\n      <td>0.0</td>\n      <td>0.0</td>\n      <td>72.911333</td>\n      <td>573.30</td>\n      <td>10080.0</td>\n      <td>4.633810</td>\n      <td>...</td>\n      <td>4.051167</td>\n      <td>6.250</td>\n      <td>10080.0</td>\n      <td>2.871573</td>\n      <td>0.778193</td>\n      <td>0.550000</td>\n      <td>2.340000</td>\n      <td>2.749500</td>\n      <td>3.311833</td>\n      <td>5.17</td>\n    </tr>\n    <tr>\n      <th>2008-12-07</th>\n      <td>10080.0</td>\n      <td>56.248274</td>\n      <td>122.057863</td>\n      <td>0.0</td>\n      <td>0.0</td>\n      <td>0.0</td>\n      <td>57.231042</td>\n      <td>656.99</td>\n      <td>10080.0</td>\n      <td>4.286905</td>\n      <td>...</td>\n      <td>5.767708</td>\n      <td>8.920</td>\n      <td>10080.0</td>\n      <td>3.678100</td>\n      <td>1.622709</td>\n      <td>1.030000</td>\n      <td>2.149250</td>\n      <td>3.454667</td>\n      <td>4.866708</td>\n      <td>7.86</td>\n    </tr>\n    <tr>\n      <th>2008-12-14</th>\n      <td>10080.0</td>\n      <td>41.824583</td>\n      <td>91.790991</td>\n      <td>0.0</td>\n      <td>0.0</td>\n      <td>0.0</td>\n      <td>49.379000</td>\n      <td>637.21</td>\n      <td>10080.0</td>\n      <td>4.047440</td>\n      <td>...</td>\n      <td>2.596708</td>\n      <td>4.260</td>\n      <td>10080.0</td>\n      <td>2.578551</td>\n      <td>1.173983</td>\n      <td>0.830000</td>\n      <td>1.706500</td>\n      <td>2.232917</td>\n      <td>2.971625</td>\n      <td>5.72</td>\n    </tr>\n    <tr>\n      <th>2008-12-21</th>\n      <td>10080.0</td>\n      <td>41.731667</td>\n      <td>91.694894</td>\n      <td>0.0</td>\n      <td>0.0</td>\n      <td>0.0</td>\n      <td>52.564833</td>\n      <td>514.35</td>\n      <td>10080.0</td>\n      <td>3.921429</td>\n      <td>...</td>\n      <td>7.846167</td>\n      <td>10.490</td>\n      <td>10080.0</td>\n      <td>2.870085</td>\n      <td>0.833122</td>\n      <td>0.550000</td>\n      <td>2.237833</td>\n      <td>2.799667</td>\n      <td>3.548000</td>\n      <td>4.62</td>\n    </tr>\n    <tr>\n      <th>2008-12-28</th>\n      <td>10080.0</td>\n      <td>97.954464</td>\n      <td>178.424766</td>\n      <td>0.0</td>\n      <td>0.0</td>\n      <td>0.0</td>\n      <td>95.260750</td>\n      <td>635.91</td>\n      <td>10080.0</td>\n      <td>3.911964</td>\n      <td>...</td>\n      <td>6.322000</td>\n      <td>9.300</td>\n      <td>10080.0</td>\n      <td>3.421135</td>\n      <td>1.342886</td>\n      <td>1.170000</td>\n      <td>2.210000</td>\n      <td>3.372500</td>\n      <td>4.480000</td>\n      <td>6.62</td>\n    </tr>\n  </tbody>\n</table>\n<p>104 rows × 32 columns</p>\n</div>"
     },
     "execution_count": 13,
     "metadata": {},
     "output_type": "execute_result"
    }
   ],
   "source": [
    "temperature_episodes.describe()"
   ],
   "metadata": {
    "collapsed": false,
    "ExecuteTime": {
     "end_time": "2023-11-18T09:37:35.195977820Z",
     "start_time": "2023-11-18T09:37:34.506311546Z"
    }
   },
   "id": "d24dba234ba4d456"
  },
  {
   "cell_type": "code",
   "execution_count": 17,
   "outputs": [],
   "source": [
    "demand =  pd.HDFStore('./minutely/demand.h5')\n",
    "with pd.HDFStore('./minutely/information.h5') as store:\n",
    "    # Save each DataFrame with a key\n",
    "    i = 0\n",
    "    for name, group in temperature_episodes:\n",
    "        if name.date() == demand[f\"eps_{i}\"].index[-1].date():\n",
    "            store[f'eps_{i}'] = group\n",
    "            i += 1\n",
    "\n",
    "file = pd.HDFStore('./minutely/information.h5')\n",
    "print(len(file) == len(demand))\n",
    "file.close()\n",
    "demand.close()"
   ],
   "metadata": {
    "collapsed": false,
    "ExecuteTime": {
     "end_time": "2023-11-18T09:39:43.424281772Z",
     "start_time": "2023-11-18T09:39:41.197123096Z"
    }
   },
   "id": "6f20fc6a7a8ffe68"
  }
 ],
 "metadata": {
  "kernelspec": {
   "display_name": "Python 3",
   "language": "python",
   "name": "python3"
  },
  "language_info": {
   "codemirror_mode": {
    "name": "ipython",
    "version": 2
   },
   "file_extension": ".py",
   "mimetype": "text/x-python",
   "name": "python",
   "nbconvert_exporter": "python",
   "pygments_lexer": "ipython2",
   "version": "2.7.6"
  }
 },
 "nbformat": 4,
 "nbformat_minor": 5
}
