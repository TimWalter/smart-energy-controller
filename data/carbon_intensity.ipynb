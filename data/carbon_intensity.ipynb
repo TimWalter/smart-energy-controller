{
 "cells": [
  {
   "cell_type": "code",
   "execution_count": 1,
   "outputs": [],
   "source": [
    "%load_ext autoreload\n",
    "%autoreload 2"
   ],
   "metadata": {
    "collapsed": false,
    "ExecuteTime": {
     "end_time": "2024-01-05T11:03:20.694386200Z",
     "start_time": "2024-01-05T11:03:20.523595600Z"
    }
   },
   "id": "c3685f7fdcd2c661"
  },
  {
   "cell_type": "code",
   "execution_count": 2,
   "outputs": [],
   "source": [
    "import pandas as pd\n",
    "import numpy as np\n",
    "from datetime import datetime"
   ],
   "metadata": {
    "collapsed": false,
    "ExecuteTime": {
     "end_time": "2024-01-05T11:03:22.069251800Z",
     "start_time": "2024-01-05T11:03:20.695619100Z"
    }
   },
   "id": "f6576103ab8fa72d"
  },
  {
   "cell_type": "code",
   "execution_count": 3,
   "outputs": [],
   "source": [
    "raw_data = pd.concat([pd.read_csv(file) for file in [\"./raw/FR_2021_hourly.csv\", \"./raw/FR_2022_hourly.csv\"]])"
   ],
   "metadata": {
    "collapsed": false,
    "ExecuteTime": {
     "end_time": "2024-01-05T11:03:22.327391100Z",
     "start_time": "2024-01-05T11:03:22.071324700Z"
    }
   },
   "id": "156e5e144e39e2d9"
  },
  {
   "cell_type": "code",
   "execution_count": 4,
   "outputs": [],
   "source": [
    "data = raw_data[['Datetime (UTC)', 'Carbon Intensity gCO₂eq/kWh (direct)']].copy()\n",
    "data['Datetime'] = pd.to_datetime(data['Datetime (UTC)']) - pd.DateOffset(years=14)\n",
    "data.set_index('Datetime', inplace=True)\n",
    "data.drop(columns=['Datetime (UTC)'], inplace=True)\n",
    "data[\"Carbon Intensity\"] = data[\"Carbon Intensity gCO₂eq/kWh (direct)\"]\n",
    "data.drop(columns=['Carbon Intensity gCO₂eq/kWh (direct)'], inplace=True)"
   ],
   "metadata": {
    "collapsed": false,
    "ExecuteTime": {
     "end_time": "2024-01-05T11:03:22.572549400Z",
     "start_time": "2024-01-05T11:03:22.328438700Z"
    }
   },
   "id": "9ed0daca2ebe3d34"
  },
  {
   "cell_type": "code",
   "outputs": [],
   "source": [
    "data_minutely = data.resample('min').interpolate(method='linear')\n",
    "data_minutely[\"Carbon Intensity\"] /= 60\n",
    "data_hourly = data"
   ],
   "metadata": {
    "collapsed": false,
    "ExecuteTime": {
     "end_time": "2024-01-05T11:03:22.950588300Z",
     "start_time": "2024-01-05T11:03:22.573592300Z"
    }
   },
   "id": "9fcdb6b1e22b106f",
   "execution_count": 5
  },
  {
   "cell_type": "code",
   "execution_count": 6,
   "outputs": [
    {
     "name": "stdout",
     "output_type": "stream",
     "text": [
      "minutely Max:  2.3729999999999998\n",
      "minutely Min:  0.051166666666666666\n",
      "minutely episodes:  104\n",
      "101\n",
      "minutely episodes:  101\n",
      "Equal length: True\n",
      "hourly Max:  142.38\n",
      "hourly Min:  3.07\n",
      "hourly episodes:  104\n",
      "102\n",
      "hourly episodes:  102\n",
      "Equal length: True\n"
     ]
    }
   ],
   "source": [
    "for data, resolution in zip([data_minutely, data_hourly], [\"minutely\", \"hourly\"]):\n",
    "    print(f\"{resolution} Max: \", np.max(data['Carbon Intensity']))\n",
    "    print(f\"{resolution} Min: \", np.min(data['Carbon Intensity']))\n",
    "\n",
    "    episodes = data.groupby(pd.Grouper(freq='W'))\n",
    "    required_length = 10000 if resolution == \"minutely\" else 165\n",
    "    episodes = pd.concat([group.fillna(0) for name, group in episodes if\n",
    "                                       len(group.dropna()) >= required_length and group.index[0] >= datetime(2007, 1, 1) and\n",
    "                                       group.index[-1] <= datetime(2008, 12, 31)]).groupby(pd.Grouper(freq='W'))\n",
    "    print(f\"{resolution} episodes: \", len(episodes))\n",
    "    demand = pd.HDFStore(f'./{resolution}/household_energy_demand.h5')\n",
    "    with pd.HDFStore(f'./{resolution}/carbon_intensity.h5') as store:\n",
    "        # Save each DataFrame with a key\n",
    "        i = 0\n",
    "        for name, group in episodes:\n",
    "            if name.date() == demand[f\"eps_{i}\"].index[-1].date():\n",
    "                store[f'eps_{i}'] = group\n",
    "                i += 1\n",
    "        print(len(store))\n",
    "    print(f\"{resolution} episodes: \", i)\n",
    "    file = pd.HDFStore(f'./{resolution}/carbon_intensity.h5')\n",
    "    print(f\"Equal length: {len(file) == len(demand)}\")\n",
    "    file.close()\n",
    "    demand.close()"
   ],
   "metadata": {
    "collapsed": false,
    "ExecuteTime": {
     "end_time": "2024-01-05T11:03:27.566033400Z",
     "start_time": "2024-01-05T11:03:22.956877700Z"
    }
   },
   "id": "20901b2cceeff3d5"
  }
 ],
 "metadata": {
  "kernelspec": {
   "display_name": "Python 3",
   "language": "python",
   "name": "python3"
  },
  "language_info": {
   "codemirror_mode": {
    "name": "ipython",
    "version": 2
   },
   "file_extension": ".py",
   "mimetype": "text/x-python",
   "name": "python",
   "nbconvert_exporter": "python",
   "pygments_lexer": "ipython2",
   "version": "2.7.6"
  }
 },
 "nbformat": 4,
 "nbformat_minor": 5
}
