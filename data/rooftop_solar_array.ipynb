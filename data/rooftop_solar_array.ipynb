{
 "cells": [
  {
   "cell_type": "code",
   "execution_count": 50,
   "outputs": [
    {
     "name": "stdout",
     "output_type": "stream",
     "text": [
      "The autoreload extension is already loaded. To reload it, use:\n",
      "  %reload_ext autoreload\n"
     ]
    }
   ],
   "source": [
    "%load_ext autoreload\n",
    "%autoreload 2"
   ],
   "metadata": {
    "collapsed": false,
    "ExecuteTime": {
     "end_time": "2023-12-20T13:52:06.226094600Z",
     "start_time": "2023-12-20T13:52:05.879691100Z"
    }
   },
   "id": "107915547b3b3558"
  },
  {
   "cell_type": "code",
   "execution_count": 51,
   "id": "initial_id",
   "metadata": {
    "collapsed": true,
    "ExecuteTime": {
     "end_time": "2023-12-20T13:52:07.214067500Z",
     "start_time": "2023-12-20T13:52:06.226094600Z"
    }
   },
   "outputs": [],
   "source": [
    "import pickle\n",
    "import pvlib\n",
    "import pandas as pd\n",
    "import numpy as np\n",
    "from datetime import datetime"
   ]
  },
  {
   "cell_type": "code",
   "execution_count": 52,
   "outputs": [],
   "source": [
    "full_pv = pickle.load(open(\"./raw/generation.pickle\", \"rb\"))"
   ],
   "metadata": {
    "collapsed": false,
    "ExecuteTime": {
     "end_time": "2023-12-20T13:52:07.845108700Z",
     "start_time": "2023-12-20T13:52:07.254977800Z"
    }
   },
   "id": "39199cc3d7ce86f2"
  },
  {
   "cell_type": "code",
   "execution_count": 53,
   "outputs": [],
   "source": [
    "full_pv = pd.DataFrame({\"Datetime\":full_pv.times, \"AC\": full_pv.ac})"
   ],
   "metadata": {
    "collapsed": false,
    "ExecuteTime": {
     "end_time": "2023-12-20T13:52:08.304760600Z",
     "start_time": "2023-12-20T13:52:07.847337300Z"
    }
   },
   "id": "4ef72bb86fb522c4"
  },
  {
   "cell_type": "code",
   "execution_count": 54,
   "outputs": [
    {
     "data": {
      "text/plain": "                               Datetime    AC\ntime                                         \n2006-01-01 00:10:00 2006-01-01 00:10:00 -3.03\n2006-01-01 01:10:00 2006-01-01 01:10:00 -3.03\n2006-01-01 02:10:00 2006-01-01 02:10:00 -3.03\n2006-01-01 03:10:00 2006-01-01 03:10:00 -3.03\n2006-01-01 04:10:00 2006-01-01 04:10:00 -3.03\n...                                 ...   ...\n2010-12-31 19:10:00 2010-12-31 19:10:00 -3.03\n2010-12-31 20:10:00 2010-12-31 20:10:00 -3.03\n2010-12-31 21:10:00 2010-12-31 21:10:00 -3.03\n2010-12-31 22:10:00 2010-12-31 22:10:00 -3.03\n2010-12-31 23:10:00 2010-12-31 23:10:00 -3.03\n\n[43824 rows x 2 columns]",
      "text/html": "<div>\n<style scoped>\n    .dataframe tbody tr th:only-of-type {\n        vertical-align: middle;\n    }\n\n    .dataframe tbody tr th {\n        vertical-align: top;\n    }\n\n    .dataframe thead th {\n        text-align: right;\n    }\n</style>\n<table border=\"1\" class=\"dataframe\">\n  <thead>\n    <tr style=\"text-align: right;\">\n      <th></th>\n      <th>Datetime</th>\n      <th>AC</th>\n    </tr>\n    <tr>\n      <th>time</th>\n      <th></th>\n      <th></th>\n    </tr>\n  </thead>\n  <tbody>\n    <tr>\n      <th>2006-01-01 00:10:00</th>\n      <td>2006-01-01 00:10:00</td>\n      <td>-3.03</td>\n    </tr>\n    <tr>\n      <th>2006-01-01 01:10:00</th>\n      <td>2006-01-01 01:10:00</td>\n      <td>-3.03</td>\n    </tr>\n    <tr>\n      <th>2006-01-01 02:10:00</th>\n      <td>2006-01-01 02:10:00</td>\n      <td>-3.03</td>\n    </tr>\n    <tr>\n      <th>2006-01-01 03:10:00</th>\n      <td>2006-01-01 03:10:00</td>\n      <td>-3.03</td>\n    </tr>\n    <tr>\n      <th>2006-01-01 04:10:00</th>\n      <td>2006-01-01 04:10:00</td>\n      <td>-3.03</td>\n    </tr>\n    <tr>\n      <th>...</th>\n      <td>...</td>\n      <td>...</td>\n    </tr>\n    <tr>\n      <th>2010-12-31 19:10:00</th>\n      <td>2010-12-31 19:10:00</td>\n      <td>-3.03</td>\n    </tr>\n    <tr>\n      <th>2010-12-31 20:10:00</th>\n      <td>2010-12-31 20:10:00</td>\n      <td>-3.03</td>\n    </tr>\n    <tr>\n      <th>2010-12-31 21:10:00</th>\n      <td>2010-12-31 21:10:00</td>\n      <td>-3.03</td>\n    </tr>\n    <tr>\n      <th>2010-12-31 22:10:00</th>\n      <td>2010-12-31 22:10:00</td>\n      <td>-3.03</td>\n    </tr>\n    <tr>\n      <th>2010-12-31 23:10:00</th>\n      <td>2010-12-31 23:10:00</td>\n      <td>-3.03</td>\n    </tr>\n  </tbody>\n</table>\n<p>43824 rows × 2 columns</p>\n</div>"
     },
     "execution_count": 54,
     "metadata": {},
     "output_type": "execute_result"
    }
   ],
   "source": [
    "full_pv"
   ],
   "metadata": {
    "collapsed": false,
    "ExecuteTime": {
     "end_time": "2023-12-20T13:52:08.955582800Z",
     "start_time": "2023-12-20T13:52:08.306837200Z"
    }
   },
   "id": "3cc4320d18b28316"
  },
  {
   "cell_type": "code",
   "execution_count": 55,
   "outputs": [],
   "source": [
    "rooftop_solar_array = full_pv[['Datetime', 'AC']].copy()\n",
    "rooftop_solar_array.loc[:,'Datetime'] = pd.to_datetime(rooftop_solar_array.loc[:,'Datetime'])\n",
    "rooftop_solar_array.set_index('Datetime', inplace=True)\n",
    "\n",
    "rooftop_solar_array.rename(columns={\"AC\": \"energy\"}, inplace=True)\n",
    "\n",
    "rooftop_solar_array = rooftop_solar_array.loc[:, ['energy']] / 10 # W to kW  and 100fold the generation \n",
    "rooftop_solar_array = rooftop_solar_array.resample('min').interpolate(method='linear')"
   ],
   "metadata": {
    "collapsed": false,
    "ExecuteTime": {
     "end_time": "2023-12-20T13:52:10.203642800Z",
     "start_time": "2023-12-20T13:52:08.952335700Z"
    }
   },
   "id": "b85dd60374fe7a88"
  },
  {
   "cell_type": "code",
   "execution_count": 56,
   "outputs": [
    {
     "name": "stdout",
     "output_type": "stream",
     "text": [
      "Max energy:  44.00727161894718\n",
      "Min energy:  -0.42697428328038\n"
     ]
    }
   ],
   "source": [
    "print(\"Max energy: \", np.max(rooftop_solar_array[\"energy\"].values))\n",
    "print(\"Min energy: \", np.min(rooftop_solar_array[\"energy\"].values))\n"
   ],
   "metadata": {
    "collapsed": false,
    "ExecuteTime": {
     "end_time": "2023-12-20T13:52:10.542460500Z",
     "start_time": "2023-12-20T13:52:10.208013600Z"
    }
   },
   "id": "6ea83b99bc0838f9"
  },
  {
   "cell_type": "code",
   "execution_count": 57,
   "outputs": [],
   "source": [
    "rooftop_solar_array_episodes = rooftop_solar_array.groupby(pd.Grouper(freq='W'))"
   ],
   "metadata": {
    "collapsed": false,
    "ExecuteTime": {
     "end_time": "2023-12-20T13:52:10.926880300Z",
     "start_time": "2023-12-20T13:52:10.541392600Z"
    }
   },
   "id": "2b0aee9f8c13563c"
  },
  {
   "cell_type": "code",
   "execution_count": 58,
   "outputs": [
    {
     "data": {
      "text/plain": "             energy                                                        \\\n              count      mean       std       min    25%    50%       75%   \nDatetime                                                                    \n2006-01-01   1430.0  0.173051  1.186114 -0.303000 -0.303 -0.303 -0.301974   \n2006-01-08  10080.0  0.320700  1.417695 -0.303000 -0.303 -0.303  0.083451   \n2006-01-15  10080.0  0.193985  1.170009 -0.303000 -0.303 -0.303 -0.093494   \n2006-01-22  10080.0  0.665450  1.922868 -0.303000 -0.303 -0.303  0.498948   \n2006-01-29  10080.0  0.539333  1.879291 -0.335367 -0.303 -0.303  0.380404   \n...             ...       ...       ...       ...    ...    ...       ...   \n2010-12-05  10080.0  0.640491  1.859854 -0.401068 -0.303 -0.303  0.158800   \n2010-12-12  10080.0  0.331595  1.507370 -0.343760 -0.303 -0.303 -0.124144   \n2010-12-19  10080.0  0.231661  1.219299 -0.303000 -0.303 -0.303 -0.210488   \n2010-12-26  10080.0  0.485809  1.608738 -0.353163 -0.303 -0.303  0.061861   \n2011-01-02   7151.0  0.493839  1.688905 -0.349843 -0.303 -0.303 -0.024307   \n\n                      \n                 max  \nDatetime              \n2006-01-01  5.163929  \n2006-01-08  6.817939  \n2006-01-15  6.502937  \n2006-01-22  7.988411  \n2006-01-29  9.481257  \n...              ...  \n2010-12-05  7.398300  \n2010-12-12  6.982737  \n2010-12-19  6.514273  \n2010-12-26  6.321891  \n2011-01-02  6.717487  \n\n[262 rows x 8 columns]",
      "text/html": "<div>\n<style scoped>\n    .dataframe tbody tr th:only-of-type {\n        vertical-align: middle;\n    }\n\n    .dataframe tbody tr th {\n        vertical-align: top;\n    }\n\n    .dataframe thead tr th {\n        text-align: left;\n    }\n\n    .dataframe thead tr:last-of-type th {\n        text-align: right;\n    }\n</style>\n<table border=\"1\" class=\"dataframe\">\n  <thead>\n    <tr>\n      <th></th>\n      <th colspan=\"8\" halign=\"left\">energy</th>\n    </tr>\n    <tr>\n      <th></th>\n      <th>count</th>\n      <th>mean</th>\n      <th>std</th>\n      <th>min</th>\n      <th>25%</th>\n      <th>50%</th>\n      <th>75%</th>\n      <th>max</th>\n    </tr>\n    <tr>\n      <th>Datetime</th>\n      <th></th>\n      <th></th>\n      <th></th>\n      <th></th>\n      <th></th>\n      <th></th>\n      <th></th>\n      <th></th>\n    </tr>\n  </thead>\n  <tbody>\n    <tr>\n      <th>2006-01-01</th>\n      <td>1430.0</td>\n      <td>0.173051</td>\n      <td>1.186114</td>\n      <td>-0.303000</td>\n      <td>-0.303</td>\n      <td>-0.303</td>\n      <td>-0.301974</td>\n      <td>5.163929</td>\n    </tr>\n    <tr>\n      <th>2006-01-08</th>\n      <td>10080.0</td>\n      <td>0.320700</td>\n      <td>1.417695</td>\n      <td>-0.303000</td>\n      <td>-0.303</td>\n      <td>-0.303</td>\n      <td>0.083451</td>\n      <td>6.817939</td>\n    </tr>\n    <tr>\n      <th>2006-01-15</th>\n      <td>10080.0</td>\n      <td>0.193985</td>\n      <td>1.170009</td>\n      <td>-0.303000</td>\n      <td>-0.303</td>\n      <td>-0.303</td>\n      <td>-0.093494</td>\n      <td>6.502937</td>\n    </tr>\n    <tr>\n      <th>2006-01-22</th>\n      <td>10080.0</td>\n      <td>0.665450</td>\n      <td>1.922868</td>\n      <td>-0.303000</td>\n      <td>-0.303</td>\n      <td>-0.303</td>\n      <td>0.498948</td>\n      <td>7.988411</td>\n    </tr>\n    <tr>\n      <th>2006-01-29</th>\n      <td>10080.0</td>\n      <td>0.539333</td>\n      <td>1.879291</td>\n      <td>-0.335367</td>\n      <td>-0.303</td>\n      <td>-0.303</td>\n      <td>0.380404</td>\n      <td>9.481257</td>\n    </tr>\n    <tr>\n      <th>...</th>\n      <td>...</td>\n      <td>...</td>\n      <td>...</td>\n      <td>...</td>\n      <td>...</td>\n      <td>...</td>\n      <td>...</td>\n      <td>...</td>\n    </tr>\n    <tr>\n      <th>2010-12-05</th>\n      <td>10080.0</td>\n      <td>0.640491</td>\n      <td>1.859854</td>\n      <td>-0.401068</td>\n      <td>-0.303</td>\n      <td>-0.303</td>\n      <td>0.158800</td>\n      <td>7.398300</td>\n    </tr>\n    <tr>\n      <th>2010-12-12</th>\n      <td>10080.0</td>\n      <td>0.331595</td>\n      <td>1.507370</td>\n      <td>-0.343760</td>\n      <td>-0.303</td>\n      <td>-0.303</td>\n      <td>-0.124144</td>\n      <td>6.982737</td>\n    </tr>\n    <tr>\n      <th>2010-12-19</th>\n      <td>10080.0</td>\n      <td>0.231661</td>\n      <td>1.219299</td>\n      <td>-0.303000</td>\n      <td>-0.303</td>\n      <td>-0.303</td>\n      <td>-0.210488</td>\n      <td>6.514273</td>\n    </tr>\n    <tr>\n      <th>2010-12-26</th>\n      <td>10080.0</td>\n      <td>0.485809</td>\n      <td>1.608738</td>\n      <td>-0.353163</td>\n      <td>-0.303</td>\n      <td>-0.303</td>\n      <td>0.061861</td>\n      <td>6.321891</td>\n    </tr>\n    <tr>\n      <th>2011-01-02</th>\n      <td>7151.0</td>\n      <td>0.493839</td>\n      <td>1.688905</td>\n      <td>-0.349843</td>\n      <td>-0.303</td>\n      <td>-0.303</td>\n      <td>-0.024307</td>\n      <td>6.717487</td>\n    </tr>\n  </tbody>\n</table>\n<p>262 rows × 8 columns</p>\n</div>"
     },
     "execution_count": 58,
     "metadata": {},
     "output_type": "execute_result"
    }
   ],
   "source": [
    "rooftop_solar_array_episodes.describe()"
   ],
   "metadata": {
    "collapsed": false,
    "ExecuteTime": {
     "end_time": "2023-12-20T13:52:11.788151900Z",
     "start_time": "2023-12-20T13:52:10.929002600Z"
    }
   },
   "id": "e4c0118087948068"
  },
  {
   "cell_type": "code",
   "execution_count": 59,
   "outputs": [],
   "source": [
    "rooftop_solar_array_episodes = pd.concat([group.fillna(0) for name, group in rooftop_solar_array_episodes if len(group.dropna()) >= 10000 and group.index[0] >= datetime(2007, 1, 1) and group.index[-1] <= datetime(2008, 12, 31)]).groupby(pd.Grouper(freq='W'))"
   ],
   "metadata": {
    "collapsed": false,
    "ExecuteTime": {
     "end_time": "2023-12-20T13:52:12.733475500Z",
     "start_time": "2023-12-20T13:52:11.787078100Z"
    }
   },
   "id": "69162d43e73bf0af"
  },
  {
   "cell_type": "code",
   "execution_count": 60,
   "outputs": [
    {
     "data": {
      "text/plain": "             energy                                                        \\\n              count      mean       std       min    25%    50%       75%   \nDatetime                                                                    \n2007-01-07  10080.0  0.435433  1.621301 -0.334581 -0.303 -0.303 -0.124053   \n2007-01-14  10080.0  0.527458  1.728628 -0.409348 -0.303 -0.303  0.183083   \n2007-01-21  10080.0  0.547682  1.821055 -0.303000 -0.303 -0.303  0.010922   \n2007-01-28  10080.0  0.831198  2.209963 -0.303000 -0.303 -0.303  0.644646   \n2007-02-04  10080.0  0.604159  1.773673 -0.303000 -0.303 -0.303  0.936483   \n...             ...       ...       ...       ...    ...    ...       ...   \n2008-11-30  10080.0  0.674482  1.921995 -0.303000 -0.303 -0.303  0.506703   \n2008-12-07  10080.0  0.382472  1.454028 -0.348487 -0.303 -0.303  0.186195   \n2008-12-14  10080.0  0.479676  1.650902 -0.389125 -0.303 -0.303 -0.142504   \n2008-12-21  10080.0  0.274564  1.187142 -0.395298 -0.303 -0.303  0.022552   \n2008-12-28  10080.0  0.140639  1.163489 -0.303000 -0.303 -0.303 -0.202468   \n\n                      \n                 max  \nDatetime              \n2007-01-07  6.630260  \n2007-01-14  6.792786  \n2007-01-21  7.762335  \n2007-01-28  9.079978  \n2007-02-04  9.024504  \n...              ...  \n2008-11-30  7.729145  \n2008-12-07  6.832454  \n2008-12-14  6.691248  \n2008-12-21  6.345649  \n2008-12-28  6.244976  \n\n[104 rows x 8 columns]",
      "text/html": "<div>\n<style scoped>\n    .dataframe tbody tr th:only-of-type {\n        vertical-align: middle;\n    }\n\n    .dataframe tbody tr th {\n        vertical-align: top;\n    }\n\n    .dataframe thead tr th {\n        text-align: left;\n    }\n\n    .dataframe thead tr:last-of-type th {\n        text-align: right;\n    }\n</style>\n<table border=\"1\" class=\"dataframe\">\n  <thead>\n    <tr>\n      <th></th>\n      <th colspan=\"8\" halign=\"left\">energy</th>\n    </tr>\n    <tr>\n      <th></th>\n      <th>count</th>\n      <th>mean</th>\n      <th>std</th>\n      <th>min</th>\n      <th>25%</th>\n      <th>50%</th>\n      <th>75%</th>\n      <th>max</th>\n    </tr>\n    <tr>\n      <th>Datetime</th>\n      <th></th>\n      <th></th>\n      <th></th>\n      <th></th>\n      <th></th>\n      <th></th>\n      <th></th>\n      <th></th>\n    </tr>\n  </thead>\n  <tbody>\n    <tr>\n      <th>2007-01-07</th>\n      <td>10080.0</td>\n      <td>0.435433</td>\n      <td>1.621301</td>\n      <td>-0.334581</td>\n      <td>-0.303</td>\n      <td>-0.303</td>\n      <td>-0.124053</td>\n      <td>6.630260</td>\n    </tr>\n    <tr>\n      <th>2007-01-14</th>\n      <td>10080.0</td>\n      <td>0.527458</td>\n      <td>1.728628</td>\n      <td>-0.409348</td>\n      <td>-0.303</td>\n      <td>-0.303</td>\n      <td>0.183083</td>\n      <td>6.792786</td>\n    </tr>\n    <tr>\n      <th>2007-01-21</th>\n      <td>10080.0</td>\n      <td>0.547682</td>\n      <td>1.821055</td>\n      <td>-0.303000</td>\n      <td>-0.303</td>\n      <td>-0.303</td>\n      <td>0.010922</td>\n      <td>7.762335</td>\n    </tr>\n    <tr>\n      <th>2007-01-28</th>\n      <td>10080.0</td>\n      <td>0.831198</td>\n      <td>2.209963</td>\n      <td>-0.303000</td>\n      <td>-0.303</td>\n      <td>-0.303</td>\n      <td>0.644646</td>\n      <td>9.079978</td>\n    </tr>\n    <tr>\n      <th>2007-02-04</th>\n      <td>10080.0</td>\n      <td>0.604159</td>\n      <td>1.773673</td>\n      <td>-0.303000</td>\n      <td>-0.303</td>\n      <td>-0.303</td>\n      <td>0.936483</td>\n      <td>9.024504</td>\n    </tr>\n    <tr>\n      <th>...</th>\n      <td>...</td>\n      <td>...</td>\n      <td>...</td>\n      <td>...</td>\n      <td>...</td>\n      <td>...</td>\n      <td>...</td>\n      <td>...</td>\n    </tr>\n    <tr>\n      <th>2008-11-30</th>\n      <td>10080.0</td>\n      <td>0.674482</td>\n      <td>1.921995</td>\n      <td>-0.303000</td>\n      <td>-0.303</td>\n      <td>-0.303</td>\n      <td>0.506703</td>\n      <td>7.729145</td>\n    </tr>\n    <tr>\n      <th>2008-12-07</th>\n      <td>10080.0</td>\n      <td>0.382472</td>\n      <td>1.454028</td>\n      <td>-0.348487</td>\n      <td>-0.303</td>\n      <td>-0.303</td>\n      <td>0.186195</td>\n      <td>6.832454</td>\n    </tr>\n    <tr>\n      <th>2008-12-14</th>\n      <td>10080.0</td>\n      <td>0.479676</td>\n      <td>1.650902</td>\n      <td>-0.389125</td>\n      <td>-0.303</td>\n      <td>-0.303</td>\n      <td>-0.142504</td>\n      <td>6.691248</td>\n    </tr>\n    <tr>\n      <th>2008-12-21</th>\n      <td>10080.0</td>\n      <td>0.274564</td>\n      <td>1.187142</td>\n      <td>-0.395298</td>\n      <td>-0.303</td>\n      <td>-0.303</td>\n      <td>0.022552</td>\n      <td>6.345649</td>\n    </tr>\n    <tr>\n      <th>2008-12-28</th>\n      <td>10080.0</td>\n      <td>0.140639</td>\n      <td>1.163489</td>\n      <td>-0.303000</td>\n      <td>-0.303</td>\n      <td>-0.303</td>\n      <td>-0.202468</td>\n      <td>6.244976</td>\n    </tr>\n  </tbody>\n</table>\n<p>104 rows × 8 columns</p>\n</div>"
     },
     "execution_count": 60,
     "metadata": {},
     "output_type": "execute_result"
    }
   ],
   "source": [
    "rooftop_solar_array_episodes.describe()"
   ],
   "metadata": {
    "collapsed": false,
    "ExecuteTime": {
     "end_time": "2023-12-20T13:52:13.305069500Z",
     "start_time": "2023-12-20T13:52:12.708255200Z"
    }
   },
   "id": "7dd15043739299fc"
  },
  {
   "cell_type": "code",
   "execution_count": 61,
   "outputs": [
    {
     "name": "stdout",
     "output_type": "stream",
     "text": [
      "True\n"
     ]
    }
   ],
   "source": [
    "demand =  pd.HDFStore('./minutely/flexible_demand_response.h5')\n",
    "with pd.HDFStore('./minutely/rooftop_solar_array.h5') as store:\n",
    "    # Save each DataFrame with a key\n",
    "    i = 0\n",
    "    for name, group in rooftop_solar_array_episodes:\n",
    "        if name.date() == demand[f\"eps_{i}\"].index[-1].date():\n",
    "            store[f'eps_{i}'] = group\n",
    "            i += 1\n",
    "file = pd.HDFStore('./minutely/rooftop_solar_array.h5')\n",
    "print(len(file) == len(demand))\n",
    "file.close()\n",
    "demand.close()"
   ],
   "metadata": {
    "collapsed": false,
    "ExecuteTime": {
     "end_time": "2023-12-20T13:52:15.725899300Z",
     "start_time": "2023-12-20T13:52:13.304Z"
    }
   },
   "id": "5eac44a03650420f"
  },
  {
   "cell_type": "code",
   "execution_count": 61,
   "outputs": [],
   "source": [],
   "metadata": {
    "collapsed": false,
    "ExecuteTime": {
     "end_time": "2023-12-20T13:52:15.726898400Z",
     "start_time": "2023-12-20T13:52:15.707857300Z"
    }
   },
   "id": "b3c8676ffe3c1b04"
  }
 ],
 "metadata": {
  "kernelspec": {
   "display_name": "Python 3",
   "language": "python",
   "name": "python3"
  },
  "language_info": {
   "codemirror_mode": {
    "name": "ipython",
    "version": 2
   },
   "file_extension": ".py",
   "mimetype": "text/x-python",
   "name": "python",
   "nbconvert_exporter": "python",
   "pygments_lexer": "ipython2",
   "version": "2.7.6"
  }
 },
 "nbformat": 4,
 "nbformat_minor": 5
}
