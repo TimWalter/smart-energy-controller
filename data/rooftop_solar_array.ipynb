{
 "cells": [
  {
   "cell_type": "code",
   "execution_count": 1,
   "outputs": [],
   "source": [
    "%load_ext autoreload\n",
    "%autoreload 2"
   ],
   "metadata": {
    "collapsed": false,
    "ExecuteTime": {
     "end_time": "2024-01-25T15:46:44.396280100Z",
     "start_time": "2024-01-25T15:46:44.246288100Z"
    }
   },
   "id": "107915547b3b3558"
  },
  {
   "cell_type": "code",
   "execution_count": 2,
   "id": "initial_id",
   "metadata": {
    "collapsed": true,
    "ExecuteTime": {
     "end_time": "2024-01-25T15:46:46.607090400Z",
     "start_time": "2024-01-25T15:46:44.398473200Z"
    }
   },
   "outputs": [],
   "source": [
    "import pickle\n",
    "import pvlib\n",
    "import pandas as pd\n",
    "import numpy as np\n",
    "from datetime import datetime"
   ]
  },
  {
   "cell_type": "code",
   "execution_count": 3,
   "outputs": [],
   "source": [
    "raw_data = pickle.load(open(\"./raw/generation.pickle\", \"rb\"))\n",
    "raw_data = pd.DataFrame({\"Datetime\": raw_data.times, \"AC\": raw_data.ac})"
   ],
   "metadata": {
    "collapsed": false,
    "ExecuteTime": {
     "end_time": "2024-01-25T15:46:46.959131800Z",
     "start_time": "2024-01-25T15:46:46.609238Z"
    }
   },
   "id": "39199cc3d7ce86f2"
  },
  {
   "cell_type": "code",
   "execution_count": 4,
   "outputs": [],
   "source": [
    "data = raw_data[['Datetime', 'AC']].copy()\n",
    "data['Datetime'] = pd.to_datetime(data['Datetime'])\n",
    "data.set_index('Datetime', inplace=True)\n",
    "\n",
    "data.rename(columns={\"AC\": \"energy\"}, inplace=True)\n",
    "\n",
    "data[\"energy\"] /= 10 # W to kW  and 100fold the generation"
   ],
   "metadata": {
    "collapsed": false,
    "ExecuteTime": {
     "end_time": "2024-01-25T15:46:47.282435700Z",
     "start_time": "2024-01-25T15:46:46.960229500Z"
    }
   },
   "id": "4ef72bb86fb522c4"
  },
  {
   "cell_type": "code",
   "execution_count": 5,
   "outputs": [],
   "source": [
    "data_minutely = data.resample('min').interpolate(method='linear')\n",
    "data_hourly = data"
   ],
   "metadata": {
    "collapsed": false,
    "ExecuteTime": {
     "end_time": "2024-01-25T15:46:47.971014300Z",
     "start_time": "2024-01-25T15:46:47.283493Z"
    }
   },
   "id": "3cc4320d18b28316"
  },
  {
   "cell_type": "code",
   "outputs": [
    {
     "name": "stdout",
     "output_type": "stream",
     "text": [
      "minutely Max:  44.00727161894718\n",
      "minutely Min:  -0.42697428328038\n",
      "minutely episodes:  104\n",
      "                     energy\n",
      "Datetime                   \n",
      "2008-03-03 00:00:00  -0.303\n",
      "2008-03-03 00:01:00  -0.303\n",
      "2008-03-03 00:02:00  -0.303\n",
      "2008-03-03 00:03:00  -0.303\n",
      "2008-03-03 00:04:00  -0.303\n",
      "...                     ...\n",
      "2008-03-09 23:55:00  -0.303\n",
      "2008-03-09 23:56:00  -0.303\n",
      "2008-03-09 23:57:00  -0.303\n",
      "2008-03-09 23:58:00  -0.303\n",
      "2008-03-09 23:59:00  -0.303\n",
      "\n",
      "[10080 rows x 1 columns]\n",
      "101\n",
      "minutely episodes:  101\n",
      "Equal length: True\n",
      "hourly Max:  44.00727161894718\n",
      "hourly Min:  -0.42697428328038\n",
      "hourly episodes:  104\n",
      "                     energy\n",
      "Datetime                   \n",
      "2008-02-25 00:10:00  -0.303\n",
      "2008-02-25 01:10:00  -0.303\n",
      "2008-02-25 02:10:00  -0.303\n",
      "2008-02-25 03:10:00  -0.303\n",
      "2008-02-25 04:10:00  -0.303\n",
      "...                     ...\n",
      "2008-03-02 19:10:00  -0.303\n",
      "2008-03-02 20:10:00  -0.303\n",
      "2008-03-02 21:10:00  -0.303\n",
      "2008-03-02 22:10:00  -0.303\n",
      "2008-03-02 23:10:00  -0.303\n",
      "\n",
      "[168 rows x 1 columns]\n",
      "102\n",
      "hourly episodes:  102\n",
      "Equal length: True\n"
     ]
    }
   ],
   "source": [
    "for data, resolution in zip([data_minutely, data_hourly], [\"minutely\", \"hourly\"]):\n",
    "    print(f\"{resolution} Max: \", np.max(data['energy']))\n",
    "    print(f\"{resolution} Min: \", np.min(data['energy']))\n",
    "\n",
    "    episodes = data.groupby(pd.Grouper(freq='W'))\n",
    "    \n",
    "    required_length = 10000 if resolution == \"minutely\" else 165\n",
    "    \n",
    "    episodes = pd.concat([group.fillna(0) for name, group in episodes if\n",
    "                                       len(group.dropna()) >= required_length and group.index[0] >= datetime(2007, 1, 1) and\n",
    "                                       group.index[-1] <= datetime(2008, 12, 31)]).groupby(pd.Grouper(freq='W'))\n",
    "    \n",
    "    print(f\"{resolution} episodes: \", len(episodes))\n",
    "    demand = pd.HDFStore(f'./{resolution}/household_energy_demand.h5')\n",
    "    with pd.HDFStore(f'./{resolution}/rooftop_solar_array.h5') as store:\n",
    "        i = 0\n",
    "        for name, group in episodes:\n",
    "            if name.date() == demand[f\"eps_{i}\"].index[-1].date() and not group.empty:\n",
    "                store[f'eps_{i}'] = group\n",
    "                i += 1\n",
    "        print(len(store))\n",
    "    print(f\"{resolution} episodes: \", i)\n",
    "    file = pd.HDFStore(f'./{resolution}/rooftop_solar_array.h5')\n",
    "    print(f\"Equal length: {len(file) == len(demand)}\")\n",
    "    file.close()\n",
    "    demand.close()"
   ],
   "metadata": {
    "collapsed": false
   },
   "id": "b85dd60374fe7a88",
   "execution_count": 6
  }
 ],
 "metadata": {
  "kernelspec": {
   "display_name": "Python 3",
   "language": "python",
   "name": "python3"
  },
  "language_info": {
   "codemirror_mode": {
    "name": "ipython",
    "version": 2
   },
   "file_extension": ".py",
   "mimetype": "text/x-python",
   "name": "python",
   "nbconvert_exporter": "python",
   "pygments_lexer": "ipython2",
   "version": "2.7.6"
  }
 },
 "nbformat": 4,
 "nbformat_minor": 5
}
