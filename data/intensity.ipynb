{
 "cells": [
  {
   "cell_type": "code",
   "execution_count": 1,
   "outputs": [],
   "source": [
    "%load_ext autoreload\n",
    "%autoreload 2"
   ],
   "metadata": {
    "collapsed": false,
    "ExecuteTime": {
     "end_time": "2023-12-06T16:49:25.287301Z",
     "start_time": "2023-12-06T16:49:25.086813500Z"
    }
   },
   "id": "c3685f7fdcd2c661"
  },
  {
   "cell_type": "code",
   "execution_count": 2,
   "outputs": [],
   "source": [
    "import pandas as pd\n",
    "from datetime import datetime"
   ],
   "metadata": {
    "collapsed": false,
    "ExecuteTime": {
     "end_time": "2023-12-06T16:49:26.455840800Z",
     "start_time": "2023-12-06T16:49:25.287301Z"
    }
   },
   "id": "f6576103ab8fa72d"
  },
  {
   "cell_type": "code",
   "execution_count": 3,
   "outputs": [],
   "source": [
    "full_co2 = pd.concat([pd.read_csv(\"./raw/FR_2021_hourly.csv\"), pd.read_csv(\"./raw/FR_2022_hourly.csv\")])"
   ],
   "metadata": {
    "collapsed": false,
    "ExecuteTime": {
     "end_time": "2023-12-06T16:49:26.717519Z",
     "start_time": "2023-12-06T16:49:26.455840800Z"
    }
   },
   "id": "156e5e144e39e2d9"
  },
  {
   "cell_type": "code",
   "execution_count": 4,
   "outputs": [
    {
     "data": {
      "text/plain": "           Datetime (UTC) Country Zone Name Zone Id  \\\n0     2021-01-01 00:00:00  France    France      FR   \n1     2021-01-01 01:00:00  France    France      FR   \n2     2021-01-01 02:00:00  France    France      FR   \n3     2021-01-01 03:00:00  France    France      FR   \n4     2021-01-01 04:00:00  France    France      FR   \n...                   ...     ...       ...     ...   \n8755  2022-12-31 19:00:00  France    France      FR   \n8756  2022-12-31 20:00:00  France    France      FR   \n8757  2022-12-31 21:00:00  France    France      FR   \n8758  2022-12-31 22:00:00  France    France      FR   \n8759  2022-12-31 23:00:00  France    France      FR   \n\n      Carbon Intensity gCO₂eq/kWh (direct)  Carbon Intensity gCO₂eq/kWh (LCA)  \\\n0                                    40.17                              60.73   \n1                                    39.88                              60.44   \n2                                    31.01                              50.04   \n3                                    26.88                              45.11   \n4                                    27.41                              45.59   \n...                                    ...                                ...   \n8755                                 21.31                              39.08   \n8756                                 20.90                              38.70   \n8757                                 21.85                              39.99   \n8758                                 21.27                              39.31   \n8759                                 23.53                              42.17   \n\n      Low Carbon Percentage  Renewable Percentage  \\\n0                     91.25                 15.73   \n1                     91.50                 16.52   \n2                     92.70                 15.67   \n3                     93.29                 15.49   \n4                     93.34                 15.01   \n...                     ...                   ...   \n8755                  95.06                 44.69   \n8756                  95.04                 44.33   \n8757                  94.82                 44.51   \n8758                  94.94                 44.18   \n8759                  94.71                 43.14   \n\n                       Data Source  Data Estimated Data Estimation Method  \n0     opendata.reseaux-energies.fr           False                    NaN  \n1     opendata.reseaux-energies.fr           False                    NaN  \n2     opendata.reseaux-energies.fr           False                    NaN  \n3     opendata.reseaux-energies.fr           False                    NaN  \n4     opendata.reseaux-energies.fr           False                    NaN  \n...                            ...             ...                    ...  \n8755  opendata.reseaux-energies.fr           False                    NaN  \n8756  opendata.reseaux-energies.fr           False                    NaN  \n8757  opendata.reseaux-energies.fr           False                    NaN  \n8758  opendata.reseaux-energies.fr           False                    NaN  \n8759  opendata.reseaux-energies.fr           False                    NaN  \n\n[17520 rows x 11 columns]",
      "text/html": "<div>\n<style scoped>\n    .dataframe tbody tr th:only-of-type {\n        vertical-align: middle;\n    }\n\n    .dataframe tbody tr th {\n        vertical-align: top;\n    }\n\n    .dataframe thead th {\n        text-align: right;\n    }\n</style>\n<table border=\"1\" class=\"dataframe\">\n  <thead>\n    <tr style=\"text-align: right;\">\n      <th></th>\n      <th>Datetime (UTC)</th>\n      <th>Country</th>\n      <th>Zone Name</th>\n      <th>Zone Id</th>\n      <th>Carbon Intensity gCO₂eq/kWh (direct)</th>\n      <th>Carbon Intensity gCO₂eq/kWh (LCA)</th>\n      <th>Low Carbon Percentage</th>\n      <th>Renewable Percentage</th>\n      <th>Data Source</th>\n      <th>Data Estimated</th>\n      <th>Data Estimation Method</th>\n    </tr>\n  </thead>\n  <tbody>\n    <tr>\n      <th>0</th>\n      <td>2021-01-01 00:00:00</td>\n      <td>France</td>\n      <td>France</td>\n      <td>FR</td>\n      <td>40.17</td>\n      <td>60.73</td>\n      <td>91.25</td>\n      <td>15.73</td>\n      <td>opendata.reseaux-energies.fr</td>\n      <td>False</td>\n      <td>NaN</td>\n    </tr>\n    <tr>\n      <th>1</th>\n      <td>2021-01-01 01:00:00</td>\n      <td>France</td>\n      <td>France</td>\n      <td>FR</td>\n      <td>39.88</td>\n      <td>60.44</td>\n      <td>91.50</td>\n      <td>16.52</td>\n      <td>opendata.reseaux-energies.fr</td>\n      <td>False</td>\n      <td>NaN</td>\n    </tr>\n    <tr>\n      <th>2</th>\n      <td>2021-01-01 02:00:00</td>\n      <td>France</td>\n      <td>France</td>\n      <td>FR</td>\n      <td>31.01</td>\n      <td>50.04</td>\n      <td>92.70</td>\n      <td>15.67</td>\n      <td>opendata.reseaux-energies.fr</td>\n      <td>False</td>\n      <td>NaN</td>\n    </tr>\n    <tr>\n      <th>3</th>\n      <td>2021-01-01 03:00:00</td>\n      <td>France</td>\n      <td>France</td>\n      <td>FR</td>\n      <td>26.88</td>\n      <td>45.11</td>\n      <td>93.29</td>\n      <td>15.49</td>\n      <td>opendata.reseaux-energies.fr</td>\n      <td>False</td>\n      <td>NaN</td>\n    </tr>\n    <tr>\n      <th>4</th>\n      <td>2021-01-01 04:00:00</td>\n      <td>France</td>\n      <td>France</td>\n      <td>FR</td>\n      <td>27.41</td>\n      <td>45.59</td>\n      <td>93.34</td>\n      <td>15.01</td>\n      <td>opendata.reseaux-energies.fr</td>\n      <td>False</td>\n      <td>NaN</td>\n    </tr>\n    <tr>\n      <th>...</th>\n      <td>...</td>\n      <td>...</td>\n      <td>...</td>\n      <td>...</td>\n      <td>...</td>\n      <td>...</td>\n      <td>...</td>\n      <td>...</td>\n      <td>...</td>\n      <td>...</td>\n      <td>...</td>\n    </tr>\n    <tr>\n      <th>8755</th>\n      <td>2022-12-31 19:00:00</td>\n      <td>France</td>\n      <td>France</td>\n      <td>FR</td>\n      <td>21.31</td>\n      <td>39.08</td>\n      <td>95.06</td>\n      <td>44.69</td>\n      <td>opendata.reseaux-energies.fr</td>\n      <td>False</td>\n      <td>NaN</td>\n    </tr>\n    <tr>\n      <th>8756</th>\n      <td>2022-12-31 20:00:00</td>\n      <td>France</td>\n      <td>France</td>\n      <td>FR</td>\n      <td>20.90</td>\n      <td>38.70</td>\n      <td>95.04</td>\n      <td>44.33</td>\n      <td>opendata.reseaux-energies.fr</td>\n      <td>False</td>\n      <td>NaN</td>\n    </tr>\n    <tr>\n      <th>8757</th>\n      <td>2022-12-31 21:00:00</td>\n      <td>France</td>\n      <td>France</td>\n      <td>FR</td>\n      <td>21.85</td>\n      <td>39.99</td>\n      <td>94.82</td>\n      <td>44.51</td>\n      <td>opendata.reseaux-energies.fr</td>\n      <td>False</td>\n      <td>NaN</td>\n    </tr>\n    <tr>\n      <th>8758</th>\n      <td>2022-12-31 22:00:00</td>\n      <td>France</td>\n      <td>France</td>\n      <td>FR</td>\n      <td>21.27</td>\n      <td>39.31</td>\n      <td>94.94</td>\n      <td>44.18</td>\n      <td>opendata.reseaux-energies.fr</td>\n      <td>False</td>\n      <td>NaN</td>\n    </tr>\n    <tr>\n      <th>8759</th>\n      <td>2022-12-31 23:00:00</td>\n      <td>France</td>\n      <td>France</td>\n      <td>FR</td>\n      <td>23.53</td>\n      <td>42.17</td>\n      <td>94.71</td>\n      <td>43.14</td>\n      <td>opendata.reseaux-energies.fr</td>\n      <td>False</td>\n      <td>NaN</td>\n    </tr>\n  </tbody>\n</table>\n<p>17520 rows × 11 columns</p>\n</div>"
     },
     "execution_count": 4,
     "metadata": {},
     "output_type": "execute_result"
    }
   ],
   "source": [
    "full_co2"
   ],
   "metadata": {
    "collapsed": false,
    "ExecuteTime": {
     "end_time": "2023-12-06T16:49:26.990861Z",
     "start_time": "2023-12-06T16:49:26.717519Z"
    }
   },
   "id": "9ed0daca2ebe3d34"
  },
  {
   "cell_type": "code",
   "execution_count": 5,
   "outputs": [],
   "source": [
    "co2 = full_co2[['Datetime (UTC)', 'Carbon Intensity gCO₂eq/kWh (direct)']].copy()\n",
    "co2.loc[:,'Datetime'] = pd.to_datetime(co2.loc[:,'Datetime (UTC)']) - pd.DateOffset(years=14)\n",
    "co2.set_index('Datetime', inplace=True)\n",
    "co2.loc[:, \"Carbon Intensity gCO₂eq/kWmin (direct)\"] = co2.loc[:, \"Carbon Intensity gCO₂eq/kWh (direct)\"] / 60\n",
    "co2 = co2.loc[:, ['Carbon Intensity gCO₂eq/kWmin (direct)']]\n",
    "co2 = co2.resample('min').interpolate(method='linear')"
   ],
   "metadata": {
    "collapsed": false,
    "ExecuteTime": {
     "end_time": "2023-12-06T16:49:27.420403800Z",
     "start_time": "2023-12-06T16:49:26.986800400Z"
    }
   },
   "id": "20901b2cceeff3d5"
  },
  {
   "cell_type": "code",
   "execution_count": 6,
   "outputs": [
    {
     "data": {
      "text/plain": "                     Carbon Intensity gCO₂eq/kWmin (direct)\nDatetime                                                   \n2007-01-01 00:00:00                                0.669500\n2007-01-01 00:01:00                                0.669419\n2007-01-01 00:02:00                                0.669339\n2007-01-01 00:03:00                                0.669258\n2007-01-01 00:04:00                                0.669178\n...                                                     ...\n2008-12-31 22:56:00                                0.389656\n2008-12-31 22:57:00                                0.390283\n2008-12-31 22:58:00                                0.390911\n2008-12-31 22:59:00                                0.391539\n2008-12-31 23:00:00                                0.392167\n\n[1052581 rows x 1 columns]",
      "text/html": "<div>\n<style scoped>\n    .dataframe tbody tr th:only-of-type {\n        vertical-align: middle;\n    }\n\n    .dataframe tbody tr th {\n        vertical-align: top;\n    }\n\n    .dataframe thead th {\n        text-align: right;\n    }\n</style>\n<table border=\"1\" class=\"dataframe\">\n  <thead>\n    <tr style=\"text-align: right;\">\n      <th></th>\n      <th>Carbon Intensity gCO₂eq/kWmin (direct)</th>\n    </tr>\n    <tr>\n      <th>Datetime</th>\n      <th></th>\n    </tr>\n  </thead>\n  <tbody>\n    <tr>\n      <th>2007-01-01 00:00:00</th>\n      <td>0.669500</td>\n    </tr>\n    <tr>\n      <th>2007-01-01 00:01:00</th>\n      <td>0.669419</td>\n    </tr>\n    <tr>\n      <th>2007-01-01 00:02:00</th>\n      <td>0.669339</td>\n    </tr>\n    <tr>\n      <th>2007-01-01 00:03:00</th>\n      <td>0.669258</td>\n    </tr>\n    <tr>\n      <th>2007-01-01 00:04:00</th>\n      <td>0.669178</td>\n    </tr>\n    <tr>\n      <th>...</th>\n      <td>...</td>\n    </tr>\n    <tr>\n      <th>2008-12-31 22:56:00</th>\n      <td>0.389656</td>\n    </tr>\n    <tr>\n      <th>2008-12-31 22:57:00</th>\n      <td>0.390283</td>\n    </tr>\n    <tr>\n      <th>2008-12-31 22:58:00</th>\n      <td>0.390911</td>\n    </tr>\n    <tr>\n      <th>2008-12-31 22:59:00</th>\n      <td>0.391539</td>\n    </tr>\n    <tr>\n      <th>2008-12-31 23:00:00</th>\n      <td>0.392167</td>\n    </tr>\n  </tbody>\n</table>\n<p>1052581 rows × 1 columns</p>\n</div>"
     },
     "execution_count": 6,
     "metadata": {},
     "output_type": "execute_result"
    }
   ],
   "source": [
    "co2"
   ],
   "metadata": {
    "collapsed": false,
    "ExecuteTime": {
     "end_time": "2023-12-06T16:49:27.675939200Z",
     "start_time": "2023-12-06T16:49:27.420403800Z"
    }
   },
   "id": "5e59154d7d05f906"
  },
  {
   "cell_type": "code",
   "execution_count": 7,
   "outputs": [],
   "source": [
    "co2_episodes = co2.groupby(pd.Grouper(freq='W'))"
   ],
   "metadata": {
    "collapsed": false,
    "ExecuteTime": {
     "end_time": "2023-12-06T16:49:27.986164700Z",
     "start_time": "2023-12-06T16:49:27.675939200Z"
    }
   },
   "id": "623ae51581823be9"
  },
  {
   "cell_type": "code",
   "execution_count": 8,
   "outputs": [
    {
     "data": {
      "text/plain": "           Carbon Intensity gCO₂eq/kWmin (direct)                      \\\n                                            count      mean       std   \nDatetime                                                                \n2007-01-07                                10080.0  1.072211  0.353038   \n2007-01-14                                10080.0  1.184804  0.200671   \n2007-01-21                                10080.0  0.863216  0.258120   \n2007-01-28                                10080.0  0.739209  0.267256   \n2007-02-04                                10080.0  0.452082  0.158474   \n...                                           ...       ...       ...   \n2008-12-07                                10080.0  1.897596  0.150330   \n2008-12-14                                10080.0  1.890821  0.197264   \n2008-12-21                                10080.0  1.183549  0.402953   \n2008-12-28                                10080.0  0.448523  0.097987   \n2009-01-04                                 4261.0  0.371808  0.040595   \n\n                                                              \n                 min       25%       50%       75%       max  \nDatetime                                                      \n2007-01-07  0.413167  0.748064  1.175779  1.381604  1.638667  \n2007-01-14  0.703061  1.035740  1.198079  1.341605  1.600833  \n2007-01-21  0.415167  0.678653  0.881757  1.100052  1.361333  \n2007-01-28  0.342428  0.467917  0.745786  0.962547  1.290333  \n2007-02-04  0.291500  0.344774  0.370800  0.532414  0.876167  \n...              ...       ...       ...       ...       ...  \n2008-12-07  1.589500  1.781732  1.897185  2.011988  2.291500  \n2008-12-14  1.446500  1.732788  1.901515  2.035399  2.373000  \n2008-12-21  0.387678  0.868642  1.245474  1.538583  1.808333  \n2008-12-28  0.258167  0.386953  0.442819  0.505504  0.675000  \n2009-01-04  0.323667  0.345475  0.360056  0.379000  0.486000  \n\n[105 rows x 8 columns]",
      "text/html": "<div>\n<style scoped>\n    .dataframe tbody tr th:only-of-type {\n        vertical-align: middle;\n    }\n\n    .dataframe tbody tr th {\n        vertical-align: top;\n    }\n\n    .dataframe thead tr th {\n        text-align: left;\n    }\n\n    .dataframe thead tr:last-of-type th {\n        text-align: right;\n    }\n</style>\n<table border=\"1\" class=\"dataframe\">\n  <thead>\n    <tr>\n      <th></th>\n      <th colspan=\"8\" halign=\"left\">Carbon Intensity gCO₂eq/kWmin (direct)</th>\n    </tr>\n    <tr>\n      <th></th>\n      <th>count</th>\n      <th>mean</th>\n      <th>std</th>\n      <th>min</th>\n      <th>25%</th>\n      <th>50%</th>\n      <th>75%</th>\n      <th>max</th>\n    </tr>\n    <tr>\n      <th>Datetime</th>\n      <th></th>\n      <th></th>\n      <th></th>\n      <th></th>\n      <th></th>\n      <th></th>\n      <th></th>\n      <th></th>\n    </tr>\n  </thead>\n  <tbody>\n    <tr>\n      <th>2007-01-07</th>\n      <td>10080.0</td>\n      <td>1.072211</td>\n      <td>0.353038</td>\n      <td>0.413167</td>\n      <td>0.748064</td>\n      <td>1.175779</td>\n      <td>1.381604</td>\n      <td>1.638667</td>\n    </tr>\n    <tr>\n      <th>2007-01-14</th>\n      <td>10080.0</td>\n      <td>1.184804</td>\n      <td>0.200671</td>\n      <td>0.703061</td>\n      <td>1.035740</td>\n      <td>1.198079</td>\n      <td>1.341605</td>\n      <td>1.600833</td>\n    </tr>\n    <tr>\n      <th>2007-01-21</th>\n      <td>10080.0</td>\n      <td>0.863216</td>\n      <td>0.258120</td>\n      <td>0.415167</td>\n      <td>0.678653</td>\n      <td>0.881757</td>\n      <td>1.100052</td>\n      <td>1.361333</td>\n    </tr>\n    <tr>\n      <th>2007-01-28</th>\n      <td>10080.0</td>\n      <td>0.739209</td>\n      <td>0.267256</td>\n      <td>0.342428</td>\n      <td>0.467917</td>\n      <td>0.745786</td>\n      <td>0.962547</td>\n      <td>1.290333</td>\n    </tr>\n    <tr>\n      <th>2007-02-04</th>\n      <td>10080.0</td>\n      <td>0.452082</td>\n      <td>0.158474</td>\n      <td>0.291500</td>\n      <td>0.344774</td>\n      <td>0.370800</td>\n      <td>0.532414</td>\n      <td>0.876167</td>\n    </tr>\n    <tr>\n      <th>...</th>\n      <td>...</td>\n      <td>...</td>\n      <td>...</td>\n      <td>...</td>\n      <td>...</td>\n      <td>...</td>\n      <td>...</td>\n      <td>...</td>\n    </tr>\n    <tr>\n      <th>2008-12-07</th>\n      <td>10080.0</td>\n      <td>1.897596</td>\n      <td>0.150330</td>\n      <td>1.589500</td>\n      <td>1.781732</td>\n      <td>1.897185</td>\n      <td>2.011988</td>\n      <td>2.291500</td>\n    </tr>\n    <tr>\n      <th>2008-12-14</th>\n      <td>10080.0</td>\n      <td>1.890821</td>\n      <td>0.197264</td>\n      <td>1.446500</td>\n      <td>1.732788</td>\n      <td>1.901515</td>\n      <td>2.035399</td>\n      <td>2.373000</td>\n    </tr>\n    <tr>\n      <th>2008-12-21</th>\n      <td>10080.0</td>\n      <td>1.183549</td>\n      <td>0.402953</td>\n      <td>0.387678</td>\n      <td>0.868642</td>\n      <td>1.245474</td>\n      <td>1.538583</td>\n      <td>1.808333</td>\n    </tr>\n    <tr>\n      <th>2008-12-28</th>\n      <td>10080.0</td>\n      <td>0.448523</td>\n      <td>0.097987</td>\n      <td>0.258167</td>\n      <td>0.386953</td>\n      <td>0.442819</td>\n      <td>0.505504</td>\n      <td>0.675000</td>\n    </tr>\n    <tr>\n      <th>2009-01-04</th>\n      <td>4261.0</td>\n      <td>0.371808</td>\n      <td>0.040595</td>\n      <td>0.323667</td>\n      <td>0.345475</td>\n      <td>0.360056</td>\n      <td>0.379000</td>\n      <td>0.486000</td>\n    </tr>\n  </tbody>\n</table>\n<p>105 rows × 8 columns</p>\n</div>"
     },
     "execution_count": 8,
     "metadata": {},
     "output_type": "execute_result"
    }
   ],
   "source": [
    "co2_episodes.describe()"
   ],
   "metadata": {
    "collapsed": false,
    "ExecuteTime": {
     "end_time": "2023-12-06T16:49:28.596149500Z",
     "start_time": "2023-12-06T16:49:27.987179100Z"
    }
   },
   "id": "893d83ce5a6329c3"
  },
  {
   "cell_type": "code",
   "execution_count": 9,
   "outputs": [],
   "source": [
    "co2_episodes = pd.concat([group.fillna(0) for name, group in co2_episodes if len(group.dropna()) >= 10000 and group.index[0] >= datetime(2007, 1, 1) and group.index[-1] <= datetime(2008, 12, 31)]).groupby(pd.Grouper(freq='W'))"
   ],
   "metadata": {
    "collapsed": false,
    "ExecuteTime": {
     "end_time": "2023-12-06T16:49:28.938258300Z",
     "start_time": "2023-12-06T16:49:28.595124600Z"
    }
   },
   "id": "ca74ce1106cd3d44"
  },
  {
   "cell_type": "code",
   "execution_count": 10,
   "outputs": [
    {
     "data": {
      "text/plain": "           Carbon Intensity gCO₂eq/kWmin (direct)                      \\\n                                            count      mean       std   \nDatetime                                                                \n2007-01-07                                10080.0  1.072211  0.353038   \n2007-01-14                                10080.0  1.184804  0.200671   \n2007-01-21                                10080.0  0.863216  0.258120   \n2007-01-28                                10080.0  0.739209  0.267256   \n2007-02-04                                10080.0  0.452082  0.158474   \n...                                           ...       ...       ...   \n2008-11-30                                10080.0  1.437826  0.393409   \n2008-12-07                                10080.0  1.897596  0.150330   \n2008-12-14                                10080.0  1.890821  0.197264   \n2008-12-21                                10080.0  1.183549  0.402953   \n2008-12-28                                10080.0  0.448523  0.097987   \n\n                                                              \n                 min       25%       50%       75%       max  \nDatetime                                                      \n2007-01-07  0.413167  0.748064  1.175779  1.381604  1.638667  \n2007-01-14  0.703061  1.035740  1.198079  1.341605  1.600833  \n2007-01-21  0.415167  0.678653  0.881757  1.100052  1.361333  \n2007-01-28  0.342428  0.467917  0.745786  0.962547  1.290333  \n2007-02-04  0.291500  0.344774  0.370800  0.532414  0.876167  \n...              ...       ...       ...       ...       ...  \n2008-11-30  0.623333  1.091316  1.443585  1.748733  2.226333  \n2008-12-07  1.589500  1.781732  1.897185  2.011988  2.291500  \n2008-12-14  1.446500  1.732788  1.901515  2.035399  2.373000  \n2008-12-21  0.387678  0.868642  1.245474  1.538583  1.808333  \n2008-12-28  0.258167  0.386953  0.442819  0.505504  0.675000  \n\n[104 rows x 8 columns]",
      "text/html": "<div>\n<style scoped>\n    .dataframe tbody tr th:only-of-type {\n        vertical-align: middle;\n    }\n\n    .dataframe tbody tr th {\n        vertical-align: top;\n    }\n\n    .dataframe thead tr th {\n        text-align: left;\n    }\n\n    .dataframe thead tr:last-of-type th {\n        text-align: right;\n    }\n</style>\n<table border=\"1\" class=\"dataframe\">\n  <thead>\n    <tr>\n      <th></th>\n      <th colspan=\"8\" halign=\"left\">Carbon Intensity gCO₂eq/kWmin (direct)</th>\n    </tr>\n    <tr>\n      <th></th>\n      <th>count</th>\n      <th>mean</th>\n      <th>std</th>\n      <th>min</th>\n      <th>25%</th>\n      <th>50%</th>\n      <th>75%</th>\n      <th>max</th>\n    </tr>\n    <tr>\n      <th>Datetime</th>\n      <th></th>\n      <th></th>\n      <th></th>\n      <th></th>\n      <th></th>\n      <th></th>\n      <th></th>\n      <th></th>\n    </tr>\n  </thead>\n  <tbody>\n    <tr>\n      <th>2007-01-07</th>\n      <td>10080.0</td>\n      <td>1.072211</td>\n      <td>0.353038</td>\n      <td>0.413167</td>\n      <td>0.748064</td>\n      <td>1.175779</td>\n      <td>1.381604</td>\n      <td>1.638667</td>\n    </tr>\n    <tr>\n      <th>2007-01-14</th>\n      <td>10080.0</td>\n      <td>1.184804</td>\n      <td>0.200671</td>\n      <td>0.703061</td>\n      <td>1.035740</td>\n      <td>1.198079</td>\n      <td>1.341605</td>\n      <td>1.600833</td>\n    </tr>\n    <tr>\n      <th>2007-01-21</th>\n      <td>10080.0</td>\n      <td>0.863216</td>\n      <td>0.258120</td>\n      <td>0.415167</td>\n      <td>0.678653</td>\n      <td>0.881757</td>\n      <td>1.100052</td>\n      <td>1.361333</td>\n    </tr>\n    <tr>\n      <th>2007-01-28</th>\n      <td>10080.0</td>\n      <td>0.739209</td>\n      <td>0.267256</td>\n      <td>0.342428</td>\n      <td>0.467917</td>\n      <td>0.745786</td>\n      <td>0.962547</td>\n      <td>1.290333</td>\n    </tr>\n    <tr>\n      <th>2007-02-04</th>\n      <td>10080.0</td>\n      <td>0.452082</td>\n      <td>0.158474</td>\n      <td>0.291500</td>\n      <td>0.344774</td>\n      <td>0.370800</td>\n      <td>0.532414</td>\n      <td>0.876167</td>\n    </tr>\n    <tr>\n      <th>...</th>\n      <td>...</td>\n      <td>...</td>\n      <td>...</td>\n      <td>...</td>\n      <td>...</td>\n      <td>...</td>\n      <td>...</td>\n      <td>...</td>\n    </tr>\n    <tr>\n      <th>2008-11-30</th>\n      <td>10080.0</td>\n      <td>1.437826</td>\n      <td>0.393409</td>\n      <td>0.623333</td>\n      <td>1.091316</td>\n      <td>1.443585</td>\n      <td>1.748733</td>\n      <td>2.226333</td>\n    </tr>\n    <tr>\n      <th>2008-12-07</th>\n      <td>10080.0</td>\n      <td>1.897596</td>\n      <td>0.150330</td>\n      <td>1.589500</td>\n      <td>1.781732</td>\n      <td>1.897185</td>\n      <td>2.011988</td>\n      <td>2.291500</td>\n    </tr>\n    <tr>\n      <th>2008-12-14</th>\n      <td>10080.0</td>\n      <td>1.890821</td>\n      <td>0.197264</td>\n      <td>1.446500</td>\n      <td>1.732788</td>\n      <td>1.901515</td>\n      <td>2.035399</td>\n      <td>2.373000</td>\n    </tr>\n    <tr>\n      <th>2008-12-21</th>\n      <td>10080.0</td>\n      <td>1.183549</td>\n      <td>0.402953</td>\n      <td>0.387678</td>\n      <td>0.868642</td>\n      <td>1.245474</td>\n      <td>1.538583</td>\n      <td>1.808333</td>\n    </tr>\n    <tr>\n      <th>2008-12-28</th>\n      <td>10080.0</td>\n      <td>0.448523</td>\n      <td>0.097987</td>\n      <td>0.258167</td>\n      <td>0.386953</td>\n      <td>0.442819</td>\n      <td>0.505504</td>\n      <td>0.675000</td>\n    </tr>\n  </tbody>\n</table>\n<p>104 rows × 8 columns</p>\n</div>"
     },
     "execution_count": 10,
     "metadata": {},
     "output_type": "execute_result"
    }
   ],
   "source": [
    "co2_episodes.describe()"
   ],
   "metadata": {
    "collapsed": false,
    "ExecuteTime": {
     "end_time": "2023-12-06T16:49:29.610125400Z",
     "start_time": "2023-12-06T16:49:28.938258300Z"
    }
   },
   "id": "52468774bc44c8d2"
  },
  {
   "cell_type": "code",
   "execution_count": 12,
   "outputs": [
    {
     "name": "stdout",
     "output_type": "stream",
     "text": [
      "True\n"
     ]
    }
   ],
   "source": [
    "demand =  pd.HDFStore('./minutely/consumption.h5')\n",
    "with pd.HDFStore('./minutely/intensity.h5') as store:\n",
    "    # Save each DataFrame with a key\n",
    "    i = 0\n",
    "    for name, group in co2_episodes:\n",
    "        if name.date() == demand[f\"eps_{i}\"].index[-1].date():\n",
    "            store[f'eps_{i}'] = group\n",
    "            i += 1\n",
    "file = pd.HDFStore('./minutely/intensity.h5')\n",
    "print(len(file) == len(demand))\n",
    "file.close()\n",
    "demand.close()"
   ],
   "metadata": {
    "collapsed": false,
    "ExecuteTime": {
     "end_time": "2023-12-06T16:49:53.986573400Z",
     "start_time": "2023-12-06T16:49:51.921981600Z"
    }
   },
   "id": "95522d8874507ccf"
  },
  {
   "cell_type": "code",
   "execution_count": null,
   "outputs": [],
   "source": [],
   "metadata": {
    "collapsed": false
   },
   "id": "2ccbf7c2d41e8f3a"
  }
 ],
 "metadata": {
  "kernelspec": {
   "display_name": "Python 3",
   "language": "python",
   "name": "python3"
  },
  "language_info": {
   "codemirror_mode": {
    "name": "ipython",
    "version": 2
   },
   "file_extension": ".py",
   "mimetype": "text/x-python",
   "name": "python",
   "nbconvert_exporter": "python",
   "pygments_lexer": "ipython2",
   "version": "2.7.6"
  }
 },
 "nbformat": 4,
 "nbformat_minor": 5
}
