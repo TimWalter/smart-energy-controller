{
 "cells": [
  {
   "cell_type": "code",
   "execution_count": 1,
   "id": "initial_id",
   "metadata": {
    "collapsed": true,
    "ExecuteTime": {
     "end_time": "2024-01-05T11:04:44.513539Z",
     "start_time": "2024-01-05T11:04:44.319219Z"
    }
   },
   "outputs": [],
   "source": [
    "%load_ext autoreload\n",
    "%autoreload 2"
   ]
  },
  {
   "cell_type": "code",
   "execution_count": 2,
   "outputs": [],
   "source": [
    "import pandas as pd\n",
    "import numpy as np\n",
    "from datetime import datetime"
   ],
   "metadata": {
    "collapsed": false,
    "ExecuteTime": {
     "end_time": "2024-01-05T11:04:45.762252900Z",
     "start_time": "2024-01-05T11:04:44.515675700Z"
    }
   },
   "id": "23cf97c3fb4205a2"
  },
  {
   "cell_type": "code",
   "execution_count": 3,
   "outputs": [],
   "source": [
    "raw_data = pd.read_csv(\"./raw/temperature.csv\")"
   ],
   "metadata": {
    "collapsed": false,
    "ExecuteTime": {
     "end_time": "2024-01-05T11:04:46.032131900Z",
     "start_time": "2024-01-05T11:04:45.764389700Z"
    }
   },
   "id": "7d1743c77eab71b5"
  },
  {
   "cell_type": "code",
   "execution_count": 4,
   "outputs": [],
   "source": [
    "data = raw_data[['time', 'G(i)', 'H_sun', 'T2m', \"WS10m\"]].copy()\n",
    "data['Datetime'] = pd.to_datetime(data['time'], format=\"%Y%m%d:%H%M\")\n",
    "data.set_index('Datetime', inplace=True)\n",
    "\n",
    "data = data.loc[:, ['G(i)', 'H_sun', 'T2m', \"WS10m\"]]\n",
    "data.rename(columns={\"G(i)\": \"solar irradiation\", \"H_sun\": \"solar elevation\", \"T2m\": \"temperature\", \"WS10m\": \"wind speed\"}, inplace=True)"
   ],
   "metadata": {
    "collapsed": false,
    "ExecuteTime": {
     "end_time": "2024-01-05T11:04:46.377769600Z",
     "start_time": "2024-01-05T11:04:46.034281Z"
    }
   },
   "id": "cfc9cac2b7ea37e1"
  },
  {
   "cell_type": "code",
   "execution_count": 5,
   "outputs": [],
   "source": [
    "data_minutely = data.resample('min').interpolate(method='linear')\n",
    "data_hourly = data"
   ],
   "metadata": {
    "collapsed": false,
    "ExecuteTime": {
     "end_time": "2024-01-05T11:04:47.988053900Z",
     "start_time": "2024-01-05T11:04:46.378830100Z"
    }
   },
   "id": "b4370d318ecbed41"
  },
  {
   "cell_type": "code",
   "execution_count": 6,
   "outputs": [
    {
     "name": "stdout",
     "output_type": "stream",
     "text": [
      "minutely Max solar irradiation:  1082.1\n",
      "minutely Min solar irradiation:  0.0\n",
      "minutely Max solar elevation:  64.41\n",
      "minutely Min solar elevation:  0.0\n",
      "minutely Max temperature:  35.13\n",
      "minutely Min temperature:  -10.43\n",
      "minutely Max wind speed:  12.76\n",
      "minutely Min wind speed:  0.0\n",
      "minutely episodes:  104\n",
      "101\n",
      "minutely episodes:  101\n",
      "Equal length: True\n",
      "hourly Max solar irradiation:  1082.1\n",
      "hourly Min solar irradiation:  0.0\n",
      "hourly Max solar elevation:  64.41\n",
      "hourly Min solar elevation:  0.0\n",
      "hourly Max temperature:  35.13\n",
      "hourly Min temperature:  -10.43\n",
      "hourly Max wind speed:  12.76\n",
      "hourly Min wind speed:  0.0\n",
      "hourly episodes:  104\n",
      "102\n",
      "hourly episodes:  102\n",
      "Equal length: True\n"
     ]
    }
   ],
   "source": [
    "for data, resolution in zip([data_minutely, data_hourly], [\"minutely\", \"hourly\"]):\n",
    "    print(f\"{resolution} Max solar irradiation: \", np.max(data[\"solar irradiation\"]))\n",
    "    print(f\"{resolution} Min solar irradiation: \", np.min(data[\"solar irradiation\"]))\n",
    "    print(f\"{resolution} Max solar elevation: \", np.max(data[\"solar elevation\"]))\n",
    "    print(f\"{resolution} Min solar elevation: \", np.min(data[\"solar elevation\"]))\n",
    "    print(f\"{resolution} Max temperature: \", np.max(data[\"temperature\"]))\n",
    "    print(f\"{resolution} Min temperature: \", np.min(data[\"temperature\"]))\n",
    "    print(f\"{resolution} Max wind speed: \", np.max(data[\"wind speed\"]))\n",
    "    print(f\"{resolution} Min wind speed: \", np.min(data[\"wind speed\"]))\n",
    "\n",
    "    episodes = data.groupby(pd.Grouper(freq='W'))\n",
    "    required_length = 10000 if resolution == \"minutely\" else 165\n",
    "    episodes = pd.concat([group.fillna(0) for name, group in episodes if\n",
    "                                       len(group.dropna()) >= required_length and group.index[0] >= datetime(2007, 1, 1) and\n",
    "                                       group.index[-1] <= datetime(2008, 12, 31)]).groupby(pd.Grouper(freq='W'))\n",
    "    \n",
    "    print(f\"{resolution} episodes: \", len(episodes))\n",
    "    demand = pd.HDFStore(f'./{resolution}/household_energy_demand.h5')\n",
    "    with pd.HDFStore(f'./{resolution}/weather_and_time.h5') as store:\n",
    "        # Save each DataFrame with a key\n",
    "        i = 0\n",
    "        for name, group in episodes:\n",
    "            if name.date() == demand[f\"eps_{i}\"].index[-1].date():\n",
    "                store[f'eps_{i}'] = group\n",
    "                i += 1\n",
    "        print(len(store))\n",
    "    print(f\"{resolution} episodes: \", i)\n",
    "    file = pd.HDFStore(f'./{resolution}/weather_and_time.h5')\n",
    "    print(f\"Equal length: {len(file) == len(demand)}\")\n",
    "    file.close()\n",
    "    demand.close()"
   ],
   "metadata": {
    "collapsed": false,
    "ExecuteTime": {
     "end_time": "2024-01-05T11:04:53.293721Z",
     "start_time": "2024-01-05T11:04:47.992702900Z"
    }
   },
   "id": "c257216de893e189"
  }
 ],
 "metadata": {
  "kernelspec": {
   "display_name": "Python 3",
   "language": "python",
   "name": "python3"
  },
  "language_info": {
   "codemirror_mode": {
    "name": "ipython",
    "version": 2
   },
   "file_extension": ".py",
   "mimetype": "text/x-python",
   "name": "python",
   "nbconvert_exporter": "python",
   "pygments_lexer": "ipython2",
   "version": "2.7.6"
  }
 },
 "nbformat": 4,
 "nbformat_minor": 5
}
