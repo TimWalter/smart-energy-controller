{
 "cells": [
  {
   "cell_type": "code",
   "execution_count": 8,
   "outputs": [
    {
     "name": "stdout",
     "output_type": "stream",
     "text": [
      "The autoreload extension is already loaded. To reload it, use:\n",
      "  %reload_ext autoreload\n"
     ]
    }
   ],
   "source": [
    "import datetime\n",
    "%load_ext autoreload\n",
    "%autoreload 2"
   ],
   "metadata": {
    "collapsed": false,
    "ExecuteTime": {
     "end_time": "2023-11-18T09:31:04.854173448Z",
     "start_time": "2023-11-18T09:31:04.802024157Z"
    }
   },
   "id": "327c7d76fc5e1c15"
  },
  {
   "cell_type": "code",
   "execution_count": 9,
   "id": "initial_id",
   "metadata": {
    "collapsed": true,
    "ExecuteTime": {
     "end_time": "2023-11-18T09:31:05.134766349Z",
     "start_time": "2023-11-18T09:31:05.126242638Z"
    }
   },
   "outputs": [],
   "source": [
    "import pandas as pd\n",
    "from datetime import datetime"
   ]
  },
  {
   "cell_type": "code",
   "execution_count": 10,
   "outputs": [],
   "source": [
    "full_demand = pd.read_csv('./raw/household_power_consumption.txt', sep=';', low_memory=False)"
   ],
   "metadata": {
    "collapsed": false,
    "ExecuteTime": {
     "end_time": "2023-11-18T09:31:07.750049584Z",
     "start_time": "2023-11-18T09:31:05.453118615Z"
    }
   },
   "id": "37477484636d2b4"
  },
  {
   "cell_type": "code",
   "execution_count": 11,
   "outputs": [
    {
     "data": {
      "text/plain": "               Date      Time Global_active_power Global_reactive_power  \\\n0        16/12/2006  17:24:00               4.216                 0.418   \n1        16/12/2006  17:25:00               5.360                 0.436   \n2        16/12/2006  17:26:00               5.374                 0.498   \n3        16/12/2006  17:27:00               5.388                 0.502   \n4        16/12/2006  17:28:00               3.666                 0.528   \n...             ...       ...                 ...                   ...   \n2075254  26/11/2010  20:58:00               0.946                 0.000   \n2075255  26/11/2010  20:59:00               0.944                 0.000   \n2075256  26/11/2010  21:00:00               0.938                 0.000   \n2075257  26/11/2010  21:01:00               0.934                 0.000   \n2075258  26/11/2010  21:02:00               0.932                 0.000   \n\n         Voltage Global_intensity Sub_metering_1 Sub_metering_2  \\\n0        234.840           18.400          0.000          1.000   \n1        233.630           23.000          0.000          1.000   \n2        233.290           23.000          0.000          2.000   \n3        233.740           23.000          0.000          1.000   \n4        235.680           15.800          0.000          1.000   \n...          ...              ...            ...            ...   \n2075254  240.430            4.000          0.000          0.000   \n2075255  240.000            4.000          0.000          0.000   \n2075256  239.820            3.800          0.000          0.000   \n2075257  239.700            3.800          0.000          0.000   \n2075258  239.550            3.800          0.000          0.000   \n\n         Sub_metering_3  \n0                  17.0  \n1                  16.0  \n2                  17.0  \n3                  17.0  \n4                  17.0  \n...                 ...  \n2075254             0.0  \n2075255             0.0  \n2075256             0.0  \n2075257             0.0  \n2075258             0.0  \n\n[2075259 rows x 9 columns]",
      "text/html": "<div>\n<style scoped>\n    .dataframe tbody tr th:only-of-type {\n        vertical-align: middle;\n    }\n\n    .dataframe tbody tr th {\n        vertical-align: top;\n    }\n\n    .dataframe thead th {\n        text-align: right;\n    }\n</style>\n<table border=\"1\" class=\"dataframe\">\n  <thead>\n    <tr style=\"text-align: right;\">\n      <th></th>\n      <th>Date</th>\n      <th>Time</th>\n      <th>Global_active_power</th>\n      <th>Global_reactive_power</th>\n      <th>Voltage</th>\n      <th>Global_intensity</th>\n      <th>Sub_metering_1</th>\n      <th>Sub_metering_2</th>\n      <th>Sub_metering_3</th>\n    </tr>\n  </thead>\n  <tbody>\n    <tr>\n      <th>0</th>\n      <td>16/12/2006</td>\n      <td>17:24:00</td>\n      <td>4.216</td>\n      <td>0.418</td>\n      <td>234.840</td>\n      <td>18.400</td>\n      <td>0.000</td>\n      <td>1.000</td>\n      <td>17.0</td>\n    </tr>\n    <tr>\n      <th>1</th>\n      <td>16/12/2006</td>\n      <td>17:25:00</td>\n      <td>5.360</td>\n      <td>0.436</td>\n      <td>233.630</td>\n      <td>23.000</td>\n      <td>0.000</td>\n      <td>1.000</td>\n      <td>16.0</td>\n    </tr>\n    <tr>\n      <th>2</th>\n      <td>16/12/2006</td>\n      <td>17:26:00</td>\n      <td>5.374</td>\n      <td>0.498</td>\n      <td>233.290</td>\n      <td>23.000</td>\n      <td>0.000</td>\n      <td>2.000</td>\n      <td>17.0</td>\n    </tr>\n    <tr>\n      <th>3</th>\n      <td>16/12/2006</td>\n      <td>17:27:00</td>\n      <td>5.388</td>\n      <td>0.502</td>\n      <td>233.740</td>\n      <td>23.000</td>\n      <td>0.000</td>\n      <td>1.000</td>\n      <td>17.0</td>\n    </tr>\n    <tr>\n      <th>4</th>\n      <td>16/12/2006</td>\n      <td>17:28:00</td>\n      <td>3.666</td>\n      <td>0.528</td>\n      <td>235.680</td>\n      <td>15.800</td>\n      <td>0.000</td>\n      <td>1.000</td>\n      <td>17.0</td>\n    </tr>\n    <tr>\n      <th>...</th>\n      <td>...</td>\n      <td>...</td>\n      <td>...</td>\n      <td>...</td>\n      <td>...</td>\n      <td>...</td>\n      <td>...</td>\n      <td>...</td>\n      <td>...</td>\n    </tr>\n    <tr>\n      <th>2075254</th>\n      <td>26/11/2010</td>\n      <td>20:58:00</td>\n      <td>0.946</td>\n      <td>0.000</td>\n      <td>240.430</td>\n      <td>4.000</td>\n      <td>0.000</td>\n      <td>0.000</td>\n      <td>0.0</td>\n    </tr>\n    <tr>\n      <th>2075255</th>\n      <td>26/11/2010</td>\n      <td>20:59:00</td>\n      <td>0.944</td>\n      <td>0.000</td>\n      <td>240.000</td>\n      <td>4.000</td>\n      <td>0.000</td>\n      <td>0.000</td>\n      <td>0.0</td>\n    </tr>\n    <tr>\n      <th>2075256</th>\n      <td>26/11/2010</td>\n      <td>21:00:00</td>\n      <td>0.938</td>\n      <td>0.000</td>\n      <td>239.820</td>\n      <td>3.800</td>\n      <td>0.000</td>\n      <td>0.000</td>\n      <td>0.0</td>\n    </tr>\n    <tr>\n      <th>2075257</th>\n      <td>26/11/2010</td>\n      <td>21:01:00</td>\n      <td>0.934</td>\n      <td>0.000</td>\n      <td>239.700</td>\n      <td>3.800</td>\n      <td>0.000</td>\n      <td>0.000</td>\n      <td>0.0</td>\n    </tr>\n    <tr>\n      <th>2075258</th>\n      <td>26/11/2010</td>\n      <td>21:02:00</td>\n      <td>0.932</td>\n      <td>0.000</td>\n      <td>239.550</td>\n      <td>3.800</td>\n      <td>0.000</td>\n      <td>0.000</td>\n      <td>0.0</td>\n    </tr>\n  </tbody>\n</table>\n<p>2075259 rows × 9 columns</p>\n</div>"
     },
     "execution_count": 11,
     "metadata": {},
     "output_type": "execute_result"
    }
   ],
   "source": [
    "full_demand"
   ],
   "metadata": {
    "collapsed": false,
    "ExecuteTime": {
     "end_time": "2023-11-18T09:31:07.775639300Z",
     "start_time": "2023-11-18T09:31:07.738620508Z"
    }
   },
   "id": "f0ec003f4b802d5b"
  },
  {
   "cell_type": "code",
   "execution_count": 12,
   "outputs": [],
   "source": [
    "demand = full_demand[['Date', 'Time', 'Sub_metering_1', 'Sub_metering_2', 'Sub_metering_3']].copy()\n",
    "demand.loc[:,'Datetime'] = pd.to_datetime(demand.loc[:, 'Date'] + ' ' + demand.loc[:,'Time'], dayfirst=True)\n",
    "demand.set_index('Datetime', inplace=True)\n",
    "demand = demand.loc[:, ['Sub_metering_1', 'Sub_metering_2', 'Sub_metering_3']]"
   ],
   "metadata": {
    "collapsed": false,
    "ExecuteTime": {
     "end_time": "2023-11-18T09:31:14.232928077Z",
     "start_time": "2023-11-18T09:31:07.759074709Z"
    }
   },
   "id": "503329f17403e103"
  },
  {
   "cell_type": "code",
   "execution_count": 13,
   "outputs": [
    {
     "data": {
      "text/plain": "                    Sub_metering_1 Sub_metering_2  Sub_metering_3\nDatetime                                                         \n2006-12-16 17:24:00          0.000          1.000            17.0\n2006-12-16 17:25:00          0.000          1.000            16.0\n2006-12-16 17:26:00          0.000          2.000            17.0\n2006-12-16 17:27:00          0.000          1.000            17.0\n2006-12-16 17:28:00          0.000          1.000            17.0\n...                            ...            ...             ...\n2010-11-26 20:58:00          0.000          0.000             0.0\n2010-11-26 20:59:00          0.000          0.000             0.0\n2010-11-26 21:00:00          0.000          0.000             0.0\n2010-11-26 21:01:00          0.000          0.000             0.0\n2010-11-26 21:02:00          0.000          0.000             0.0\n\n[2075259 rows x 3 columns]",
      "text/html": "<div>\n<style scoped>\n    .dataframe tbody tr th:only-of-type {\n        vertical-align: middle;\n    }\n\n    .dataframe tbody tr th {\n        vertical-align: top;\n    }\n\n    .dataframe thead th {\n        text-align: right;\n    }\n</style>\n<table border=\"1\" class=\"dataframe\">\n  <thead>\n    <tr style=\"text-align: right;\">\n      <th></th>\n      <th>Sub_metering_1</th>\n      <th>Sub_metering_2</th>\n      <th>Sub_metering_3</th>\n    </tr>\n    <tr>\n      <th>Datetime</th>\n      <th></th>\n      <th></th>\n      <th></th>\n    </tr>\n  </thead>\n  <tbody>\n    <tr>\n      <th>2006-12-16 17:24:00</th>\n      <td>0.000</td>\n      <td>1.000</td>\n      <td>17.0</td>\n    </tr>\n    <tr>\n      <th>2006-12-16 17:25:00</th>\n      <td>0.000</td>\n      <td>1.000</td>\n      <td>16.0</td>\n    </tr>\n    <tr>\n      <th>2006-12-16 17:26:00</th>\n      <td>0.000</td>\n      <td>2.000</td>\n      <td>17.0</td>\n    </tr>\n    <tr>\n      <th>2006-12-16 17:27:00</th>\n      <td>0.000</td>\n      <td>1.000</td>\n      <td>17.0</td>\n    </tr>\n    <tr>\n      <th>2006-12-16 17:28:00</th>\n      <td>0.000</td>\n      <td>1.000</td>\n      <td>17.0</td>\n    </tr>\n    <tr>\n      <th>...</th>\n      <td>...</td>\n      <td>...</td>\n      <td>...</td>\n    </tr>\n    <tr>\n      <th>2010-11-26 20:58:00</th>\n      <td>0.000</td>\n      <td>0.000</td>\n      <td>0.0</td>\n    </tr>\n    <tr>\n      <th>2010-11-26 20:59:00</th>\n      <td>0.000</td>\n      <td>0.000</td>\n      <td>0.0</td>\n    </tr>\n    <tr>\n      <th>2010-11-26 21:00:00</th>\n      <td>0.000</td>\n      <td>0.000</td>\n      <td>0.0</td>\n    </tr>\n    <tr>\n      <th>2010-11-26 21:01:00</th>\n      <td>0.000</td>\n      <td>0.000</td>\n      <td>0.0</td>\n    </tr>\n    <tr>\n      <th>2010-11-26 21:02:00</th>\n      <td>0.000</td>\n      <td>0.000</td>\n      <td>0.0</td>\n    </tr>\n  </tbody>\n</table>\n<p>2075259 rows × 3 columns</p>\n</div>"
     },
     "execution_count": 13,
     "metadata": {},
     "output_type": "execute_result"
    }
   ],
   "source": [
    "demand"
   ],
   "metadata": {
    "collapsed": false,
    "ExecuteTime": {
     "end_time": "2023-11-18T09:31:14.472557374Z",
     "start_time": "2023-11-18T09:31:14.233801654Z"
    }
   },
   "id": "47d33f74c034586c"
  },
  {
   "cell_type": "code",
   "execution_count": 15,
   "outputs": [],
   "source": [
    "demand_episodes = demand.groupby(pd.Grouper(freq='W'))"
   ],
   "metadata": {
    "collapsed": false,
    "ExecuteTime": {
     "end_time": "2023-11-18T09:31:20.435731857Z",
     "start_time": "2023-11-18T09:31:20.388264445Z"
    }
   },
   "id": "7e04500b098edda7"
  },
  {
   "cell_type": "code",
   "execution_count": 16,
   "outputs": [
    {
     "data": {
      "text/plain": "           Sub_metering_3                                                \n                    count      mean       std  min  25%   50%   75%   max\nDatetime                                                                 \n2006-12-17         1836.0  9.949346  8.501908  0.0  0.0  17.0  17.0  19.0\n2006-12-24        10078.0  7.684759  8.709914  0.0  0.0   0.0  17.0  20.0\n2006-12-31        10078.0  6.671661  8.534913  0.0  0.0   0.0  17.0  20.0\n2007-01-07        10080.0  5.376290  8.074240  0.0  0.0   0.0  17.0  19.0\n2007-01-14        10079.0  8.270265  8.694638  0.0  0.0   0.0  17.0  19.0\n...                   ...       ...       ...  ...  ...   ...   ...   ...\n2010-10-31        10080.0  5.346825  8.082946  0.0  1.0   1.0  11.0  31.0\n2010-11-07        10080.0  6.021925  8.276141  0.0  1.0   1.0  17.0  31.0\n2010-11-14        10080.0  7.740476  8.620190  0.0  0.0   1.0  17.0  29.0\n2010-11-21        10080.0  6.285317  8.423491  0.0  0.0   0.0  17.0  20.0\n2010-11-28         7023.0  6.412075  8.418418  0.0  0.0   0.0  17.0  19.0\n\n[207 rows x 8 columns]",
      "text/html": "<div>\n<style scoped>\n    .dataframe tbody tr th:only-of-type {\n        vertical-align: middle;\n    }\n\n    .dataframe tbody tr th {\n        vertical-align: top;\n    }\n\n    .dataframe thead tr th {\n        text-align: left;\n    }\n\n    .dataframe thead tr:last-of-type th {\n        text-align: right;\n    }\n</style>\n<table border=\"1\" class=\"dataframe\">\n  <thead>\n    <tr>\n      <th></th>\n      <th colspan=\"8\" halign=\"left\">Sub_metering_3</th>\n    </tr>\n    <tr>\n      <th></th>\n      <th>count</th>\n      <th>mean</th>\n      <th>std</th>\n      <th>min</th>\n      <th>25%</th>\n      <th>50%</th>\n      <th>75%</th>\n      <th>max</th>\n    </tr>\n    <tr>\n      <th>Datetime</th>\n      <th></th>\n      <th></th>\n      <th></th>\n      <th></th>\n      <th></th>\n      <th></th>\n      <th></th>\n      <th></th>\n    </tr>\n  </thead>\n  <tbody>\n    <tr>\n      <th>2006-12-17</th>\n      <td>1836.0</td>\n      <td>9.949346</td>\n      <td>8.501908</td>\n      <td>0.0</td>\n      <td>0.0</td>\n      <td>17.0</td>\n      <td>17.0</td>\n      <td>19.0</td>\n    </tr>\n    <tr>\n      <th>2006-12-24</th>\n      <td>10078.0</td>\n      <td>7.684759</td>\n      <td>8.709914</td>\n      <td>0.0</td>\n      <td>0.0</td>\n      <td>0.0</td>\n      <td>17.0</td>\n      <td>20.0</td>\n    </tr>\n    <tr>\n      <th>2006-12-31</th>\n      <td>10078.0</td>\n      <td>6.671661</td>\n      <td>8.534913</td>\n      <td>0.0</td>\n      <td>0.0</td>\n      <td>0.0</td>\n      <td>17.0</td>\n      <td>20.0</td>\n    </tr>\n    <tr>\n      <th>2007-01-07</th>\n      <td>10080.0</td>\n      <td>5.376290</td>\n      <td>8.074240</td>\n      <td>0.0</td>\n      <td>0.0</td>\n      <td>0.0</td>\n      <td>17.0</td>\n      <td>19.0</td>\n    </tr>\n    <tr>\n      <th>2007-01-14</th>\n      <td>10079.0</td>\n      <td>8.270265</td>\n      <td>8.694638</td>\n      <td>0.0</td>\n      <td>0.0</td>\n      <td>0.0</td>\n      <td>17.0</td>\n      <td>19.0</td>\n    </tr>\n    <tr>\n      <th>...</th>\n      <td>...</td>\n      <td>...</td>\n      <td>...</td>\n      <td>...</td>\n      <td>...</td>\n      <td>...</td>\n      <td>...</td>\n      <td>...</td>\n    </tr>\n    <tr>\n      <th>2010-10-31</th>\n      <td>10080.0</td>\n      <td>5.346825</td>\n      <td>8.082946</td>\n      <td>0.0</td>\n      <td>1.0</td>\n      <td>1.0</td>\n      <td>11.0</td>\n      <td>31.0</td>\n    </tr>\n    <tr>\n      <th>2010-11-07</th>\n      <td>10080.0</td>\n      <td>6.021925</td>\n      <td>8.276141</td>\n      <td>0.0</td>\n      <td>1.0</td>\n      <td>1.0</td>\n      <td>17.0</td>\n      <td>31.0</td>\n    </tr>\n    <tr>\n      <th>2010-11-14</th>\n      <td>10080.0</td>\n      <td>7.740476</td>\n      <td>8.620190</td>\n      <td>0.0</td>\n      <td>0.0</td>\n      <td>1.0</td>\n      <td>17.0</td>\n      <td>29.0</td>\n    </tr>\n    <tr>\n      <th>2010-11-21</th>\n      <td>10080.0</td>\n      <td>6.285317</td>\n      <td>8.423491</td>\n      <td>0.0</td>\n      <td>0.0</td>\n      <td>0.0</td>\n      <td>17.0</td>\n      <td>20.0</td>\n    </tr>\n    <tr>\n      <th>2010-11-28</th>\n      <td>7023.0</td>\n      <td>6.412075</td>\n      <td>8.418418</td>\n      <td>0.0</td>\n      <td>0.0</td>\n      <td>0.0</td>\n      <td>17.0</td>\n      <td>19.0</td>\n    </tr>\n  </tbody>\n</table>\n<p>207 rows × 8 columns</p>\n</div>"
     },
     "execution_count": 16,
     "metadata": {},
     "output_type": "execute_result"
    }
   ],
   "source": [
    "demand_episodes.describe()"
   ],
   "metadata": {
    "collapsed": false,
    "ExecuteTime": {
     "end_time": "2023-11-18T09:31:22.415573259Z",
     "start_time": "2023-11-18T09:31:21.711171217Z"
    }
   },
   "id": "9e41f5ae92cfceff"
  },
  {
   "cell_type": "code",
   "execution_count": 19,
   "outputs": [],
   "source": [
    "demand_episodes = pd.concat([group.fillna(0) for name, group in demand_episodes if len(group.dropna()) >= 10000 and group.index[0] >= datetime(2007, 1, 1) and group.index[-1] <= datetime(2008, 12, 31)]).groupby(pd.Grouper(freq='W'))"
   ],
   "metadata": {
    "collapsed": false,
    "ExecuteTime": {
     "end_time": "2023-11-18T09:32:05.283910120Z",
     "start_time": "2023-11-18T09:32:04.822197409Z"
    }
   },
   "id": "f4c3f14a3cad8694"
  },
  {
   "cell_type": "code",
   "execution_count": 20,
   "outputs": [
    {
     "data": {
      "text/plain": "           Sub_metering_3                                                \n                    count      mean       std  min  25%   50%   75%   max\nDatetime                                                                 \n2007-01-07        10080.0  5.376290  8.074240  0.0  0.0   0.0  17.0  19.0\n2007-01-14        10080.0  8.269444  8.694597  0.0  0.0   0.0  17.0  19.0\n2007-01-21        10080.0  8.086508  8.714090  0.0  0.0   0.0  17.0  19.0\n2007-01-28        10080.0  7.149008  8.681189  0.0  0.0   0.0  18.0  20.0\n2007-02-04        10080.0  9.448810  8.704572  0.0  0.0  17.0  18.0  19.0\n...                   ...       ...       ...  ...  ...   ...   ...   ...\n2008-11-30        10080.0  8.086508  8.820860  0.0  0.0   0.0  18.0  19.0\n2008-12-07        10080.0  7.327480  8.773557  0.0  0.0   0.0  18.0  20.0\n2008-12-14        10080.0  7.127976  8.775631  0.0  0.0   0.0  18.0  21.0\n2008-12-21        10080.0  8.186111  8.891151  0.0  0.0   0.0  18.0  20.0\n2008-12-28        10080.0  5.717659  8.364338  0.0  0.0   0.0  18.0  20.0\n\n[104 rows x 8 columns]",
      "text/html": "<div>\n<style scoped>\n    .dataframe tbody tr th:only-of-type {\n        vertical-align: middle;\n    }\n\n    .dataframe tbody tr th {\n        vertical-align: top;\n    }\n\n    .dataframe thead tr th {\n        text-align: left;\n    }\n\n    .dataframe thead tr:last-of-type th {\n        text-align: right;\n    }\n</style>\n<table border=\"1\" class=\"dataframe\">\n  <thead>\n    <tr>\n      <th></th>\n      <th colspan=\"8\" halign=\"left\">Sub_metering_3</th>\n    </tr>\n    <tr>\n      <th></th>\n      <th>count</th>\n      <th>mean</th>\n      <th>std</th>\n      <th>min</th>\n      <th>25%</th>\n      <th>50%</th>\n      <th>75%</th>\n      <th>max</th>\n    </tr>\n    <tr>\n      <th>Datetime</th>\n      <th></th>\n      <th></th>\n      <th></th>\n      <th></th>\n      <th></th>\n      <th></th>\n      <th></th>\n      <th></th>\n    </tr>\n  </thead>\n  <tbody>\n    <tr>\n      <th>2007-01-07</th>\n      <td>10080.0</td>\n      <td>5.376290</td>\n      <td>8.074240</td>\n      <td>0.0</td>\n      <td>0.0</td>\n      <td>0.0</td>\n      <td>17.0</td>\n      <td>19.0</td>\n    </tr>\n    <tr>\n      <th>2007-01-14</th>\n      <td>10080.0</td>\n      <td>8.269444</td>\n      <td>8.694597</td>\n      <td>0.0</td>\n      <td>0.0</td>\n      <td>0.0</td>\n      <td>17.0</td>\n      <td>19.0</td>\n    </tr>\n    <tr>\n      <th>2007-01-21</th>\n      <td>10080.0</td>\n      <td>8.086508</td>\n      <td>8.714090</td>\n      <td>0.0</td>\n      <td>0.0</td>\n      <td>0.0</td>\n      <td>17.0</td>\n      <td>19.0</td>\n    </tr>\n    <tr>\n      <th>2007-01-28</th>\n      <td>10080.0</td>\n      <td>7.149008</td>\n      <td>8.681189</td>\n      <td>0.0</td>\n      <td>0.0</td>\n      <td>0.0</td>\n      <td>18.0</td>\n      <td>20.0</td>\n    </tr>\n    <tr>\n      <th>2007-02-04</th>\n      <td>10080.0</td>\n      <td>9.448810</td>\n      <td>8.704572</td>\n      <td>0.0</td>\n      <td>0.0</td>\n      <td>17.0</td>\n      <td>18.0</td>\n      <td>19.0</td>\n    </tr>\n    <tr>\n      <th>...</th>\n      <td>...</td>\n      <td>...</td>\n      <td>...</td>\n      <td>...</td>\n      <td>...</td>\n      <td>...</td>\n      <td>...</td>\n      <td>...</td>\n    </tr>\n    <tr>\n      <th>2008-11-30</th>\n      <td>10080.0</td>\n      <td>8.086508</td>\n      <td>8.820860</td>\n      <td>0.0</td>\n      <td>0.0</td>\n      <td>0.0</td>\n      <td>18.0</td>\n      <td>19.0</td>\n    </tr>\n    <tr>\n      <th>2008-12-07</th>\n      <td>10080.0</td>\n      <td>7.327480</td>\n      <td>8.773557</td>\n      <td>0.0</td>\n      <td>0.0</td>\n      <td>0.0</td>\n      <td>18.0</td>\n      <td>20.0</td>\n    </tr>\n    <tr>\n      <th>2008-12-14</th>\n      <td>10080.0</td>\n      <td>7.127976</td>\n      <td>8.775631</td>\n      <td>0.0</td>\n      <td>0.0</td>\n      <td>0.0</td>\n      <td>18.0</td>\n      <td>21.0</td>\n    </tr>\n    <tr>\n      <th>2008-12-21</th>\n      <td>10080.0</td>\n      <td>8.186111</td>\n      <td>8.891151</td>\n      <td>0.0</td>\n      <td>0.0</td>\n      <td>0.0</td>\n      <td>18.0</td>\n      <td>20.0</td>\n    </tr>\n    <tr>\n      <th>2008-12-28</th>\n      <td>10080.0</td>\n      <td>5.717659</td>\n      <td>8.364338</td>\n      <td>0.0</td>\n      <td>0.0</td>\n      <td>0.0</td>\n      <td>18.0</td>\n      <td>20.0</td>\n    </tr>\n  </tbody>\n</table>\n<p>104 rows × 8 columns</p>\n</div>"
     },
     "execution_count": 20,
     "metadata": {},
     "output_type": "execute_result"
    }
   ],
   "source": [
    "demand_episodes.describe()"
   ],
   "metadata": {
    "collapsed": false,
    "ExecuteTime": {
     "end_time": "2023-11-18T09:32:07.566616311Z",
     "start_time": "2023-11-18T09:32:07.287754856Z"
    }
   },
   "id": "301b2ab3cf204ff9"
  },
  {
   "cell_type": "code",
   "execution_count": 23,
   "outputs": [],
   "source": [
    "with pd.HDFStore('./minutely/demand.h5') as store:\n",
    "    # Save each DataFrame with a key\n",
    "    i = 0\n",
    "    for name, group in demand_episodes:\n",
    "        if not group.empty:\n",
    "            store[f'eps_{i}'] = group\n",
    "            i += 1"
   ],
   "metadata": {
    "collapsed": false,
    "ExecuteTime": {
     "end_time": "2023-11-18T09:32:31.354870019Z",
     "start_time": "2023-11-18T09:32:30.514199831Z"
    }
   },
   "id": "ad0fd3ab671547b6"
  },
  {
   "cell_type": "code",
   "execution_count": null,
   "outputs": [],
   "source": [],
   "metadata": {
    "collapsed": false
   },
   "id": "e1026b9090ca2250"
  }
 ],
 "metadata": {
  "kernelspec": {
   "display_name": "Python 3",
   "language": "python",
   "name": "python3"
  },
  "language_info": {
   "codemirror_mode": {
    "name": "ipython",
    "version": 2
   },
   "file_extension": ".py",
   "mimetype": "text/x-python",
   "name": "python",
   "nbconvert_exporter": "python",
   "pygments_lexer": "ipython2",
   "version": "2.7.6"
  }
 },
 "nbformat": 4,
 "nbformat_minor": 5
}
