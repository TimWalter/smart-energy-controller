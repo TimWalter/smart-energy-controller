{
 "cells": [
  {
   "cell_type": "code",
   "execution_count": 1,
   "outputs": [],
   "source": [
    "import datetime\n",
    "%load_ext autoreload\n",
    "%autoreload 2"
   ],
   "metadata": {
    "collapsed": false,
    "ExecuteTime": {
     "end_time": "2024-01-25T15:45:34.558718800Z",
     "start_time": "2024-01-25T15:45:34.387042400Z"
    }
   },
   "id": "327c7d76fc5e1c15"
  },
  {
   "cell_type": "code",
   "execution_count": 2,
   "id": "initial_id",
   "metadata": {
    "collapsed": true,
    "ExecuteTime": {
     "end_time": "2024-01-25T15:45:35.602762200Z",
     "start_time": "2024-01-25T15:45:34.549571800Z"
    }
   },
   "outputs": [],
   "source": [
    "import pandas as pd\n",
    "import numpy as np\n",
    "from datetime import datetime"
   ]
  },
  {
   "cell_type": "code",
   "execution_count": 3,
   "outputs": [],
   "source": [
    "raw_data = pd.read_csv('./raw/household_power_consumption.txt', sep=';', low_memory=False)"
   ],
   "metadata": {
    "collapsed": false,
    "ExecuteTime": {
     "end_time": "2024-01-25T15:45:37.716612100Z",
     "start_time": "2024-01-25T15:45:35.604916700Z"
    }
   },
   "id": "37477484636d2b4"
  },
  {
   "cell_type": "code",
   "execution_count": 4,
   "outputs": [],
   "source": [
    "data = raw_data[['Date', 'Time', 'Sub_metering_1', 'Sub_metering_2', 'Sub_metering_3', 'Global_active_power']].copy()\n",
    "data['Datetime'] = pd.to_datetime(data['Date'] + ' ' + data['Time'], dayfirst=True)\n",
    "data.set_index('Datetime', inplace=True)\n",
    "\n",
    "data.replace(\"?\", np.nan, inplace=True)\n",
    "data = data.apply(pd.to_numeric, errors='coerce')\n",
    "data.drop(columns=['Date', 'Time'], inplace=True)\n",
    "\n",
    "data[\"normalization\"] = data[\"Global_active_power\"] / (\n",
    "        data[\"Sub_metering_1\"] + data[\"Sub_metering_2\"] + data[\"Sub_metering_3\"] + 10e-12)\n",
    "\n",
    "data[\"flexible_demand_response\"] = data[\"Sub_metering_2\"] * data[\"normalization\"]\n",
    "data[\"household_energy_demand\"] = (data[\"Sub_metering_1\"] + data[\"Sub_metering_3\"]) * data[\"normalization\"]"
   ],
   "metadata": {
    "collapsed": false,
    "ExecuteTime": {
     "end_time": "2024-01-25T15:45:49.444926800Z",
     "start_time": "2024-01-25T15:45:37.719822500Z"
    }
   },
   "id": "f0ec003f4b802d5b"
  },
  {
   "cell_type": "code",
   "execution_count": 5,
   "outputs": [],
   "source": [
    "hed_minutely = data.loc[:, [\"household_energy_demand\"]]\n",
    "hed_minutely.rename(columns={\"household_energy_demand\": \"energy\"}, inplace=True)\n",
    "\n",
    "fdr_minutely = data.loc[:, [\"flexible_demand_response\"]]\n",
    "fdr_minutely.rename(columns={\"flexible_demand_response\": \"energy\"}, inplace=True)\n",
    "\n",
    "hed_hourly = hed_minutely.resample('H').mean()\n",
    "fdr_hourly = fdr_minutely.resample('H').mean()"
   ],
   "metadata": {
    "collapsed": false,
    "ExecuteTime": {
     "end_time": "2024-01-25T15:45:49.822746800Z",
     "start_time": "2024-01-25T15:45:49.448094100Z"
    }
   },
   "id": "503329f17403e103"
  },
  {
   "cell_type": "code",
   "execution_count": 6,
   "outputs": [
    {
     "name": "stdout",
     "output_type": "stream",
     "text": [
      "household_energy_demand minutely Max:  10.161999999998569\n",
      "household_energy_demand minutely Min:  0.0\n",
      "household_energy_demand minutely episodes:  104\n",
      "                     energy\n",
      "Datetime                   \n",
      "2008-03-03 00:00:00     0.0\n",
      "2008-03-03 00:01:00     0.0\n",
      "2008-03-03 00:02:00     0.0\n",
      "2008-03-03 00:03:00     0.0\n",
      "2008-03-03 00:04:00     0.0\n",
      "...                     ...\n",
      "2008-03-09 23:55:00     0.0\n",
      "2008-03-09 23:56:00     0.0\n",
      "2008-03-09 23:57:00     0.0\n",
      "2008-03-09 23:58:00     0.0\n",
      "2008-03-09 23:59:00     0.0\n",
      "\n",
      "[10080 rows x 1 columns]\n",
      "household_energy_demand minutely episodes:  101\n",
      "flexible_demand_response minutely Max:  8.583999999998824\n",
      "flexible_demand_response minutely Min:  0.0\n",
      "flexible_demand_response minutely episodes:  104\n",
      "                     energy\n",
      "Datetime                   \n",
      "2008-03-03 00:00:00   0.000\n",
      "2008-03-03 00:01:00   0.000\n",
      "2008-03-03 00:02:00   0.000\n",
      "2008-03-03 00:03:00   0.000\n",
      "2008-03-03 00:04:00   0.000\n",
      "...                     ...\n",
      "2008-03-09 23:55:00   0.362\n",
      "2008-03-09 23:56:00   0.362\n",
      "2008-03-09 23:57:00   0.362\n",
      "2008-03-09 23:58:00   0.362\n",
      "2008-03-09 23:59:00   0.360\n",
      "\n",
      "[10080 rows x 1 columns]\n",
      "flexible_demand_response minutely episodes:  101\n",
      "household_energy_demand hourly Max:  6.013799999998576\n",
      "household_energy_demand hourly Min:  0.0\n",
      "household_energy_demand hourly episodes:  104\n",
      "                       energy\n",
      "Datetime                     \n",
      "2008-02-25 00:00:00  0.000000\n",
      "2008-02-25 01:00:00  0.000000\n",
      "2008-02-25 02:00:00  0.000000\n",
      "2008-02-25 03:00:00  0.000000\n",
      "2008-02-25 04:00:00  0.000000\n",
      "...                       ...\n",
      "2008-03-02 19:00:00  0.855632\n",
      "2008-03-02 20:00:00  0.000000\n",
      "2008-03-02 21:00:00  0.000000\n",
      "2008-03-02 22:00:00  0.000000\n",
      "2008-03-02 23:00:00  0.000000\n",
      "\n",
      "[168 rows x 1 columns]\n",
      "household_energy_demand hourly episodes:  102\n",
      "flexible_demand_response hourly Max:  4.604029919211868\n",
      "flexible_demand_response hourly Min:  0.0\n",
      "flexible_demand_response hourly episodes:  104\n",
      "                       energy\n",
      "Datetime                     \n",
      "2008-02-25 00:00:00  0.000000\n",
      "2008-02-25 01:00:00  0.000000\n",
      "2008-02-25 02:00:00  0.176967\n",
      "2008-02-25 03:00:00  0.000000\n",
      "2008-02-25 04:00:00  0.000000\n",
      "...                       ...\n",
      "2008-03-02 19:00:00  0.070101\n",
      "2008-03-02 20:00:00  0.726300\n",
      "2008-03-02 21:00:00  0.000000\n",
      "2008-03-02 22:00:00  0.079100\n",
      "2008-03-02 23:00:00  0.385833\n",
      "\n",
      "[168 rows x 1 columns]\n",
      "flexible_demand_response hourly episodes:  102\n"
     ]
    }
   ],
   "source": [
    "for data, resolution, name in zip([hed_minutely, fdr_minutely, hed_hourly, fdr_hourly],\n",
    "                                [\"minutely\", \"minutely\", \"hourly\", \"hourly\"],\n",
    "                            [\"household_energy_demand\", \"flexible_demand_response\", \"household_energy_demand\",\n",
    "                             \"flexible_demand_response\"]):\n",
    "    print(f\"{name} {resolution} Max: \", np.max(data['energy']))\n",
    "    print(f\"{name} {resolution} Min: \", np.min(data['energy']))\n",
    "\n",
    "    episode = data.groupby(pd.Grouper(freq='W'))\n",
    "\n",
    "    required_length = 10000 if resolution == \"minutely\" else 165\n",
    "\n",
    "    episode = pd.concat([group.fillna(0) for name, group in episode if\n",
    "                             len(group.dropna()) >= required_length and group.index[0] >= datetime(2007, 1, 1) and\n",
    "                             group.index[-1] <= datetime(2008, 12, 31)]).groupby(pd.Grouper(freq='W'))\n",
    "    \n",
    "    print(f\"{name} {resolution} episodes: \", len(episode))\n",
    "    with pd.HDFStore(f'./{resolution}/{name}.h5') as store:\n",
    "        # Save each DataFrame with a key\n",
    "        i = 0\n",
    "        for index, group in episode:\n",
    "            if not group.empty:\n",
    "                store[f'eps_{i}'] = group\n",
    "                i += 1\n",
    "    print(f\"{name} {resolution} episodes: \", i)"
   ],
   "metadata": {
    "collapsed": false,
    "ExecuteTime": {
     "end_time": "2024-01-25T15:45:55.010877800Z",
     "start_time": "2024-01-25T15:45:49.827254900Z"
    }
   },
   "id": "4f754da71401d12f"
  },
  {
   "cell_type": "code",
   "outputs": [],
   "source": [],
   "metadata": {
    "collapsed": false,
    "ExecuteTime": {
     "end_time": "2024-01-25T15:45:55.019596700Z",
     "start_time": "2024-01-25T15:45:55.006976700Z"
    }
   },
   "id": "4560cad08298b8df",
   "execution_count": 6
  }
 ],
 "metadata": {
  "kernelspec": {
   "display_name": "Python 3",
   "language": "python",
   "name": "python3"
  },
  "language_info": {
   "codemirror_mode": {
    "name": "ipython",
    "version": 2
   },
   "file_extension": ".py",
   "mimetype": "text/x-python",
   "name": "python",
   "nbconvert_exporter": "python",
   "pygments_lexer": "ipython2",
   "version": "2.7.6"
  }
 },
 "nbformat": 4,
 "nbformat_minor": 5
}
