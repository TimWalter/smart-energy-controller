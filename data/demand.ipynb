{
 "cells": [
  {
   "cell_type": "code",
   "execution_count": 1,
   "outputs": [],
   "source": [
    "import datetime\n",
    "%load_ext autoreload\n",
    "%autoreload 2"
   ],
   "metadata": {
    "collapsed": false,
    "ExecuteTime": {
     "end_time": "2023-12-20T13:41:09.352689800Z",
     "start_time": "2023-12-20T13:41:09.198251700Z"
    }
   },
   "id": "327c7d76fc5e1c15"
  },
  {
   "cell_type": "code",
   "execution_count": 2,
   "id": "initial_id",
   "metadata": {
    "collapsed": true,
    "ExecuteTime": {
     "end_time": "2023-12-20T13:41:10.289898300Z",
     "start_time": "2023-12-20T13:41:09.353739500Z"
    }
   },
   "outputs": [],
   "source": [
    "import pandas as pd\n",
    "import numpy as np\n",
    "from datetime import datetime"
   ]
  },
  {
   "cell_type": "code",
   "execution_count": 3,
   "outputs": [],
   "source": [
    "full_demand = pd.read_csv('./raw/household_power_consumption.txt', sep=';', low_memory=False)"
   ],
   "metadata": {
    "collapsed": false,
    "ExecuteTime": {
     "end_time": "2023-12-20T13:41:12.396597300Z",
     "start_time": "2023-12-20T13:41:10.292053Z"
    }
   },
   "id": "37477484636d2b4"
  },
  {
   "cell_type": "code",
   "execution_count": 4,
   "outputs": [
    {
     "data": {
      "text/plain": "               Date      Time Global_active_power Global_reactive_power  \\\n0        16/12/2006  17:24:00               4.216                 0.418   \n1        16/12/2006  17:25:00               5.360                 0.436   \n2        16/12/2006  17:26:00               5.374                 0.498   \n3        16/12/2006  17:27:00               5.388                 0.502   \n4        16/12/2006  17:28:00               3.666                 0.528   \n...             ...       ...                 ...                   ...   \n2075254  26/11/2010  20:58:00               0.946                 0.000   \n2075255  26/11/2010  20:59:00               0.944                 0.000   \n2075256  26/11/2010  21:00:00               0.938                 0.000   \n2075257  26/11/2010  21:01:00               0.934                 0.000   \n2075258  26/11/2010  21:02:00               0.932                 0.000   \n\n         Voltage Global_intensity Sub_metering_1 Sub_metering_2  \\\n0        234.840           18.400          0.000          1.000   \n1        233.630           23.000          0.000          1.000   \n2        233.290           23.000          0.000          2.000   \n3        233.740           23.000          0.000          1.000   \n4        235.680           15.800          0.000          1.000   \n...          ...              ...            ...            ...   \n2075254  240.430            4.000          0.000          0.000   \n2075255  240.000            4.000          0.000          0.000   \n2075256  239.820            3.800          0.000          0.000   \n2075257  239.700            3.800          0.000          0.000   \n2075258  239.550            3.800          0.000          0.000   \n\n         Sub_metering_3  \n0                  17.0  \n1                  16.0  \n2                  17.0  \n3                  17.0  \n4                  17.0  \n...                 ...  \n2075254             0.0  \n2075255             0.0  \n2075256             0.0  \n2075257             0.0  \n2075258             0.0  \n\n[2075259 rows x 9 columns]",
      "text/html": "<div>\n<style scoped>\n    .dataframe tbody tr th:only-of-type {\n        vertical-align: middle;\n    }\n\n    .dataframe tbody tr th {\n        vertical-align: top;\n    }\n\n    .dataframe thead th {\n        text-align: right;\n    }\n</style>\n<table border=\"1\" class=\"dataframe\">\n  <thead>\n    <tr style=\"text-align: right;\">\n      <th></th>\n      <th>Date</th>\n      <th>Time</th>\n      <th>Global_active_power</th>\n      <th>Global_reactive_power</th>\n      <th>Voltage</th>\n      <th>Global_intensity</th>\n      <th>Sub_metering_1</th>\n      <th>Sub_metering_2</th>\n      <th>Sub_metering_3</th>\n    </tr>\n  </thead>\n  <tbody>\n    <tr>\n      <th>0</th>\n      <td>16/12/2006</td>\n      <td>17:24:00</td>\n      <td>4.216</td>\n      <td>0.418</td>\n      <td>234.840</td>\n      <td>18.400</td>\n      <td>0.000</td>\n      <td>1.000</td>\n      <td>17.0</td>\n    </tr>\n    <tr>\n      <th>1</th>\n      <td>16/12/2006</td>\n      <td>17:25:00</td>\n      <td>5.360</td>\n      <td>0.436</td>\n      <td>233.630</td>\n      <td>23.000</td>\n      <td>0.000</td>\n      <td>1.000</td>\n      <td>16.0</td>\n    </tr>\n    <tr>\n      <th>2</th>\n      <td>16/12/2006</td>\n      <td>17:26:00</td>\n      <td>5.374</td>\n      <td>0.498</td>\n      <td>233.290</td>\n      <td>23.000</td>\n      <td>0.000</td>\n      <td>2.000</td>\n      <td>17.0</td>\n    </tr>\n    <tr>\n      <th>3</th>\n      <td>16/12/2006</td>\n      <td>17:27:00</td>\n      <td>5.388</td>\n      <td>0.502</td>\n      <td>233.740</td>\n      <td>23.000</td>\n      <td>0.000</td>\n      <td>1.000</td>\n      <td>17.0</td>\n    </tr>\n    <tr>\n      <th>4</th>\n      <td>16/12/2006</td>\n      <td>17:28:00</td>\n      <td>3.666</td>\n      <td>0.528</td>\n      <td>235.680</td>\n      <td>15.800</td>\n      <td>0.000</td>\n      <td>1.000</td>\n      <td>17.0</td>\n    </tr>\n    <tr>\n      <th>...</th>\n      <td>...</td>\n      <td>...</td>\n      <td>...</td>\n      <td>...</td>\n      <td>...</td>\n      <td>...</td>\n      <td>...</td>\n      <td>...</td>\n      <td>...</td>\n    </tr>\n    <tr>\n      <th>2075254</th>\n      <td>26/11/2010</td>\n      <td>20:58:00</td>\n      <td>0.946</td>\n      <td>0.000</td>\n      <td>240.430</td>\n      <td>4.000</td>\n      <td>0.000</td>\n      <td>0.000</td>\n      <td>0.0</td>\n    </tr>\n    <tr>\n      <th>2075255</th>\n      <td>26/11/2010</td>\n      <td>20:59:00</td>\n      <td>0.944</td>\n      <td>0.000</td>\n      <td>240.000</td>\n      <td>4.000</td>\n      <td>0.000</td>\n      <td>0.000</td>\n      <td>0.0</td>\n    </tr>\n    <tr>\n      <th>2075256</th>\n      <td>26/11/2010</td>\n      <td>21:00:00</td>\n      <td>0.938</td>\n      <td>0.000</td>\n      <td>239.820</td>\n      <td>3.800</td>\n      <td>0.000</td>\n      <td>0.000</td>\n      <td>0.0</td>\n    </tr>\n    <tr>\n      <th>2075257</th>\n      <td>26/11/2010</td>\n      <td>21:01:00</td>\n      <td>0.934</td>\n      <td>0.000</td>\n      <td>239.700</td>\n      <td>3.800</td>\n      <td>0.000</td>\n      <td>0.000</td>\n      <td>0.0</td>\n    </tr>\n    <tr>\n      <th>2075258</th>\n      <td>26/11/2010</td>\n      <td>21:02:00</td>\n      <td>0.932</td>\n      <td>0.000</td>\n      <td>239.550</td>\n      <td>3.800</td>\n      <td>0.000</td>\n      <td>0.000</td>\n      <td>0.0</td>\n    </tr>\n  </tbody>\n</table>\n<p>2075259 rows × 9 columns</p>\n</div>"
     },
     "execution_count": 4,
     "metadata": {},
     "output_type": "execute_result"
    }
   ],
   "source": [
    "full_demand"
   ],
   "metadata": {
    "collapsed": false,
    "ExecuteTime": {
     "end_time": "2023-12-20T13:41:12.634735500Z",
     "start_time": "2023-12-20T13:41:12.396597300Z"
    }
   },
   "id": "f0ec003f4b802d5b"
  },
  {
   "cell_type": "code",
   "execution_count": 5,
   "outputs": [],
   "source": [
    "demand = full_demand[['Date', 'Time', 'Sub_metering_1', 'Sub_metering_2', 'Sub_metering_3', 'Global_active_power']].copy()\n",
    "demand.loc[:,'Datetime'] = pd.to_datetime(demand.loc[:, 'Date'] + ' ' + demand.loc[:,'Time'], dayfirst=True)\n",
    "demand.set_index('Datetime', inplace=True)\n",
    "\n",
    "demand.replace(\"?\", np.nan, inplace=True)\n",
    "\n",
    "# Convert the columns to numeric\n",
    "demand = demand.apply(pd.to_numeric, errors='coerce')\n",
    "\n",
    "demand = demand.loc[:, ['Sub_metering_1', 'Sub_metering_2', 'Sub_metering_3', 'Global_active_power']]"
   ],
   "metadata": {
    "collapsed": false,
    "ExecuteTime": {
     "end_time": "2023-12-20T13:41:24.394891800Z",
     "start_time": "2023-12-20T13:41:12.632577600Z"
    }
   },
   "id": "503329f17403e103"
  },
  {
   "cell_type": "code",
   "execution_count": 10,
   "outputs": [],
   "source": [
    "demand[\"normalization\"] = demand[\"Global_active_power\"] / (demand[\"Sub_metering_1\"] + demand[\"Sub_metering_2\"] + demand[\"Sub_metering_3\"]+10e-12)\n",
    "\n",
    "demand[\"flexible_demand_response\"] = demand[\"Sub_metering_2\"] * demand[\"normalization\"]\n",
    "demand[\"household_energy_demand\"] = (demand[\"Sub_metering_1\"] + demand[\"Sub_metering_3\"]) * demand[\"normalization\"]"
   ],
   "metadata": {
    "collapsed": false,
    "ExecuteTime": {
     "end_time": "2023-12-20T13:41:51.535241600Z",
     "start_time": "2023-12-20T13:41:51.269987600Z"
    }
   },
   "id": "4f754da71401d12f"
  },
  {
   "cell_type": "code",
   "execution_count": 11,
   "outputs": [],
   "source": [
    "household_energy_demand = demand.loc[:, [\"household_energy_demand\"]]\n",
    "household_energy_demand.rename(columns={\"household_energy_demand\": \"energy\"}, inplace=True)\n",
    "\n",
    "flexible_demand_response = demand.loc[:, [\"flexible_demand_response\"]]\n",
    "flexible_demand_response.rename(columns={\"flexible_demand_response\": \"energy\"}, inplace=True)"
   ],
   "metadata": {
    "collapsed": false,
    "ExecuteTime": {
     "end_time": "2023-12-20T13:41:51.909117200Z",
     "start_time": "2023-12-20T13:41:51.655853100Z"
    }
   },
   "id": "f1c52fdb32a25069"
  },
  {
   "cell_type": "code",
   "execution_count": 13,
   "outputs": [
    {
     "name": "stdout",
     "output_type": "stream",
     "text": [
      "Max flexible_demand_response:  8.583999999998824\n",
      "Min flexible_demand_response:  0.0\n",
      "Max household_energy_demand:  10.161999999998569\n",
      "Min household_energy_demand:  0.0\n"
     ]
    }
   ],
   "source": [
    "print(\"Max flexible_demand_response: \", np.max(flexible_demand_response[\"energy\"]))\n",
    "print(\"Min flexible_demand_response: \", np.min(flexible_demand_response[\"energy\"]))\n",
    "print(\"Max household_energy_demand: \", np.max(household_energy_demand[\"energy\"]))\n",
    "print(\"Min household_energy_demand: \", np.min(household_energy_demand[\"energy\"]))"
   ],
   "metadata": {
    "collapsed": false,
    "ExecuteTime": {
     "end_time": "2023-12-20T13:42:05.674931300Z",
     "start_time": "2023-12-20T13:42:05.405832700Z"
    }
   },
   "id": "68e9d7fbd2f5aaf4"
  },
  {
   "cell_type": "code",
   "execution_count": 14,
   "outputs": [],
   "source": [
    "flexible_demand_response_episodes = flexible_demand_response.groupby(pd.Grouper(freq='W'))\n",
    "household_energy_demand_episodes = household_energy_demand.groupby(pd.Grouper(freq='W'))"
   ],
   "metadata": {
    "collapsed": false,
    "ExecuteTime": {
     "end_time": "2023-12-20T13:42:14.180046700Z",
     "start_time": "2023-12-20T13:42:13.752321600Z"
    }
   },
   "id": "7f5caad2003597cb"
  },
  {
   "cell_type": "code",
   "execution_count": 15,
   "outputs": [
    {
     "data": {
      "text/plain": "             energy                                                       \n              count      mean       std  min  25%  50%       75%       max\nDatetime                                                                  \n2006-12-17   1836.0  0.469295  1.019370  0.0  0.0  0.0  0.247471  7.064000\n2006-12-24  10078.0  0.266169  0.731060  0.0  0.0  0.0  0.112450  6.824000\n2006-12-31  10078.0  0.363128  0.926618  0.0  0.0  0.0  0.094079  6.892000\n2007-01-07  10080.0  0.281474  0.759999  0.0  0.0  0.0  0.065647  5.773950\n2007-01-14  10079.0  0.245486  0.696839  0.0  0.0  0.0  0.135200  7.075517\n...             ...       ...       ...  ...  ...  ...       ...       ...\n2010-10-31  10080.0  0.157092  0.391254  0.0  0.0  0.0  0.182024  4.080792\n2010-11-07  10080.0  0.229016  0.565837  0.0  0.0  0.0  0.220000  5.032000\n2010-11-14  10080.0  0.164271  0.442792  0.0  0.0  0.0  0.138098  4.609287\n2010-11-21  10080.0  0.166476  0.470079  0.0  0.0  0.0  0.094028  5.794571\n2010-11-28   7023.0  0.168507  0.443197  0.0  0.0  0.0  0.084865  4.004464\n\n[207 rows x 8 columns]",
      "text/html": "<div>\n<style scoped>\n    .dataframe tbody tr th:only-of-type {\n        vertical-align: middle;\n    }\n\n    .dataframe tbody tr th {\n        vertical-align: top;\n    }\n\n    .dataframe thead tr th {\n        text-align: left;\n    }\n\n    .dataframe thead tr:last-of-type th {\n        text-align: right;\n    }\n</style>\n<table border=\"1\" class=\"dataframe\">\n  <thead>\n    <tr>\n      <th></th>\n      <th colspan=\"8\" halign=\"left\">energy</th>\n    </tr>\n    <tr>\n      <th></th>\n      <th>count</th>\n      <th>mean</th>\n      <th>std</th>\n      <th>min</th>\n      <th>25%</th>\n      <th>50%</th>\n      <th>75%</th>\n      <th>max</th>\n    </tr>\n    <tr>\n      <th>Datetime</th>\n      <th></th>\n      <th></th>\n      <th></th>\n      <th></th>\n      <th></th>\n      <th></th>\n      <th></th>\n      <th></th>\n    </tr>\n  </thead>\n  <tbody>\n    <tr>\n      <th>2006-12-17</th>\n      <td>1836.0</td>\n      <td>0.469295</td>\n      <td>1.019370</td>\n      <td>0.0</td>\n      <td>0.0</td>\n      <td>0.0</td>\n      <td>0.247471</td>\n      <td>7.064000</td>\n    </tr>\n    <tr>\n      <th>2006-12-24</th>\n      <td>10078.0</td>\n      <td>0.266169</td>\n      <td>0.731060</td>\n      <td>0.0</td>\n      <td>0.0</td>\n      <td>0.0</td>\n      <td>0.112450</td>\n      <td>6.824000</td>\n    </tr>\n    <tr>\n      <th>2006-12-31</th>\n      <td>10078.0</td>\n      <td>0.363128</td>\n      <td>0.926618</td>\n      <td>0.0</td>\n      <td>0.0</td>\n      <td>0.0</td>\n      <td>0.094079</td>\n      <td>6.892000</td>\n    </tr>\n    <tr>\n      <th>2007-01-07</th>\n      <td>10080.0</td>\n      <td>0.281474</td>\n      <td>0.759999</td>\n      <td>0.0</td>\n      <td>0.0</td>\n      <td>0.0</td>\n      <td>0.065647</td>\n      <td>5.773950</td>\n    </tr>\n    <tr>\n      <th>2007-01-14</th>\n      <td>10079.0</td>\n      <td>0.245486</td>\n      <td>0.696839</td>\n      <td>0.0</td>\n      <td>0.0</td>\n      <td>0.0</td>\n      <td>0.135200</td>\n      <td>7.075517</td>\n    </tr>\n    <tr>\n      <th>...</th>\n      <td>...</td>\n      <td>...</td>\n      <td>...</td>\n      <td>...</td>\n      <td>...</td>\n      <td>...</td>\n      <td>...</td>\n      <td>...</td>\n    </tr>\n    <tr>\n      <th>2010-10-31</th>\n      <td>10080.0</td>\n      <td>0.157092</td>\n      <td>0.391254</td>\n      <td>0.0</td>\n      <td>0.0</td>\n      <td>0.0</td>\n      <td>0.182024</td>\n      <td>4.080792</td>\n    </tr>\n    <tr>\n      <th>2010-11-07</th>\n      <td>10080.0</td>\n      <td>0.229016</td>\n      <td>0.565837</td>\n      <td>0.0</td>\n      <td>0.0</td>\n      <td>0.0</td>\n      <td>0.220000</td>\n      <td>5.032000</td>\n    </tr>\n    <tr>\n      <th>2010-11-14</th>\n      <td>10080.0</td>\n      <td>0.164271</td>\n      <td>0.442792</td>\n      <td>0.0</td>\n      <td>0.0</td>\n      <td>0.0</td>\n      <td>0.138098</td>\n      <td>4.609287</td>\n    </tr>\n    <tr>\n      <th>2010-11-21</th>\n      <td>10080.0</td>\n      <td>0.166476</td>\n      <td>0.470079</td>\n      <td>0.0</td>\n      <td>0.0</td>\n      <td>0.0</td>\n      <td>0.094028</td>\n      <td>5.794571</td>\n    </tr>\n    <tr>\n      <th>2010-11-28</th>\n      <td>7023.0</td>\n      <td>0.168507</td>\n      <td>0.443197</td>\n      <td>0.0</td>\n      <td>0.0</td>\n      <td>0.0</td>\n      <td>0.084865</td>\n      <td>4.004464</td>\n    </tr>\n  </tbody>\n</table>\n<p>207 rows × 8 columns</p>\n</div>"
     },
     "execution_count": 15,
     "metadata": {},
     "output_type": "execute_result"
    }
   ],
   "source": [
    "flexible_demand_response_episodes.describe()"
   ],
   "metadata": {
    "collapsed": false,
    "ExecuteTime": {
     "end_time": "2023-12-20T13:42:16.207145500Z",
     "start_time": "2023-12-20T13:42:14.872111900Z"
    }
   },
   "id": "9e41f5ae92cfceff"
  },
  {
   "cell_type": "code",
   "execution_count": 16,
   "outputs": [],
   "source": [
    "flexible_demand_response_episodes = pd.concat([group.fillna(0) for name, group in flexible_demand_response_episodes if len(group.dropna()) >= 10000 and group.index[0] >= datetime(2007, 1, 1) and group.index[-1] <= datetime(2008, 12, 31)]).groupby(pd.Grouper(freq='W'))\n",
    "household_energy_demand_episodes = pd.concat([group.fillna(0) for name, group in household_energy_demand_episodes if len(group.dropna()) >= 10000 and group.index[0] >= datetime(2007, 1, 1) and group.index[-1] <= datetime(2008, 12, 31)]).groupby(pd.Grouper(freq='W'))"
   ],
   "metadata": {
    "collapsed": false,
    "ExecuteTime": {
     "end_time": "2023-12-20T13:42:18.386370500Z",
     "start_time": "2023-12-20T13:42:17.501258100Z"
    }
   },
   "id": "f4c3f14a3cad8694"
  },
  {
   "cell_type": "code",
   "execution_count": 17,
   "outputs": [
    {
     "data": {
      "text/plain": "             energy                                                       \n              count      mean       std  min  25%  50%       75%       max\nDatetime                                                                  \n2007-01-07  10080.0  0.281474  0.759999  0.0  0.0  0.0  0.065647  5.773950\n2007-01-14  10080.0  0.245462  0.696809  0.0  0.0  0.0  0.135200  7.075517\n2007-01-21  10080.0  0.249171  0.727400  0.0  0.0  0.0  0.077871  6.494098\n2007-01-28  10080.0  0.228327  0.694452  0.0  0.0  0.0  0.000000  6.264186\n2007-02-04  10080.0  0.210732  0.654384  0.0  0.0  0.0  0.073480  5.327448\n...             ...       ...       ...  ...  ...  ...       ...       ...\n2008-11-30  10080.0  0.141673  0.487970  0.0  0.0  0.0  0.000000  6.519091\n2008-12-07  10080.0  0.131650  0.455512  0.0  0.0  0.0  0.000000  5.967165\n2008-12-14  10080.0  0.161103  0.599055  0.0  0.0  0.0  0.000000  7.136000\n2008-12-21  10080.0  0.182620  0.649132  0.0  0.0  0.0  0.000000  5.879348\n2008-12-28  10080.0  0.102428  0.367824  0.0  0.0  0.0  0.000000  4.428000\n\n[104 rows x 8 columns]",
      "text/html": "<div>\n<style scoped>\n    .dataframe tbody tr th:only-of-type {\n        vertical-align: middle;\n    }\n\n    .dataframe tbody tr th {\n        vertical-align: top;\n    }\n\n    .dataframe thead tr th {\n        text-align: left;\n    }\n\n    .dataframe thead tr:last-of-type th {\n        text-align: right;\n    }\n</style>\n<table border=\"1\" class=\"dataframe\">\n  <thead>\n    <tr>\n      <th></th>\n      <th colspan=\"8\" halign=\"left\">energy</th>\n    </tr>\n    <tr>\n      <th></th>\n      <th>count</th>\n      <th>mean</th>\n      <th>std</th>\n      <th>min</th>\n      <th>25%</th>\n      <th>50%</th>\n      <th>75%</th>\n      <th>max</th>\n    </tr>\n    <tr>\n      <th>Datetime</th>\n      <th></th>\n      <th></th>\n      <th></th>\n      <th></th>\n      <th></th>\n      <th></th>\n      <th></th>\n      <th></th>\n    </tr>\n  </thead>\n  <tbody>\n    <tr>\n      <th>2007-01-07</th>\n      <td>10080.0</td>\n      <td>0.281474</td>\n      <td>0.759999</td>\n      <td>0.0</td>\n      <td>0.0</td>\n      <td>0.0</td>\n      <td>0.065647</td>\n      <td>5.773950</td>\n    </tr>\n    <tr>\n      <th>2007-01-14</th>\n      <td>10080.0</td>\n      <td>0.245462</td>\n      <td>0.696809</td>\n      <td>0.0</td>\n      <td>0.0</td>\n      <td>0.0</td>\n      <td>0.135200</td>\n      <td>7.075517</td>\n    </tr>\n    <tr>\n      <th>2007-01-21</th>\n      <td>10080.0</td>\n      <td>0.249171</td>\n      <td>0.727400</td>\n      <td>0.0</td>\n      <td>0.0</td>\n      <td>0.0</td>\n      <td>0.077871</td>\n      <td>6.494098</td>\n    </tr>\n    <tr>\n      <th>2007-01-28</th>\n      <td>10080.0</td>\n      <td>0.228327</td>\n      <td>0.694452</td>\n      <td>0.0</td>\n      <td>0.0</td>\n      <td>0.0</td>\n      <td>0.000000</td>\n      <td>6.264186</td>\n    </tr>\n    <tr>\n      <th>2007-02-04</th>\n      <td>10080.0</td>\n      <td>0.210732</td>\n      <td>0.654384</td>\n      <td>0.0</td>\n      <td>0.0</td>\n      <td>0.0</td>\n      <td>0.073480</td>\n      <td>5.327448</td>\n    </tr>\n    <tr>\n      <th>...</th>\n      <td>...</td>\n      <td>...</td>\n      <td>...</td>\n      <td>...</td>\n      <td>...</td>\n      <td>...</td>\n      <td>...</td>\n      <td>...</td>\n    </tr>\n    <tr>\n      <th>2008-11-30</th>\n      <td>10080.0</td>\n      <td>0.141673</td>\n      <td>0.487970</td>\n      <td>0.0</td>\n      <td>0.0</td>\n      <td>0.0</td>\n      <td>0.000000</td>\n      <td>6.519091</td>\n    </tr>\n    <tr>\n      <th>2008-12-07</th>\n      <td>10080.0</td>\n      <td>0.131650</td>\n      <td>0.455512</td>\n      <td>0.0</td>\n      <td>0.0</td>\n      <td>0.0</td>\n      <td>0.000000</td>\n      <td>5.967165</td>\n    </tr>\n    <tr>\n      <th>2008-12-14</th>\n      <td>10080.0</td>\n      <td>0.161103</td>\n      <td>0.599055</td>\n      <td>0.0</td>\n      <td>0.0</td>\n      <td>0.0</td>\n      <td>0.000000</td>\n      <td>7.136000</td>\n    </tr>\n    <tr>\n      <th>2008-12-21</th>\n      <td>10080.0</td>\n      <td>0.182620</td>\n      <td>0.649132</td>\n      <td>0.0</td>\n      <td>0.0</td>\n      <td>0.0</td>\n      <td>0.000000</td>\n      <td>5.879348</td>\n    </tr>\n    <tr>\n      <th>2008-12-28</th>\n      <td>10080.0</td>\n      <td>0.102428</td>\n      <td>0.367824</td>\n      <td>0.0</td>\n      <td>0.0</td>\n      <td>0.0</td>\n      <td>0.000000</td>\n      <td>4.428000</td>\n    </tr>\n  </tbody>\n</table>\n<p>104 rows × 8 columns</p>\n</div>"
     },
     "execution_count": 17,
     "metadata": {},
     "output_type": "execute_result"
    }
   ],
   "source": [
    "flexible_demand_response_episodes.describe()"
   ],
   "metadata": {
    "collapsed": false,
    "ExecuteTime": {
     "end_time": "2023-12-20T13:42:19.893029500Z",
     "start_time": "2023-12-20T13:42:19.043589100Z"
    }
   },
   "id": "301b2ab3cf204ff9"
  },
  {
   "cell_type": "code",
   "execution_count": 18,
   "outputs": [],
   "source": [
    "with pd.HDFStore('./minutely/flexible_demand_response.h5') as store:\n",
    "    # Save each DataFrame with a key\n",
    "    i = 0\n",
    "    for name, group in flexible_demand_response_episodes:\n",
    "        if not group.empty:\n",
    "            store[f'eps_{i}'] = group\n",
    "            i += 1\n",
    "\n",
    "with pd.HDFStore('./minutely/household_energy_demand.h5') as store:\n",
    "    # Save each DataFrame with a key\n",
    "    i = 0\n",
    "    for name, group in household_energy_demand_episodes:\n",
    "        if not group.empty:\n",
    "            store[f'eps_{i}'] = group\n",
    "            i += 1"
   ],
   "metadata": {
    "collapsed": false,
    "ExecuteTime": {
     "end_time": "2023-12-20T13:42:25.615570500Z",
     "start_time": "2023-12-20T13:42:22.271498800Z"
    }
   },
   "id": "ad0fd3ab671547b6"
  },
  {
   "cell_type": "code",
   "execution_count": null,
   "outputs": [],
   "source": [
    "# sub_metering_1: "
   ],
   "metadata": {
    "collapsed": false,
    "ExecuteTime": {
     "start_time": "2023-12-20T13:41:26.205664600Z"
    }
   },
   "id": "e1026b9090ca2250"
  }
 ],
 "metadata": {
  "kernelspec": {
   "display_name": "Python 3",
   "language": "python",
   "name": "python3"
  },
  "language_info": {
   "codemirror_mode": {
    "name": "ipython",
    "version": 2
   },
   "file_extension": ".py",
   "mimetype": "text/x-python",
   "name": "python",
   "nbconvert_exporter": "python",
   "pygments_lexer": "ipython2",
   "version": "2.7.6"
  }
 },
 "nbformat": 4,
 "nbformat_minor": 5
}
