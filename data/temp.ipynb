{
 "cells": [
  {
   "cell_type": "code",
   "execution_count": 10,
   "id": "initial_id",
   "metadata": {
    "collapsed": true,
    "ExecuteTime": {
     "end_time": "2023-11-15T16:09:59.226469300Z",
     "start_time": "2023-11-15T16:09:58.927253400Z"
    }
   },
   "outputs": [
    {
     "name": "stdout",
     "output_type": "stream",
     "text": [
      "The autoreload extension is already loaded. To reload it, use:\n",
      "  %reload_ext autoreload\n"
     ]
    }
   ],
   "source": [
    "%load_ext autoreload\n",
    "%autoreload 2\n",
    "\n",
    "from datetime import datetime\n",
    "\n",
    "from constants.containter import DateTimeRange, Location, PVSystemData\n",
    "from data.disk_cached import fetch_radiation\n",
    "from simulation import simulate"
   ]
  },
  {
   "cell_type": "code",
   "execution_count": 4,
   "outputs": [],
   "source": [
    "location = Location(\n",
    "    latitude=48.778796,\n",
    "    longitude=2.294678,\n",
    "    altitude=70,\n",
    "    name=\"Sceaux\"\n",
    ")"
   ],
   "metadata": {
    "collapsed": false,
    "ExecuteTime": {
     "end_time": "2023-11-15T16:08:40.156387100Z",
     "start_time": "2023-11-15T16:08:39.870611800Z"
    }
   },
   "id": "b4370d318ecbed41"
  },
  {
   "cell_type": "code",
   "execution_count": 5,
   "outputs": [],
   "source": [
    "radiation = fetch_radiation(\n",
    "    location,\n",
    "    DateTimeRange(\n",
    "        start=datetime(2019, 1, 1),\n",
    "        end=datetime(2020, 12, 31)\n",
    "    )\n",
    ")"
   ],
   "metadata": {
    "collapsed": false,
    "ExecuteTime": {
     "end_time": "2023-11-15T16:08:45.031826Z",
     "start_time": "2023-11-15T16:08:40.156387100Z"
    }
   },
   "id": "f9ab68283e0b77a5"
  },
  {
   "cell_type": "code",
   "execution_count": 9,
   "outputs": [],
   "source": [
    "pv_system_data = PVSystemData()"
   ],
   "metadata": {
    "collapsed": false,
    "ExecuteTime": {
     "end_time": "2023-11-15T16:09:38.929640800Z",
     "start_time": "2023-11-15T16:09:38.282092Z"
    }
   },
   "id": "d16efa9eb8ae8c6b"
  },
  {
   "cell_type": "code",
   "execution_count": 11,
   "outputs": [],
   "source": [
    "result = simulate(location, pv_system_data, radiation)"
   ],
   "metadata": {
    "collapsed": false,
    "ExecuteTime": {
     "end_time": "2023-11-15T16:10:15.851553900Z",
     "start_time": "2023-11-15T16:10:14.170581100Z"
    }
   },
   "id": "3ebf8d4d11c83c7"
  },
  {
   "cell_type": "code",
   "execution_count": 14,
   "outputs": [],
   "source": [
    "import pickle\n",
    "with open(\"result.pickle\", \"wb\") as f:\n",
    "    pickle.dump(result.output, f)"
   ],
   "metadata": {
    "collapsed": false,
    "ExecuteTime": {
     "end_time": "2023-11-15T16:11:51.580355400Z",
     "start_time": "2023-11-15T16:11:51.272444300Z"
    }
   },
   "id": "b33f754cf5ec2d9f"
  },
  {
   "cell_type": "code",
   "execution_count": null,
   "outputs": [],
   "source": [],
   "metadata": {
    "collapsed": false
   },
   "id": "5df3e508c4e405dd"
  }
 ],
 "metadata": {
  "kernelspec": {
   "display_name": "Python 3",
   "language": "python",
   "name": "python3"
  },
  "language_info": {
   "codemirror_mode": {
    "name": "ipython",
    "version": 2
   },
   "file_extension": ".py",
   "mimetype": "text/x-python",
   "name": "python",
   "nbconvert_exporter": "python",
   "pygments_lexer": "ipython2",
   "version": "2.7.6"
  }
 },
 "nbformat": 4,
 "nbformat_minor": 5
}
