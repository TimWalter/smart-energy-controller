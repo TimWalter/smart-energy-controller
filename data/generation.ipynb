{
 "cells": [
  {
   "cell_type": "code",
   "execution_count": 12,
   "id": "initial_id",
   "metadata": {
    "collapsed": true,
    "ExecuteTime": {
     "end_time": "2023-11-12T11:05:16.784575300Z",
     "start_time": "2023-11-12T11:05:16.723399800Z"
    }
   },
   "outputs": [],
   "source": [
    "import pickle\n",
    "import pvlib\n",
    "import pandas as pd"
   ]
  },
  {
   "cell_type": "code",
   "execution_count": 2,
   "outputs": [],
   "source": [
    "result = pickle.load(open(\"generation.pickle\", \"rb\"))"
   ],
   "metadata": {
    "collapsed": false,
    "ExecuteTime": {
     "end_time": "2023-11-12T11:01:08.106697600Z",
     "start_time": "2023-11-12T11:01:08.055206200Z"
    }
   },
   "id": "39199cc3d7ce86f2"
  },
  {
   "cell_type": "code",
   "execution_count": 18,
   "outputs": [],
   "source": [
    "dataset = pd.DataFrame(result.ac)\n",
    "dataset.index = pd.to_datetime(dataset.index)\n",
    "dataset.index.name = \"Datetime\""
   ],
   "metadata": {
    "collapsed": false,
    "ExecuteTime": {
     "end_time": "2023-11-12T11:07:24.168079700Z",
     "start_time": "2023-11-12T11:07:24.109187400Z"
    }
   },
   "id": "7adca79579ea392e"
  },
  {
   "cell_type": "code",
   "execution_count": 21,
   "outputs": [],
   "source": [
    "weekly_episodes = dataset.groupby(pd.Grouper(freq='W'))"
   ],
   "metadata": {
    "collapsed": false,
    "ExecuteTime": {
     "end_time": "2023-11-12T11:07:56.423308700Z",
     "start_time": "2023-11-12T11:07:56.392046600Z"
    }
   },
   "id": "2882714ebf44f3c0"
  },
  {
   "cell_type": "code",
   "execution_count": 23,
   "outputs": [
    {
     "data": {
      "text/plain": "             p_mp                                                       \\\n            count      mean        std       min   25%   50%       75%   \nDatetime                                                                 \n2006-01-01   24.0  1.697449  13.621818 -3.030000 -3.03 -3.03 -3.030000   \n2006-01-08  168.0  3.207000  15.028463 -3.030000 -3.03 -3.03 -0.439303   \n2006-01-15  168.0  1.939853  12.287468 -3.030000 -3.03 -3.03 -3.030000   \n2006-01-22  168.0  6.654501  20.149780 -3.030000 -3.03 -3.03  5.686807   \n2006-01-29  168.0  5.393326  19.961731 -3.353673 -3.03 -3.03  2.028187   \n...           ...       ...        ...       ...   ...   ...       ...   \n2010-12-05  168.0  6.404910  19.440513 -4.010676 -3.03 -3.03 -3.030000   \n2010-12-12  168.0  3.315945  15.749604 -3.437605 -3.03 -3.03 -3.030000   \n2010-12-19  168.0  2.316614  13.428233 -3.030000 -3.03 -3.03 -3.030000   \n2010-12-26  168.0  4.858090  16.694981 -3.531632 -3.03 -3.03 -3.030000   \n2011-01-02  120.0  4.884165  17.541947 -3.498425 -3.03 -3.03 -3.030000   \n\n                       \n                  max  \nDatetime               \n2006-01-01  51.639288  \n2006-01-08  68.179388  \n2006-01-15  65.029365  \n2006-01-22  79.884108  \n2006-01-29  94.812569  \n...               ...  \n2010-12-05  73.983002  \n2010-12-12  69.827375  \n2010-12-19  65.142728  \n2010-12-26  63.218910  \n2011-01-02  67.174872  \n\n[262 rows x 8 columns]",
      "text/html": "<div>\n<style scoped>\n    .dataframe tbody tr th:only-of-type {\n        vertical-align: middle;\n    }\n\n    .dataframe tbody tr th {\n        vertical-align: top;\n    }\n\n    .dataframe thead tr th {\n        text-align: left;\n    }\n\n    .dataframe thead tr:last-of-type th {\n        text-align: right;\n    }\n</style>\n<table border=\"1\" class=\"dataframe\">\n  <thead>\n    <tr>\n      <th></th>\n      <th colspan=\"8\" halign=\"left\">p_mp</th>\n    </tr>\n    <tr>\n      <th></th>\n      <th>count</th>\n      <th>mean</th>\n      <th>std</th>\n      <th>min</th>\n      <th>25%</th>\n      <th>50%</th>\n      <th>75%</th>\n      <th>max</th>\n    </tr>\n    <tr>\n      <th>Datetime</th>\n      <th></th>\n      <th></th>\n      <th></th>\n      <th></th>\n      <th></th>\n      <th></th>\n      <th></th>\n      <th></th>\n    </tr>\n  </thead>\n  <tbody>\n    <tr>\n      <th>2006-01-01</th>\n      <td>24.0</td>\n      <td>1.697449</td>\n      <td>13.621818</td>\n      <td>-3.030000</td>\n      <td>-3.03</td>\n      <td>-3.03</td>\n      <td>-3.030000</td>\n      <td>51.639288</td>\n    </tr>\n    <tr>\n      <th>2006-01-08</th>\n      <td>168.0</td>\n      <td>3.207000</td>\n      <td>15.028463</td>\n      <td>-3.030000</td>\n      <td>-3.03</td>\n      <td>-3.03</td>\n      <td>-0.439303</td>\n      <td>68.179388</td>\n    </tr>\n    <tr>\n      <th>2006-01-15</th>\n      <td>168.0</td>\n      <td>1.939853</td>\n      <td>12.287468</td>\n      <td>-3.030000</td>\n      <td>-3.03</td>\n      <td>-3.03</td>\n      <td>-3.030000</td>\n      <td>65.029365</td>\n    </tr>\n    <tr>\n      <th>2006-01-22</th>\n      <td>168.0</td>\n      <td>6.654501</td>\n      <td>20.149780</td>\n      <td>-3.030000</td>\n      <td>-3.03</td>\n      <td>-3.03</td>\n      <td>5.686807</td>\n      <td>79.884108</td>\n    </tr>\n    <tr>\n      <th>2006-01-29</th>\n      <td>168.0</td>\n      <td>5.393326</td>\n      <td>19.961731</td>\n      <td>-3.353673</td>\n      <td>-3.03</td>\n      <td>-3.03</td>\n      <td>2.028187</td>\n      <td>94.812569</td>\n    </tr>\n    <tr>\n      <th>...</th>\n      <td>...</td>\n      <td>...</td>\n      <td>...</td>\n      <td>...</td>\n      <td>...</td>\n      <td>...</td>\n      <td>...</td>\n      <td>...</td>\n    </tr>\n    <tr>\n      <th>2010-12-05</th>\n      <td>168.0</td>\n      <td>6.404910</td>\n      <td>19.440513</td>\n      <td>-4.010676</td>\n      <td>-3.03</td>\n      <td>-3.03</td>\n      <td>-3.030000</td>\n      <td>73.983002</td>\n    </tr>\n    <tr>\n      <th>2010-12-12</th>\n      <td>168.0</td>\n      <td>3.315945</td>\n      <td>15.749604</td>\n      <td>-3.437605</td>\n      <td>-3.03</td>\n      <td>-3.03</td>\n      <td>-3.030000</td>\n      <td>69.827375</td>\n    </tr>\n    <tr>\n      <th>2010-12-19</th>\n      <td>168.0</td>\n      <td>2.316614</td>\n      <td>13.428233</td>\n      <td>-3.030000</td>\n      <td>-3.03</td>\n      <td>-3.03</td>\n      <td>-3.030000</td>\n      <td>65.142728</td>\n    </tr>\n    <tr>\n      <th>2010-12-26</th>\n      <td>168.0</td>\n      <td>4.858090</td>\n      <td>16.694981</td>\n      <td>-3.531632</td>\n      <td>-3.03</td>\n      <td>-3.03</td>\n      <td>-3.030000</td>\n      <td>63.218910</td>\n    </tr>\n    <tr>\n      <th>2011-01-02</th>\n      <td>120.0</td>\n      <td>4.884165</td>\n      <td>17.541947</td>\n      <td>-3.498425</td>\n      <td>-3.03</td>\n      <td>-3.03</td>\n      <td>-3.030000</td>\n      <td>67.174872</td>\n    </tr>\n  </tbody>\n</table>\n<p>262 rows × 8 columns</p>\n</div>"
     },
     "execution_count": 23,
     "metadata": {},
     "output_type": "execute_result"
    }
   ],
   "source": [
    "weekly_episodes.describe()"
   ],
   "metadata": {
    "collapsed": false,
    "ExecuteTime": {
     "end_time": "2023-11-12T11:08:04.623776800Z",
     "start_time": "2023-11-12T11:08:04.018112Z"
    }
   },
   "id": "d6849f8bc5b03bd"
  },
  {
   "cell_type": "code",
   "execution_count": 25,
   "outputs": [],
   "source": [
    "with pd.HDFStore('./datasets/generation.h5') as store:\n",
    "    # Save each DataFrame with a key\n",
    "    for i, (name, df) in enumerate(weekly_episodes):\n",
    "        store[f'eps_{i}'] = df"
   ],
   "metadata": {
    "collapsed": false,
    "ExecuteTime": {
     "end_time": "2023-11-12T11:09:10.502975500Z",
     "start_time": "2023-11-12T11:09:06.497480400Z"
    }
   },
   "id": "a19b39b0b9abbe3e"
  },
  {
   "cell_type": "code",
   "execution_count": 1,
   "outputs": [],
   "source": [
    "import pandas as pd"
   ],
   "metadata": {
    "collapsed": false,
    "ExecuteTime": {
     "end_time": "2023-11-13T15:23:11.824913200Z",
     "start_time": "2023-11-13T15:23:10.150440600Z"
    }
   },
   "id": "d0273ae8de030f"
  },
  {
   "cell_type": "code",
   "execution_count": 2,
   "outputs": [],
   "source": [
    "test = pd.read_hdf('./datasets/generation.h5', key='eps_0')"
   ],
   "metadata": {
    "collapsed": false,
    "ExecuteTime": {
     "end_time": "2023-11-13T15:23:16.209245300Z",
     "start_time": "2023-11-13T15:23:13.702824900Z"
    }
   },
   "id": "196e8f0eb6fd4d72"
  },
  {
   "cell_type": "code",
   "execution_count": 3,
   "outputs": [
    {
     "data": {
      "text/plain": "                          p_mp\nDatetime                      \n2006-01-01 00:10:00  -3.030000\n2006-01-01 01:10:00  -3.030000\n2006-01-01 02:10:00  -3.030000\n2006-01-01 03:10:00  -3.030000\n2006-01-01 04:10:00  -3.030000\n2006-01-01 05:10:00  -3.030000\n2006-01-01 06:10:00  -3.030000\n2006-01-01 07:10:00  -3.030000\n2006-01-01 08:10:00  -3.030000\n2006-01-01 09:10:00  17.752944\n2006-01-01 10:10:00  -3.030000\n2006-01-01 11:10:00  -2.209146\n2006-01-01 12:10:00  34.155687\n2006-01-01 13:10:00  51.639288\n2006-01-01 14:10:00  -3.030000\n2006-01-01 15:10:00  -3.030000\n2006-01-01 16:10:00  -3.030000\n2006-01-01 17:10:00  -3.030000\n2006-01-01 18:10:00  -3.030000\n2006-01-01 19:10:00  -3.030000\n2006-01-01 20:10:00  -3.030000\n2006-01-01 21:10:00  -3.030000\n2006-01-01 22:10:00  -3.030000\n2006-01-01 23:10:00  -3.030000",
      "text/html": "<div>\n<style scoped>\n    .dataframe tbody tr th:only-of-type {\n        vertical-align: middle;\n    }\n\n    .dataframe tbody tr th {\n        vertical-align: top;\n    }\n\n    .dataframe thead th {\n        text-align: right;\n    }\n</style>\n<table border=\"1\" class=\"dataframe\">\n  <thead>\n    <tr style=\"text-align: right;\">\n      <th></th>\n      <th>p_mp</th>\n    </tr>\n    <tr>\n      <th>Datetime</th>\n      <th></th>\n    </tr>\n  </thead>\n  <tbody>\n    <tr>\n      <th>2006-01-01 00:10:00</th>\n      <td>-3.030000</td>\n    </tr>\n    <tr>\n      <th>2006-01-01 01:10:00</th>\n      <td>-3.030000</td>\n    </tr>\n    <tr>\n      <th>2006-01-01 02:10:00</th>\n      <td>-3.030000</td>\n    </tr>\n    <tr>\n      <th>2006-01-01 03:10:00</th>\n      <td>-3.030000</td>\n    </tr>\n    <tr>\n      <th>2006-01-01 04:10:00</th>\n      <td>-3.030000</td>\n    </tr>\n    <tr>\n      <th>2006-01-01 05:10:00</th>\n      <td>-3.030000</td>\n    </tr>\n    <tr>\n      <th>2006-01-01 06:10:00</th>\n      <td>-3.030000</td>\n    </tr>\n    <tr>\n      <th>2006-01-01 07:10:00</th>\n      <td>-3.030000</td>\n    </tr>\n    <tr>\n      <th>2006-01-01 08:10:00</th>\n      <td>-3.030000</td>\n    </tr>\n    <tr>\n      <th>2006-01-01 09:10:00</th>\n      <td>17.752944</td>\n    </tr>\n    <tr>\n      <th>2006-01-01 10:10:00</th>\n      <td>-3.030000</td>\n    </tr>\n    <tr>\n      <th>2006-01-01 11:10:00</th>\n      <td>-2.209146</td>\n    </tr>\n    <tr>\n      <th>2006-01-01 12:10:00</th>\n      <td>34.155687</td>\n    </tr>\n    <tr>\n      <th>2006-01-01 13:10:00</th>\n      <td>51.639288</td>\n    </tr>\n    <tr>\n      <th>2006-01-01 14:10:00</th>\n      <td>-3.030000</td>\n    </tr>\n    <tr>\n      <th>2006-01-01 15:10:00</th>\n      <td>-3.030000</td>\n    </tr>\n    <tr>\n      <th>2006-01-01 16:10:00</th>\n      <td>-3.030000</td>\n    </tr>\n    <tr>\n      <th>2006-01-01 17:10:00</th>\n      <td>-3.030000</td>\n    </tr>\n    <tr>\n      <th>2006-01-01 18:10:00</th>\n      <td>-3.030000</td>\n    </tr>\n    <tr>\n      <th>2006-01-01 19:10:00</th>\n      <td>-3.030000</td>\n    </tr>\n    <tr>\n      <th>2006-01-01 20:10:00</th>\n      <td>-3.030000</td>\n    </tr>\n    <tr>\n      <th>2006-01-01 21:10:00</th>\n      <td>-3.030000</td>\n    </tr>\n    <tr>\n      <th>2006-01-01 22:10:00</th>\n      <td>-3.030000</td>\n    </tr>\n    <tr>\n      <th>2006-01-01 23:10:00</th>\n      <td>-3.030000</td>\n    </tr>\n  </tbody>\n</table>\n</div>"
     },
     "execution_count": 3,
     "metadata": {},
     "output_type": "execute_result"
    }
   ],
   "source": [
    "test"
   ],
   "metadata": {
    "collapsed": false,
    "ExecuteTime": {
     "end_time": "2023-11-13T15:23:17.204621400Z",
     "start_time": "2023-11-13T15:23:17.145682100Z"
    }
   },
   "id": "8d4d02f8aff6bbce"
  },
  {
   "cell_type": "code",
   "execution_count": 4,
   "outputs": [],
   "source": [
    "from datetime import datetime"
   ],
   "metadata": {
    "collapsed": false,
    "ExecuteTime": {
     "end_time": "2023-11-13T15:25:11.206536Z",
     "start_time": "2023-11-13T15:25:11.192461600Z"
    }
   },
   "id": "e4bd9f2a34503116"
  },
  {
   "cell_type": "code",
   "execution_count": 21,
   "outputs": [
    {
     "data": {
      "text/plain": "                          p_mp\nDatetime                      \n2006-01-01 00:10:00  -3.030000\n2006-01-01 01:10:00  -3.030000\n2006-01-01 02:10:00  -3.030000\n2006-01-01 03:10:00  -3.030000\n2006-01-01 04:10:00  -3.030000\n2006-01-01 05:10:00  -3.030000\n2006-01-01 06:10:00  -3.030000\n2006-01-01 07:10:00  -3.030000\n2006-01-01 08:10:00  -3.030000\n2006-01-01 09:10:00  17.752944\n2006-01-01 10:10:00  -3.030000\n2006-01-01 11:10:00  -2.209146\n2006-01-01 12:10:00  34.155687\n2006-01-01 13:10:00  51.639288\n2006-01-01 14:10:00  -3.030000\n2006-01-01 15:10:00  -3.030000\n2006-01-01 16:10:00  -3.030000\n2006-01-01 17:10:00  -3.030000\n2006-01-01 18:10:00  -3.030000\n2006-01-01 19:10:00  -3.030000\n2006-01-01 20:10:00  -3.030000\n2006-01-01 21:10:00  -3.030000\n2006-01-01 22:10:00  -3.030000\n2006-01-01 23:10:00  -3.030000",
      "text/html": "<div>\n<style scoped>\n    .dataframe tbody tr th:only-of-type {\n        vertical-align: middle;\n    }\n\n    .dataframe tbody tr th {\n        vertical-align: top;\n    }\n\n    .dataframe thead th {\n        text-align: right;\n    }\n</style>\n<table border=\"1\" class=\"dataframe\">\n  <thead>\n    <tr style=\"text-align: right;\">\n      <th></th>\n      <th>p_mp</th>\n    </tr>\n    <tr>\n      <th>Datetime</th>\n      <th></th>\n    </tr>\n  </thead>\n  <tbody>\n    <tr>\n      <th>2006-01-01 00:10:00</th>\n      <td>-3.030000</td>\n    </tr>\n    <tr>\n      <th>2006-01-01 01:10:00</th>\n      <td>-3.030000</td>\n    </tr>\n    <tr>\n      <th>2006-01-01 02:10:00</th>\n      <td>-3.030000</td>\n    </tr>\n    <tr>\n      <th>2006-01-01 03:10:00</th>\n      <td>-3.030000</td>\n    </tr>\n    <tr>\n      <th>2006-01-01 04:10:00</th>\n      <td>-3.030000</td>\n    </tr>\n    <tr>\n      <th>2006-01-01 05:10:00</th>\n      <td>-3.030000</td>\n    </tr>\n    <tr>\n      <th>2006-01-01 06:10:00</th>\n      <td>-3.030000</td>\n    </tr>\n    <tr>\n      <th>2006-01-01 07:10:00</th>\n      <td>-3.030000</td>\n    </tr>\n    <tr>\n      <th>2006-01-01 08:10:00</th>\n      <td>-3.030000</td>\n    </tr>\n    <tr>\n      <th>2006-01-01 09:10:00</th>\n      <td>17.752944</td>\n    </tr>\n    <tr>\n      <th>2006-01-01 10:10:00</th>\n      <td>-3.030000</td>\n    </tr>\n    <tr>\n      <th>2006-01-01 11:10:00</th>\n      <td>-2.209146</td>\n    </tr>\n    <tr>\n      <th>2006-01-01 12:10:00</th>\n      <td>34.155687</td>\n    </tr>\n    <tr>\n      <th>2006-01-01 13:10:00</th>\n      <td>51.639288</td>\n    </tr>\n    <tr>\n      <th>2006-01-01 14:10:00</th>\n      <td>-3.030000</td>\n    </tr>\n    <tr>\n      <th>2006-01-01 15:10:00</th>\n      <td>-3.030000</td>\n    </tr>\n    <tr>\n      <th>2006-01-01 16:10:00</th>\n      <td>-3.030000</td>\n    </tr>\n    <tr>\n      <th>2006-01-01 17:10:00</th>\n      <td>-3.030000</td>\n    </tr>\n    <tr>\n      <th>2006-01-01 18:10:00</th>\n      <td>-3.030000</td>\n    </tr>\n    <tr>\n      <th>2006-01-01 19:10:00</th>\n      <td>-3.030000</td>\n    </tr>\n    <tr>\n      <th>2006-01-01 20:10:00</th>\n      <td>-3.030000</td>\n    </tr>\n    <tr>\n      <th>2006-01-01 21:10:00</th>\n      <td>-3.030000</td>\n    </tr>\n    <tr>\n      <th>2006-01-01 22:10:00</th>\n      <td>-3.030000</td>\n    </tr>\n    <tr>\n      <th>2006-01-01 23:10:00</th>\n      <td>-3.030000</td>\n    </tr>\n  </tbody>\n</table>\n</div>"
     },
     "execution_count": 21,
     "metadata": {},
     "output_type": "execute_result"
    }
   ],
   "source": [
    "test"
   ],
   "metadata": {
    "collapsed": false,
    "ExecuteTime": {
     "end_time": "2023-11-13T15:32:45.774181300Z",
     "start_time": "2023-11-13T15:32:45.764620500Z"
    }
   },
   "id": "a016a1f08ba5b275"
  },
  {
   "cell_type": "code",
   "execution_count": 18,
   "outputs": [
    {
     "data": {
      "text/plain": "p_mp    17.752944\nName: 2006-01-01 09:10:00, dtype: float64"
     },
     "execution_count": 18,
     "metadata": {},
     "output_type": "execute_result"
    }
   ],
   "source": [
    "test.loc[datetime(2006, 1, 1, 9, 10).strftime(\"%Y-%m-%d %H:%M:%S\")]"
   ],
   "metadata": {
    "collapsed": false,
    "ExecuteTime": {
     "end_time": "2023-11-13T15:28:30.327459900Z",
     "start_time": "2023-11-13T15:28:30.312176Z"
    }
   },
   "id": "3a1655c72adfa061"
  },
  {
   "cell_type": "code",
   "execution_count": 29,
   "outputs": [
    {
     "data": {
      "text/plain": "                          p_mp\nDatetime                      \n2006-01-01 09:10:00  17.752944",
      "text/html": "<div>\n<style scoped>\n    .dataframe tbody tr th:only-of-type {\n        vertical-align: middle;\n    }\n\n    .dataframe tbody tr th {\n        vertical-align: top;\n    }\n\n    .dataframe thead th {\n        text-align: right;\n    }\n</style>\n<table border=\"1\" class=\"dataframe\">\n  <thead>\n    <tr style=\"text-align: right;\">\n      <th></th>\n      <th>p_mp</th>\n    </tr>\n    <tr>\n      <th>Datetime</th>\n      <th></th>\n    </tr>\n  </thead>\n  <tbody>\n    <tr>\n      <th>2006-01-01 09:10:00</th>\n      <td>17.752944</td>\n    </tr>\n  </tbody>\n</table>\n</div>"
     },
     "execution_count": 29,
     "metadata": {},
     "output_type": "execute_result"
    }
   ],
   "source": [
    "test.iloc[test.index.get_indexer([pd.to_datetime(datetime(2006,1,1, 9))], method='nearest')]"
   ],
   "metadata": {
    "collapsed": false,
    "ExecuteTime": {
     "end_time": "2023-11-13T15:34:42.388006500Z",
     "start_time": "2023-11-13T15:34:42.373663900Z"
    }
   },
   "id": "1b529bcdf5281ff2"
  },
  {
   "cell_type": "code",
   "execution_count": null,
   "outputs": [],
   "source": [],
   "metadata": {
    "collapsed": false
   },
   "id": "89d8a5124a592c05"
  }
 ],
 "metadata": {
  "kernelspec": {
   "display_name": "Python 3",
   "language": "python",
   "name": "python3"
  },
  "language_info": {
   "codemirror_mode": {
    "name": "ipython",
    "version": 2
   },
   "file_extension": ".py",
   "mimetype": "text/x-python",
   "name": "python",
   "nbconvert_exporter": "python",
   "pygments_lexer": "ipython2",
   "version": "2.7.6"
  }
 },
 "nbformat": 4,
 "nbformat_minor": 5
}
