{
 "cells": [
  {
   "cell_type": "code",
   "execution_count": 1,
   "outputs": [],
   "source": [
    "%load_ext autoreload\n",
    "%autoreload 2"
   ],
   "metadata": {
    "collapsed": false,
    "ExecuteTime": {
     "end_time": "2023-12-16T11:11:47.525043500Z",
     "start_time": "2023-12-16T11:11:46.703526900Z"
    }
   },
   "id": "107915547b3b3558"
  },
  {
   "cell_type": "code",
   "execution_count": 2,
   "id": "initial_id",
   "metadata": {
    "collapsed": true,
    "ExecuteTime": {
     "end_time": "2023-12-16T11:11:49.726700200Z",
     "start_time": "2023-12-16T11:11:47.525043500Z"
    }
   },
   "outputs": [],
   "source": [
    "import pickle\n",
    "import pvlib\n",
    "import pandas as pd\n",
    "import numpy as np\n",
    "from datetime import datetime"
   ]
  },
  {
   "cell_type": "code",
   "execution_count": 3,
   "outputs": [],
   "source": [
    "full_pv = pickle.load(open(\"./raw/generation.pickle\", \"rb\"))"
   ],
   "metadata": {
    "collapsed": false,
    "ExecuteTime": {
     "end_time": "2023-12-16T11:11:50.095938100Z",
     "start_time": "2023-12-16T11:11:49.729702600Z"
    }
   },
   "id": "39199cc3d7ce86f2"
  },
  {
   "cell_type": "code",
   "execution_count": 4,
   "outputs": [],
   "source": [
    "full_pv = pd.DataFrame({\"Datetime\":full_pv.times, \"AC\": full_pv.ac})"
   ],
   "metadata": {
    "collapsed": false,
    "ExecuteTime": {
     "end_time": "2023-12-16T11:11:50.422678600Z",
     "start_time": "2023-12-16T11:11:50.097945700Z"
    }
   },
   "id": "4ef72bb86fb522c4"
  },
  {
   "cell_type": "code",
   "execution_count": 5,
   "outputs": [
    {
     "data": {
      "text/plain": "                               Datetime    AC\ntime                                         \n2006-01-01 00:10:00 2006-01-01 00:10:00 -3.03\n2006-01-01 01:10:00 2006-01-01 01:10:00 -3.03\n2006-01-01 02:10:00 2006-01-01 02:10:00 -3.03\n2006-01-01 03:10:00 2006-01-01 03:10:00 -3.03\n2006-01-01 04:10:00 2006-01-01 04:10:00 -3.03\n...                                 ...   ...\n2010-12-31 19:10:00 2010-12-31 19:10:00 -3.03\n2010-12-31 20:10:00 2010-12-31 20:10:00 -3.03\n2010-12-31 21:10:00 2010-12-31 21:10:00 -3.03\n2010-12-31 22:10:00 2010-12-31 22:10:00 -3.03\n2010-12-31 23:10:00 2010-12-31 23:10:00 -3.03\n\n[43824 rows x 2 columns]",
      "text/html": "<div>\n<style scoped>\n    .dataframe tbody tr th:only-of-type {\n        vertical-align: middle;\n    }\n\n    .dataframe tbody tr th {\n        vertical-align: top;\n    }\n\n    .dataframe thead th {\n        text-align: right;\n    }\n</style>\n<table border=\"1\" class=\"dataframe\">\n  <thead>\n    <tr style=\"text-align: right;\">\n      <th></th>\n      <th>Datetime</th>\n      <th>AC</th>\n    </tr>\n    <tr>\n      <th>time</th>\n      <th></th>\n      <th></th>\n    </tr>\n  </thead>\n  <tbody>\n    <tr>\n      <th>2006-01-01 00:10:00</th>\n      <td>2006-01-01 00:10:00</td>\n      <td>-3.03</td>\n    </tr>\n    <tr>\n      <th>2006-01-01 01:10:00</th>\n      <td>2006-01-01 01:10:00</td>\n      <td>-3.03</td>\n    </tr>\n    <tr>\n      <th>2006-01-01 02:10:00</th>\n      <td>2006-01-01 02:10:00</td>\n      <td>-3.03</td>\n    </tr>\n    <tr>\n      <th>2006-01-01 03:10:00</th>\n      <td>2006-01-01 03:10:00</td>\n      <td>-3.03</td>\n    </tr>\n    <tr>\n      <th>2006-01-01 04:10:00</th>\n      <td>2006-01-01 04:10:00</td>\n      <td>-3.03</td>\n    </tr>\n    <tr>\n      <th>...</th>\n      <td>...</td>\n      <td>...</td>\n    </tr>\n    <tr>\n      <th>2010-12-31 19:10:00</th>\n      <td>2010-12-31 19:10:00</td>\n      <td>-3.03</td>\n    </tr>\n    <tr>\n      <th>2010-12-31 20:10:00</th>\n      <td>2010-12-31 20:10:00</td>\n      <td>-3.03</td>\n    </tr>\n    <tr>\n      <th>2010-12-31 21:10:00</th>\n      <td>2010-12-31 21:10:00</td>\n      <td>-3.03</td>\n    </tr>\n    <tr>\n      <th>2010-12-31 22:10:00</th>\n      <td>2010-12-31 22:10:00</td>\n      <td>-3.03</td>\n    </tr>\n    <tr>\n      <th>2010-12-31 23:10:00</th>\n      <td>2010-12-31 23:10:00</td>\n      <td>-3.03</td>\n    </tr>\n  </tbody>\n</table>\n<p>43824 rows × 2 columns</p>\n</div>"
     },
     "execution_count": 5,
     "metadata": {},
     "output_type": "execute_result"
    }
   ],
   "source": [
    "full_pv"
   ],
   "metadata": {
    "collapsed": false,
    "ExecuteTime": {
     "end_time": "2023-12-16T11:11:50.951627200Z",
     "start_time": "2023-12-16T11:11:50.422678600Z"
    }
   },
   "id": "3cc4320d18b28316"
  },
  {
   "cell_type": "code",
   "execution_count": 7,
   "outputs": [
    {
     "data": {
      "text/plain": "440.0727161894718"
     },
     "execution_count": 7,
     "metadata": {},
     "output_type": "execute_result"
    }
   ],
   "source": [
    "print(\"Max AC: \", np.max(full_pv.AC))"
   ],
   "metadata": {
    "collapsed": false,
    "ExecuteTime": {
     "end_time": "2023-12-16T11:12:40.393413700Z",
     "start_time": "2023-12-16T11:12:40.061995500Z"
    }
   },
   "id": "6ea83b99bc0838f9"
  },
  {
   "cell_type": "code",
   "execution_count": 8,
   "outputs": [
    {
     "data": {
      "text/plain": "-4.2697428328038"
     },
     "execution_count": 8,
     "metadata": {},
     "output_type": "execute_result"
    }
   ],
   "source": [
    "np.min(full_pv.AC)\n"
   ],
   "metadata": {
    "collapsed": false,
    "ExecuteTime": {
     "end_time": "2023-12-16T11:12:46.503499500Z",
     "start_time": "2023-12-16T11:12:46.179270700Z"
    }
   },
   "id": "d590c6a37e22974"
  },
  {
   "cell_type": "code",
   "execution_count": 6,
   "outputs": [],
   "source": [
    "pv = full_pv[['Datetime', 'AC']].copy()\n",
    "pv.loc[:,'Datetime'] = pd.to_datetime(pv.loc[:,'Datetime'])\n",
    "pv.set_index('Datetime', inplace=True)\n",
    "pv = pv.loc[:, ['AC']] / 1000 # W to kW\n",
    "pv = pv.resample('min').interpolate(method='linear')"
   ],
   "metadata": {
    "collapsed": false,
    "ExecuteTime": {
     "end_time": "2023-12-01T16:46:01.187317073Z",
     "start_time": "2023-12-01T16:45:59.925491262Z"
    }
   },
   "id": "b85dd60374fe7a88"
  },
  {
   "cell_type": "code",
   "execution_count": 7,
   "outputs": [],
   "source": [
    "pv_episodes = pv.groupby(pd.Grouper(freq='W'))"
   ],
   "metadata": {
    "collapsed": false,
    "ExecuteTime": {
     "end_time": "2023-12-01T16:46:01.187795730Z",
     "start_time": "2023-12-01T16:46:01.073796152Z"
    }
   },
   "id": "2b0aee9f8c13563c"
  },
  {
   "cell_type": "code",
   "execution_count": 8,
   "outputs": [
    {
     "data": {
      "text/plain": "                 AC                                                            \\\n              count      mean       std       min      25%      50%       75%   \nDatetime                                                                        \n2006-01-01   1430.0  0.001731  0.011861 -0.003030 -0.00303 -0.00303 -0.003020   \n2006-01-08  10080.0  0.003207  0.014177 -0.003030 -0.00303 -0.00303  0.000835   \n2006-01-15  10080.0  0.001940  0.011700 -0.003030 -0.00303 -0.00303 -0.000935   \n2006-01-22  10080.0  0.006655  0.019229 -0.003030 -0.00303 -0.00303  0.004989   \n2006-01-29  10080.0  0.005393  0.018793 -0.003354 -0.00303 -0.00303  0.003804   \n...             ...       ...       ...       ...      ...      ...       ...   \n2010-12-05  10080.0  0.006405  0.018599 -0.004011 -0.00303 -0.00303  0.001588   \n2010-12-12  10080.0  0.003316  0.015074 -0.003438 -0.00303 -0.00303 -0.001241   \n2010-12-19  10080.0  0.002317  0.012193 -0.003030 -0.00303 -0.00303 -0.002105   \n2010-12-26  10080.0  0.004858  0.016087 -0.003532 -0.00303 -0.00303  0.000619   \n2011-01-02   7151.0  0.004938  0.016889 -0.003498 -0.00303 -0.00303 -0.000243   \n\n                      \n                 max  \nDatetime              \n2006-01-01  0.051639  \n2006-01-08  0.068179  \n2006-01-15  0.065029  \n2006-01-22  0.079884  \n2006-01-29  0.094813  \n...              ...  \n2010-12-05  0.073983  \n2010-12-12  0.069827  \n2010-12-19  0.065143  \n2010-12-26  0.063219  \n2011-01-02  0.067175  \n\n[262 rows x 8 columns]",
      "text/html": "<div>\n<style scoped>\n    .dataframe tbody tr th:only-of-type {\n        vertical-align: middle;\n    }\n\n    .dataframe tbody tr th {\n        vertical-align: top;\n    }\n\n    .dataframe thead tr th {\n        text-align: left;\n    }\n\n    .dataframe thead tr:last-of-type th {\n        text-align: right;\n    }\n</style>\n<table border=\"1\" class=\"dataframe\">\n  <thead>\n    <tr>\n      <th></th>\n      <th colspan=\"8\" halign=\"left\">AC</th>\n    </tr>\n    <tr>\n      <th></th>\n      <th>count</th>\n      <th>mean</th>\n      <th>std</th>\n      <th>min</th>\n      <th>25%</th>\n      <th>50%</th>\n      <th>75%</th>\n      <th>max</th>\n    </tr>\n    <tr>\n      <th>Datetime</th>\n      <th></th>\n      <th></th>\n      <th></th>\n      <th></th>\n      <th></th>\n      <th></th>\n      <th></th>\n      <th></th>\n    </tr>\n  </thead>\n  <tbody>\n    <tr>\n      <th>2006-01-01</th>\n      <td>1430.0</td>\n      <td>0.001731</td>\n      <td>0.011861</td>\n      <td>-0.003030</td>\n      <td>-0.00303</td>\n      <td>-0.00303</td>\n      <td>-0.003020</td>\n      <td>0.051639</td>\n    </tr>\n    <tr>\n      <th>2006-01-08</th>\n      <td>10080.0</td>\n      <td>0.003207</td>\n      <td>0.014177</td>\n      <td>-0.003030</td>\n      <td>-0.00303</td>\n      <td>-0.00303</td>\n      <td>0.000835</td>\n      <td>0.068179</td>\n    </tr>\n    <tr>\n      <th>2006-01-15</th>\n      <td>10080.0</td>\n      <td>0.001940</td>\n      <td>0.011700</td>\n      <td>-0.003030</td>\n      <td>-0.00303</td>\n      <td>-0.00303</td>\n      <td>-0.000935</td>\n      <td>0.065029</td>\n    </tr>\n    <tr>\n      <th>2006-01-22</th>\n      <td>10080.0</td>\n      <td>0.006655</td>\n      <td>0.019229</td>\n      <td>-0.003030</td>\n      <td>-0.00303</td>\n      <td>-0.00303</td>\n      <td>0.004989</td>\n      <td>0.079884</td>\n    </tr>\n    <tr>\n      <th>2006-01-29</th>\n      <td>10080.0</td>\n      <td>0.005393</td>\n      <td>0.018793</td>\n      <td>-0.003354</td>\n      <td>-0.00303</td>\n      <td>-0.00303</td>\n      <td>0.003804</td>\n      <td>0.094813</td>\n    </tr>\n    <tr>\n      <th>...</th>\n      <td>...</td>\n      <td>...</td>\n      <td>...</td>\n      <td>...</td>\n      <td>...</td>\n      <td>...</td>\n      <td>...</td>\n      <td>...</td>\n    </tr>\n    <tr>\n      <th>2010-12-05</th>\n      <td>10080.0</td>\n      <td>0.006405</td>\n      <td>0.018599</td>\n      <td>-0.004011</td>\n      <td>-0.00303</td>\n      <td>-0.00303</td>\n      <td>0.001588</td>\n      <td>0.073983</td>\n    </tr>\n    <tr>\n      <th>2010-12-12</th>\n      <td>10080.0</td>\n      <td>0.003316</td>\n      <td>0.015074</td>\n      <td>-0.003438</td>\n      <td>-0.00303</td>\n      <td>-0.00303</td>\n      <td>-0.001241</td>\n      <td>0.069827</td>\n    </tr>\n    <tr>\n      <th>2010-12-19</th>\n      <td>10080.0</td>\n      <td>0.002317</td>\n      <td>0.012193</td>\n      <td>-0.003030</td>\n      <td>-0.00303</td>\n      <td>-0.00303</td>\n      <td>-0.002105</td>\n      <td>0.065143</td>\n    </tr>\n    <tr>\n      <th>2010-12-26</th>\n      <td>10080.0</td>\n      <td>0.004858</td>\n      <td>0.016087</td>\n      <td>-0.003532</td>\n      <td>-0.00303</td>\n      <td>-0.00303</td>\n      <td>0.000619</td>\n      <td>0.063219</td>\n    </tr>\n    <tr>\n      <th>2011-01-02</th>\n      <td>7151.0</td>\n      <td>0.004938</td>\n      <td>0.016889</td>\n      <td>-0.003498</td>\n      <td>-0.00303</td>\n      <td>-0.00303</td>\n      <td>-0.000243</td>\n      <td>0.067175</td>\n    </tr>\n  </tbody>\n</table>\n<p>262 rows × 8 columns</p>\n</div>"
     },
     "execution_count": 8,
     "metadata": {},
     "output_type": "execute_result"
    }
   ],
   "source": [
    "pv_episodes.describe()"
   ],
   "metadata": {
    "collapsed": false,
    "ExecuteTime": {
     "end_time": "2023-12-01T16:46:01.802883739Z",
     "start_time": "2023-12-01T16:46:01.185739266Z"
    }
   },
   "id": "e4c0118087948068"
  },
  {
   "cell_type": "code",
   "execution_count": 9,
   "outputs": [],
   "source": [
    "pv_episodes = pd.concat([group.fillna(0) for name, group in pv_episodes if len(group.dropna()) >= 10000 and group.index[0] >= datetime(2007, 1, 1) and group.index[-1] <= datetime(2008, 12, 31)]).groupby(pd.Grouper(freq='W'))"
   ],
   "metadata": {
    "collapsed": false,
    "ExecuteTime": {
     "end_time": "2023-12-01T16:46:02.091156622Z",
     "start_time": "2023-12-01T16:46:01.795277185Z"
    }
   },
   "id": "69162d43e73bf0af"
  },
  {
   "cell_type": "code",
   "execution_count": 10,
   "outputs": [
    {
     "data": {
      "text/plain": "                 AC                                                            \\\n              count      mean       std       min      25%      50%       75%   \nDatetime                                                                        \n2007-01-07  10080.0  0.004354  0.016213 -0.003346 -0.00303 -0.00303 -0.001241   \n2007-01-14  10080.0  0.005275  0.017286 -0.004093 -0.00303 -0.00303  0.001831   \n2007-01-21  10080.0  0.005477  0.018211 -0.003030 -0.00303 -0.00303  0.000109   \n2007-01-28  10080.0  0.008312  0.022100 -0.003030 -0.00303 -0.00303  0.006446   \n2007-02-04  10080.0  0.006042  0.017737 -0.003030 -0.00303 -0.00303  0.009365   \n...             ...       ...       ...       ...      ...      ...       ...   \n2008-11-30  10080.0  0.006745  0.019220 -0.003030 -0.00303 -0.00303  0.005067   \n2008-12-07  10080.0  0.003825  0.014540 -0.003485 -0.00303 -0.00303  0.001862   \n2008-12-14  10080.0  0.004797  0.016509 -0.003891 -0.00303 -0.00303 -0.001425   \n2008-12-21  10080.0  0.002746  0.011871 -0.003953 -0.00303 -0.00303  0.000226   \n2008-12-28  10080.0  0.001406  0.011635 -0.003030 -0.00303 -0.00303 -0.002025   \n\n                      \n                 max  \nDatetime              \n2007-01-07  0.066303  \n2007-01-14  0.067928  \n2007-01-21  0.077623  \n2007-01-28  0.090800  \n2007-02-04  0.090245  \n...              ...  \n2008-11-30  0.077291  \n2008-12-07  0.068325  \n2008-12-14  0.066912  \n2008-12-21  0.063456  \n2008-12-28  0.062450  \n\n[104 rows x 8 columns]",
      "text/html": "<div>\n<style scoped>\n    .dataframe tbody tr th:only-of-type {\n        vertical-align: middle;\n    }\n\n    .dataframe tbody tr th {\n        vertical-align: top;\n    }\n\n    .dataframe thead tr th {\n        text-align: left;\n    }\n\n    .dataframe thead tr:last-of-type th {\n        text-align: right;\n    }\n</style>\n<table border=\"1\" class=\"dataframe\">\n  <thead>\n    <tr>\n      <th></th>\n      <th colspan=\"8\" halign=\"left\">AC</th>\n    </tr>\n    <tr>\n      <th></th>\n      <th>count</th>\n      <th>mean</th>\n      <th>std</th>\n      <th>min</th>\n      <th>25%</th>\n      <th>50%</th>\n      <th>75%</th>\n      <th>max</th>\n    </tr>\n    <tr>\n      <th>Datetime</th>\n      <th></th>\n      <th></th>\n      <th></th>\n      <th></th>\n      <th></th>\n      <th></th>\n      <th></th>\n      <th></th>\n    </tr>\n  </thead>\n  <tbody>\n    <tr>\n      <th>2007-01-07</th>\n      <td>10080.0</td>\n      <td>0.004354</td>\n      <td>0.016213</td>\n      <td>-0.003346</td>\n      <td>-0.00303</td>\n      <td>-0.00303</td>\n      <td>-0.001241</td>\n      <td>0.066303</td>\n    </tr>\n    <tr>\n      <th>2007-01-14</th>\n      <td>10080.0</td>\n      <td>0.005275</td>\n      <td>0.017286</td>\n      <td>-0.004093</td>\n      <td>-0.00303</td>\n      <td>-0.00303</td>\n      <td>0.001831</td>\n      <td>0.067928</td>\n    </tr>\n    <tr>\n      <th>2007-01-21</th>\n      <td>10080.0</td>\n      <td>0.005477</td>\n      <td>0.018211</td>\n      <td>-0.003030</td>\n      <td>-0.00303</td>\n      <td>-0.00303</td>\n      <td>0.000109</td>\n      <td>0.077623</td>\n    </tr>\n    <tr>\n      <th>2007-01-28</th>\n      <td>10080.0</td>\n      <td>0.008312</td>\n      <td>0.022100</td>\n      <td>-0.003030</td>\n      <td>-0.00303</td>\n      <td>-0.00303</td>\n      <td>0.006446</td>\n      <td>0.090800</td>\n    </tr>\n    <tr>\n      <th>2007-02-04</th>\n      <td>10080.0</td>\n      <td>0.006042</td>\n      <td>0.017737</td>\n      <td>-0.003030</td>\n      <td>-0.00303</td>\n      <td>-0.00303</td>\n      <td>0.009365</td>\n      <td>0.090245</td>\n    </tr>\n    <tr>\n      <th>...</th>\n      <td>...</td>\n      <td>...</td>\n      <td>...</td>\n      <td>...</td>\n      <td>...</td>\n      <td>...</td>\n      <td>...</td>\n      <td>...</td>\n    </tr>\n    <tr>\n      <th>2008-11-30</th>\n      <td>10080.0</td>\n      <td>0.006745</td>\n      <td>0.019220</td>\n      <td>-0.003030</td>\n      <td>-0.00303</td>\n      <td>-0.00303</td>\n      <td>0.005067</td>\n      <td>0.077291</td>\n    </tr>\n    <tr>\n      <th>2008-12-07</th>\n      <td>10080.0</td>\n      <td>0.003825</td>\n      <td>0.014540</td>\n      <td>-0.003485</td>\n      <td>-0.00303</td>\n      <td>-0.00303</td>\n      <td>0.001862</td>\n      <td>0.068325</td>\n    </tr>\n    <tr>\n      <th>2008-12-14</th>\n      <td>10080.0</td>\n      <td>0.004797</td>\n      <td>0.016509</td>\n      <td>-0.003891</td>\n      <td>-0.00303</td>\n      <td>-0.00303</td>\n      <td>-0.001425</td>\n      <td>0.066912</td>\n    </tr>\n    <tr>\n      <th>2008-12-21</th>\n      <td>10080.0</td>\n      <td>0.002746</td>\n      <td>0.011871</td>\n      <td>-0.003953</td>\n      <td>-0.00303</td>\n      <td>-0.00303</td>\n      <td>0.000226</td>\n      <td>0.063456</td>\n    </tr>\n    <tr>\n      <th>2008-12-28</th>\n      <td>10080.0</td>\n      <td>0.001406</td>\n      <td>0.011635</td>\n      <td>-0.003030</td>\n      <td>-0.00303</td>\n      <td>-0.00303</td>\n      <td>-0.002025</td>\n      <td>0.062450</td>\n    </tr>\n  </tbody>\n</table>\n<p>104 rows × 8 columns</p>\n</div>"
     },
     "execution_count": 10,
     "metadata": {},
     "output_type": "execute_result"
    }
   ],
   "source": [
    "pv_episodes.describe()"
   ],
   "metadata": {
    "collapsed": false,
    "ExecuteTime": {
     "end_time": "2023-12-01T16:46:02.274512182Z",
     "start_time": "2023-12-01T16:46:02.013042481Z"
    }
   },
   "id": "7dd15043739299fc"
  },
  {
   "cell_type": "code",
   "execution_count": 11,
   "outputs": [
    {
     "name": "stdout",
     "output_type": "stream",
     "text": [
      "True\n"
     ]
    }
   ],
   "source": [
    "demand =  pd.HDFStore('./minutely/controlled_appliances.h5')\n",
    "with pd.HDFStore('./minutely/pv.h5') as store:\n",
    "    # Save each DataFrame with a key\n",
    "    i = 0\n",
    "    for name, group in pv_episodes:\n",
    "        if name.date() == demand[f\"eps_{i}\"].index[-1].date():\n",
    "            store[f'eps_{i}'] = group\n",
    "            i += 1\n",
    "file = pd.HDFStore('./minutely/generation.h5')\n",
    "print(len(file) == len(demand))\n",
    "file.close()\n",
    "demand.close()"
   ],
   "metadata": {
    "collapsed": false,
    "ExecuteTime": {
     "end_time": "2023-12-01T16:46:05.738800760Z",
     "start_time": "2023-12-01T16:46:02.273958843Z"
    }
   },
   "id": "5eac44a03650420f"
  },
  {
   "cell_type": "code",
   "execution_count": 11,
   "outputs": [],
   "source": [],
   "metadata": {
    "collapsed": false,
    "ExecuteTime": {
     "end_time": "2023-12-01T16:46:05.749103330Z",
     "start_time": "2023-12-01T16:46:05.740518618Z"
    }
   },
   "id": "b3c8676ffe3c1b04"
  }
 ],
 "metadata": {
  "kernelspec": {
   "display_name": "Python 3",
   "language": "python",
   "name": "python3"
  },
  "language_info": {
   "codemirror_mode": {
    "name": "ipython",
    "version": 2
   },
   "file_extension": ".py",
   "mimetype": "text/x-python",
   "name": "python",
   "nbconvert_exporter": "python",
   "pygments_lexer": "ipython2",
   "version": "2.7.6"
  }
 },
 "nbformat": 4,
 "nbformat_minor": 5
}
